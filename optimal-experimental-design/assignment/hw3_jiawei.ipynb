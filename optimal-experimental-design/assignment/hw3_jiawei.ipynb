{
 "cells": [
  {
   "cell_type": "markdown",
   "id": "silent-eagle",
   "metadata": {},
   "source": [
    "# Optimal Experimental Design for Conformer Search\n",
    "\n",
    "Conformers define the different structures with the same bonding graph but different coordinates. Finding the lowest-energy conformation is a common task in molecular modeling, and one that often requires significant time to solve. This homework is designed to explore the use of optimal experimental design techniques, which have recently emerged as a potential tool for accelerating the conformer search."
   ]
  },
  {
   "cell_type": "code",
   "execution_count": 1,
   "id": "extraordinary-centre",
   "metadata": {
    "ExecuteTime": {
     "end_time": "2021-02-28T00:38:22.194545Z",
     "start_time": "2021-02-28T00:38:02.569535Z"
    }
   },
   "outputs": [],
   "source": [
    "import warnings\n",
    "warnings.simplefilter('ignore')\n",
    "from matplotlib import pyplot as plt\n",
    "from sklearn.ensemble import BaggingRegressor\n",
    "from sklearn.model_selection import train_test_split\n",
    "from sklearn.neighbors import KNeighborsRegressor\n",
    "from sklearn.base import BaseEstimator\n",
    "from sklearn.pipeline import Pipeline\n",
    "from modAL.models import CommitteeRegressor\n",
    "from modAL.acquisition import max_UCB\n",
    "from rdkit.Chem import AllChem, DataStructs\n",
    "from sklearn.gaussian_process import GaussianProcessRegressor\n",
    "from modAL.models import BayesianOptimizer\n",
    "from sklearn.gaussian_process import kernels\n",
    "from sklearn.gaussian_process.kernels import RBF\n",
    "from sklearn.metrics import mean_absolute_error\n",
    "from modAL.acquisition import max_EI\n",
    "from modAL.disagreement import max_std_sampling\n",
    "from rdkit import Chem\n",
    "from tqdm import tqdm\n",
    "import pandas as pd\n",
    "import numpy as np"
   ]
  },
  {
   "cell_type": "markdown",
   "id": "checked-effect",
   "metadata": {},
   "source": [
    "##  Problem 1: Active Learning for $n$-butane"
   ]
  },
  {
   "cell_type": "markdown",
   "id": "greatest-isaac",
   "metadata": {},
   "source": [
    "*Setup: Loading Conformer Data*"
   ]
  },
  {
   "cell_type": "code",
   "execution_count": 2,
   "id": "wooden-irish",
   "metadata": {
    "ExecuteTime": {
     "end_time": "2021-02-28T00:38:22.231995Z",
     "start_time": "2021-02-28T00:38:22.198839Z"
    }
   },
   "outputs": [],
   "source": [
    "butane = pd.read_csv('data/n-butane.csv')"
   ]
  },
  {
   "cell_type": "code",
   "execution_count": 3,
   "id": "framed-relative",
   "metadata": {
    "ExecuteTime": {
     "end_time": "2021-02-28T00:38:22.257049Z",
     "start_time": "2021-02-28T00:38:22.235255Z"
    }
   },
   "outputs": [
    {
     "name": "stdout",
     "output_type": "stream",
     "text": [
      "phi_2:  180.0\n"
     ]
    }
   ],
   "source": [
    "# find the phi_2 that minimize the global energy\n",
    "index_energy_pair = []\n",
    "index = 0\n",
    "for phi2, group in butane.groupby('phi2'):\n",
    "    index_energy_pair.append((group, index, np.mean(group['energy'])))\n",
    "    index += 1\n",
    "index_energy_pair.sort(key=lambda a : a[-1])\n",
    "subset = index_energy_pair[0][0]\n",
    "print('phi_2: ', subset['phi2'].iloc[0])"
   ]
  },
  {
   "cell_type": "markdown",
   "id": "dressed-production",
   "metadata": {},
   "source": [
    "As we can see, the system has an overall lowest energy when $\\phi_2$ is in the \"anti\" configuration. Let's choose this configuration as our subset."
   ]
  },
  {
   "cell_type": "markdown",
   "id": "billion-princess",
   "metadata": {},
   "source": [
    "### Part A: Learning a Potential Enery Surface\n",
    "Our first ingredient is to learn a function that can predict energy as a function of dihedral angles.\n",
    "\n",
    "Dihedral angles are periodic (e.g., 0 and 360 are the same) and we can create a kernel that reflects that by using a periodic kernel:\n",
    "\n",
    "$K(x, y) = \\sum_i \\exp(-2 \\frac{\\sin^2(\\pi (x_i - y_i)^2/p)}{l^2})$\n",
    "\n",
    "We can use this custom kernel with Scikit-Learn's GuassianProcessRegressor by writing it a function to use with the PairwiseKernel class, which accepts custom kernels:"
   ]
  },
  {
   "cell_type": "code",
   "execution_count": 4,
   "id": "instructional-creator",
   "metadata": {
    "ExecuteTime": {
     "end_time": "2021-02-28T00:38:22.263631Z",
     "start_time": "2021-02-28T00:38:22.258991Z"
    }
   },
   "outputs": [],
   "source": [
    "def elementwise_expsine_kernel(x, y, gamma=10, p=360):\n",
    "    \"\"\"Compute the expoonential sine kernel\n",
    "    \n",
    "    Args:\n",
    "        x, y: Coordinates to be compared\n",
    "        gamma: Length scale of the kernel\n",
    "        p: Periodicity of the kernel\n",
    "    Returns:\n",
    "        Kernel metric\n",
    "    \"\"\"\n",
    "    \n",
    "    # Compute the distances between the two points\n",
    "    dists = np.subtract(x, y)\n",
    "    \n",
    "    # Compute the sine with a periodicity of p\n",
    "    sine_dists = np.sin(np.pi * dists / p)\n",
    "    \n",
    "    # Return exponential of the squared kernel\n",
    "    return np.sum(np.exp(-2 * np.power(sine_dists, 2) / gamma ** 2), axis=-1)\n",
    "\n",
    "gpr = GaussianProcessRegressor(\n",
    "    kernel=kernels.PairwiseKernel(metric=elementwise_expsine_kernel),\n",
    "    # Starts using different guesses for parameters to achieve better fitting\n",
    "    n_restarts_optimizer=4, \n",
    ")\n",
    "\n",
    "kernel = 1.0 * RBF(1.0)\n",
    "# kernel = RBF()\n",
    "rbf = GaussianProcessRegressor(\n",
    "    kernel=kernel,\n",
    "    n_restarts_optimizer=16,\n",
    ")"
   ]
  },
  {
   "cell_type": "code",
   "execution_count": 5,
   "id": "theoretical-inclusion",
   "metadata": {
    "ExecuteTime": {
     "end_time": "2021-02-28T00:38:22.269754Z",
     "start_time": "2021-02-28T00:38:22.265118Z"
    }
   },
   "outputs": [],
   "source": [
    "seed_data, explore_data = train_test_split(subset, train_size=2)"
   ]
  },
  {
   "cell_type": "code",
   "execution_count": 6,
   "id": "pleasant-stand",
   "metadata": {
    "ExecuteTime": {
     "end_time": "2021-02-28T00:38:22.555986Z",
     "start_time": "2021-02-28T00:38:22.271161Z"
    }
   },
   "outputs": [
    {
     "data": {
      "text/plain": [
       "GaussianProcessRegressor(kernel=1**2 * RBF(length_scale=1),\n",
       "                         n_restarts_optimizer=16)"
      ]
     },
     "execution_count": 6,
     "metadata": {},
     "output_type": "execute_result"
    }
   ],
   "source": [
    "gpr.fit(np.vstack(seed_data['phi1']), seed_data['energy'])\n",
    "rbf.fit(np.vstack(seed_data['phi1']), seed_data['energy'])"
   ]
  },
  {
   "cell_type": "markdown",
   "id": "perfect-retailer",
   "metadata": {},
   "source": [
    "- Plot the mean and standard deviations of the predictions as a function of phi_1. Which function is a better approximator of the energy? (You may want to run the fitting multiple times to avoid basing your conclusion on haphazard, while you only need to show two plots in the notebook, one for each kernel, respectively)."
   ]
  },
  {
   "cell_type": "code",
   "execution_count": 7,
   "id": "perfect-messenger",
   "metadata": {
    "ExecuteTime": {
     "end_time": "2021-02-28T00:38:23.510116Z",
     "start_time": "2021-02-28T00:38:22.558659Z"
    }
   },
   "outputs": [
    {
     "data": {
      "text/plain": [
       "<matplotlib.legend.Legend at 0x7f19ecd8d5d0>"
      ]
     },
     "execution_count": 7,
     "metadata": {},
     "output_type": "execute_result"
    },
    {
     "data": {
      "image/png": "[encoded data removed]",
      "text/plain": [
       "<Figure size 720x576 with 2 Axes>"
      ]
     },
     "metadata": {
      "needs_background": "light"
     },
     "output_type": "display_data"
    }
   ],
   "source": [
    "fig, ax = plt.subplots(2, 1, figsize=(10, 8))\n",
    "\n",
    "ax1 = ax[0]\n",
    "ax1.plot(subset['phi1'], subset['energy'], 'k--', label='True')\n",
    "\n",
    "y_pred, y_std = gpr.predict(np.vstack(subset['phi1']), return_std=True)\n",
    "ax1.plot(subset['phi1'], gpr.predict(np.vstack(subset['phi1'])), label='Fit')\n",
    "ax1.fill_between(np.vstack(subset['phi1'])[:, 0], y_pred - y_std, y_pred + y_std, alpha=0.5)\n",
    "ax1.scatter(np.vstack(seed_data['phi1']), seed_data['energy'], label='Training Points', color='darkblue')\n",
    "\n",
    "ax1.set_xlabel(r'$\\phi_{1}$')\n",
    "ax1.set_ylabel('energy_gpr')\n",
    "ax1.legend()\n",
    "\n",
    "ax2 = ax[1]\n",
    "ax2.plot(subset['phi1'], subset['energy'], 'k--', label='True')\n",
    "\n",
    "y_pred, y_std = rbf.predict(np.vstack(subset['phi1']), return_std=True)\n",
    "ax2.plot(subset['phi1'], rbf.predict(np.vstack(subset['phi1'])), label='Fit')\n",
    "ax2.fill_between(np.vstack(subset['phi1'])[:, 0], y_pred - y_std, y_pred + y_std, alpha=0.5)\n",
    "ax2.scatter(np.vstack(seed_data['phi1']), seed_data['energy'], label='Training Points', color='darkblue')\n",
    "\n",
    "ax2.set_xlabel(r'$\\phi_{1}$')\n",
    "ax2.set_ylabel('energy_rbf')\n",
    "ax2.legend()"
   ]
  },
  {
   "cell_type": "markdown",
   "id": "accomplished-camel",
   "metadata": {},
   "source": [
    "GaussianProcessRegressor based on elementwise_expsine_kernel is a better approximator of energy "
   ]
  },
  {
   "cell_type": "markdown",
   "id": "elegant-fishing",
   "metadata": {},
   "source": [
    "Next, go back to the original 2D dataset with no constraint on phi_2. Train a series of models with each of the two kernels, with randomly-selected subsets of 3, 10, 30, and 100 points (in all there should be 2 x 4 models). Measure the error on the full dataset.\n",
    "\n",
    "- Plot the error in the Sine kernel model and the RBF kernel model as a function of training set size. Which model performs better? Explain why."
   ]
  },
  {
   "cell_type": "code",
   "execution_count": 8,
   "id": "novel-honduras",
   "metadata": {
    "ExecuteTime": {
     "end_time": "2021-02-28T00:39:19.146334Z",
     "start_time": "2021-02-28T00:38:23.515083Z"
    }
   },
   "outputs": [
    {
     "name": "stderr",
     "output_type": "stream",
     "text": [
      "100%|██████████| 4/4 [00:55<00:00, 13.90s/it]\n"
     ]
    }
   ],
   "source": [
    "train_sizes = [3, 10, 30, 100]\n",
    "results = []\n",
    "for train_size in tqdm(train_sizes):\n",
    "    seed_data, explore_data = train_test_split(butane, train_size=train_size)\n",
    "    gpr.fit(np.vstack(seed_data['phi1']), seed_data['energy'])\n",
    "    gpr_pred = gpr.predict(np.vstack(butane['phi1']))\n",
    "    results.append({\n",
    "        'model': 'gpr',\n",
    "        'train_size': train_size,\n",
    "        'MAE': mean_absolute_error(gpr_pred, butane['energy']),\n",
    "    }\n",
    "    )\n",
    "    rbf.fit(np.vstack(seed_data['phi1']), seed_data['energy'])\n",
    "    rbf_pred = rbf.predict(np.vstack(butane['phi1']))\n",
    "    results.append({\n",
    "        'model': 'rbf',\n",
    "        'train_size': train_size,\n",
    "        'MAE': mean_absolute_error(rbf_pred, butane['energy']),\n",
    "    }\n",
    "    )\n",
    "results = pd.DataFrame(results)"
   ]
  },
  {
   "cell_type": "code",
   "execution_count": 9,
   "id": "comfortable-breathing",
   "metadata": {
    "ExecuteTime": {
     "end_time": "2021-02-28T00:39:19.287801Z",
     "start_time": "2021-02-28T00:39:19.148064Z"
    }
   },
   "outputs": [
    {
     "data": {
      "text/plain": [
       "<matplotlib.legend.Legend at 0x7f19f1c08d50>"
      ]
     },
     "execution_count": 9,
     "metadata": {},
     "output_type": "execute_result"
    },
    {
     "data": {
      "image/png": "[encoded data removed]",
      "text/plain": [
       "<Figure size 432x288 with 1 Axes>"
      ]
     },
     "metadata": {
      "needs_background": "light"
     },
     "output_type": "display_data"
    }
   ],
   "source": [
    "fig, ax = plt.subplots()\n",
    "for model, group in results.groupby('model'):\n",
    "    ax.plot(group['train_size'], group['MAE'], '--o', label=model)\n",
    "ax.set_xlabel('train_size')\n",
    "ax.set_ylabel('MAE')\n",
    "ax.legend()"
   ]
  },
  {
   "cell_type": "markdown",
   "id": "alien-violin",
   "metadata": {},
   "source": [
    "After running the test for multiple times, it turns out that Sine kernel models works better. The reason is that Sine kernel reflects periodic property in the model, which is more physical, while RBF kernel doesn't."
   ]
  },
  {
   "cell_type": "markdown",
   "id": "affiliated-fighter",
   "metadata": {},
   "source": [
    "### Part B: Bayesian Optimization for Conformer Search"
   ]
  },
  {
   "cell_type": "code",
   "execution_count": 10,
   "id": "signed-julian",
   "metadata": {
    "ExecuteTime": {
     "end_time": "2021-02-28T00:39:39.874397Z",
     "start_time": "2021-02-28T00:39:19.288919Z"
    }
   },
   "outputs": [
    {
     "name": "stderr",
     "output_type": "stream",
     "text": [
      "100%|██████████| 16/16 [00:20<00:00,  1.28s/it]\n"
     ]
    }
   ],
   "source": [
    "initial_data = butane.sample(4)\n",
    "input_cols = ['phi1', 'phi2']\n",
    "optimizer = BayesianOptimizer(\n",
    "    estimator=gpr,\n",
    "    X_training=initial_data[input_cols].values,  # .values removes Panda's indices\n",
    "    # negative because modAL is designed to maximize a function\n",
    "    y_training=-initial_data['energy'].values,  \n",
    "    query_strategy=max_EI\n",
    ")\n",
    "for i in tqdm(range(16)):\n",
    "    optimizer.predict(butane[input_cols].values)\n",
    "    chosen_inds, chosen_coords = optimizer.query(butane[input_cols].values)\n",
    "    optimizer.teach(\n",
    "        butane[input_cols].iloc[chosen_inds].values, \n",
    "        -butane['energy'].iloc[chosen_inds].values\n",
    "    )"
   ]
  },
  {
   "cell_type": "code",
   "execution_count": 11,
   "id": "preliminary-direction",
   "metadata": {
    "ExecuteTime": {
     "end_time": "2021-02-28T00:39:58.811298Z",
     "start_time": "2021-02-28T00:39:39.876067Z"
    }
   },
   "outputs": [
    {
     "name": "stderr",
     "output_type": "stream",
     "text": [
      "100%|██████████| 16/16 [00:18<00:00,  1.18s/it]\n"
     ]
    }
   ],
   "source": [
    "# initial_data = butane.sample(4)\n",
    "optimizer_max_std = BayesianOptimizer(\n",
    "    estimator=gpr,\n",
    "    X_training=initial_data[input_cols].values,  # .values removes Panda's indices\n",
    "    # negative because modAL is designed to maximize a function\n",
    "    y_training=-initial_data['energy'].values,  \n",
    "    query_strategy=max_std_sampling\n",
    ")\n",
    "for i in tqdm(range(16)):\n",
    "    optimizer_max_std.predict(butane[input_cols].values)\n",
    "    chosen_inds, chosen_coords = optimizer_max_std.query(butane[input_cols].values)\n",
    "    optimizer_max_std.teach(\n",
    "        butane[input_cols].iloc[chosen_inds].values, \n",
    "        -butane['energy'].iloc[chosen_inds].values\n",
    "    )"
   ]
  },
  {
   "cell_type": "code",
   "execution_count": 12,
   "id": "grave-first",
   "metadata": {
    "ExecuteTime": {
     "end_time": "2021-02-28T00:39:58.972208Z",
     "start_time": "2021-02-28T00:39:58.812693Z"
    }
   },
   "outputs": [
    {
     "data": {
      "text/plain": [
       "<matplotlib.legend.Legend at 0x7f19ec3a5050>"
      ]
     },
     "execution_count": 12,
     "metadata": {},
     "output_type": "execute_result"
    },
    {
     "data": {
      "image/png": "[encoded data removed]",
      "text/plain": [
       "<Figure size 432x288 with 1 Axes>"
      ]
     },
     "metadata": {
      "needs_background": "light"
     },
     "output_type": "display_data"
    }
   ],
   "source": [
    "fig, ax = plt.subplots()\n",
    "\n",
    "ax.plot(-1 * np.maximum.accumulate(optimizer.y_training), label='max_EI')\n",
    "ax.plot(-1 * np.maximum.accumulate(optimizer_max_std.y_training), label='max_std_sampling')\n",
    "\n",
    "ax.set_xlim(ax.get_xlim())\n",
    "ax.plot(ax.get_xlim(), [butane['energy'].min()] * 2, 'k--', label='Best')\n",
    "\n",
    "ax.set_ylabel('Min Energy')\n",
    "ax.set_xlabel('Step')\n",
    "        \n",
    "ax.legend()"
   ]
  },
  {
   "cell_type": "markdown",
   "id": "corresponding-monthly",
   "metadata": {},
   "source": [
    "Maximum expected improvement seems to find the lower energy (higher minus-energy) more quickly as training process going on. The reason is that: \n",
    "- max Expected improvement is designed to query new data point that has a higher expected value, which, in our case, is higher minus-energy. As for max_std, it is used to sample point that has higher standard deviation, which is more likely to be used in predicting the overall target function."
   ]
  },
  {
   "cell_type": "markdown",
   "id": "disabled-above",
   "metadata": {},
   "source": [
    "##  Problem 2: Optimizing cysteine\n",
    "**Setup: Global optimization with for cysteine structure**\n",
    "\n",
    "Our background notebook and utility functions define the data and functions we need to quickly evaluate the energy of a cysteine molecule given the dihedral angles.\n",
    "\n",
    "First, load them in using pickle"
   ]
  },
  {
   "cell_type": "code",
   "execution_count": 13,
   "id": "alone-tiffany",
   "metadata": {
    "ExecuteTime": {
     "end_time": "2021-02-28T00:40:28.154954Z",
     "start_time": "2021-02-28T00:39:58.973291Z"
    }
   },
   "outputs": [],
   "source": [
    "import pickle as pkl\n",
    "\n",
    "# Molecular structure of cysteine\n",
    "with open('data/cysteine-atoms.pkl', 'rb') as fp:\n",
    "    cysteine = pkl.load(fp)\n",
    "\n",
    "# Definitions for the dihedral angles of cysteine\n",
    "with open('data/dihedrals.pkl', 'rb') as fp:\n",
    "    dihedrals = pkl.load(fp)"
   ]
  },
  {
   "cell_type": "markdown",
   "id": "mathematical-wealth",
   "metadata": {},
   "source": [
    "Now, define a function to evaluate the energy given new dihedral angles"
   ]
  },
  {
   "cell_type": "code",
   "execution_count": 14,
   "id": "confident-mileage",
   "metadata": {
    "ExecuteTime": {
     "end_time": "2021-02-28T00:40:28.163222Z",
     "start_time": "2021-02-28T00:40:28.158081Z"
    }
   },
   "outputs": [],
   "source": [
    "from confutils import set_dihedrals_and_relax\n",
    "\n",
    "def evaluate_energy(angles):\n",
    "    \"\"\"Compute the energy of a cysteine molecule given dihedral angles\n",
    "    \n",
    "    Args:\n",
    "        angles: List of dihedral angles\n",
    "    Returns:\n",
    "        energy of the structure\n",
    "    \"\"\"\n",
    "    return set_dihedrals_and_relax(\n",
    "        cysteine,\n",
    "        zip(angles, dihedrals)\n",
    "    )"
   ]
  },
  {
   "cell_type": "markdown",
   "id": "altered-attention",
   "metadata": {},
   "source": [
    "We use a simple \"generate random points\" and minimize them strategy. This strategy generates a series of random points, uses a local optimizer (Nelder-Mead) to find the nearby minimum in energy, and then returns a list of all of the points sampled for the optimizer's consideration. We use the optimizer's model rather than the evaluate_energy function so that this function is very fast."
   ]
  },
  {
   "cell_type": "code",
   "execution_count": 15,
   "id": "civic-mailing",
   "metadata": {
    "ExecuteTime": {
     "end_time": "2021-02-28T00:40:28.174542Z",
     "start_time": "2021-02-28T00:40:28.166123Z"
    }
   },
   "outputs": [],
   "source": [
    "from scipy.optimize import minimize\n",
    "import numpy as np\n",
    "\n",
    "def get_search_space(optimizer: BayesianOptimizer, n_samples: int = 32):\n",
    "    \"\"\"Generate many samples by attempting to find the minima using a multi-start local optimizer\n",
    "    \n",
    "    Args: \n",
    "        optimizer: Optimizer being used to perform Bayesian optimization\n",
    "        n_samples: Number of initial starts of the optimizer to use. \n",
    "            Will return all points sampled by the optimizer\n",
    "    Returns:\n",
    "        List of points to be considered\n",
    "    \"\"\"\n",
    "    \n",
    "    # Generate random starting points\n",
    "    init_points = np.random.uniform(0, 360, size=(n_samples, 5))\n",
    "    \n",
    "    # Use local optimization to find the minima near these\n",
    "    points_sampled = []  # Will hold all samples tested by the optimizer\n",
    "    for init_point in init_points:\n",
    "        minimize(\n",
    "            # Define the function to be optimized\n",
    "            #  The optimizer requires a 2D input and returns the negative energy\n",
    "            #  We make our inputs 2D and compute the negative energy with a lambda function\n",
    "            lambda x: -optimizer.predict([x]),  # Model predicts the negative energy and requires a 2D array,\n",
    "            init_point,  # Initial guess\n",
    "            method='nelder-mead',  # A derivative-free optimizer\n",
    "             # Stores the points sampled by the optimizer at each step in \"points_sampled\"\n",
    "            callback=points_sampled.append\n",
    "        )\n",
    "    \n",
    "    # Combine the results from the optimizer with the initial points sampled\n",
    "    all_points = np.vstack([\n",
    "        init_points,\n",
    "        *points_sampled\n",
    "    ])\n",
    "    return all_points"
   ]
  },
  {
   "cell_type": "markdown",
   "id": "reasonable-camping",
   "metadata": {},
   "source": [
    "### Part A: Building a global optimization algorithm\n",
    "Generate a set of 4 initial points where the values for each of the 5 dihedrals are chosen randomly from between 0 and 360 degrees (HINT use np.random.uniform).\n",
    "\n",
    "Compute their energy and use them to create a Bayesian optimizer with the EI query strategy.\n",
    "\n",
    "Write a loop that follows the following procedure:\n",
    "\n",
    "Use the get_search_space function to create a series of points to be sampled\n",
    "Select the best points to query with the optimizer\n",
    "Evaluate the energy of the best points using evaluate_energy so that the results are more accurate, with reasonable sacrifice in efficiency\n",
    "Add the best points and new energies to the training set of the optimizer\n",
    "Run the loop 32 times to try to find the lowest energy conformer. This may take a half hour.\n",
    "\n",
    "Plot the energy of each sampled point as a function of step. Describe the energies of the conformers compared to that of the one produced by OpenBabel ($E = -19641.7084$ Ha)"
   ]
  },
  {
   "cell_type": "code",
   "execution_count": 16,
   "id": "documentary-ordinary",
   "metadata": {
    "ExecuteTime": {
     "end_time": "2021-02-28T00:40:47.097511Z",
     "start_time": "2021-02-28T00:40:28.176966Z"
    }
   },
   "outputs": [
    {
     "name": "stderr",
     "output_type": "stream",
     "text": [
      "100%|██████████| 4/4 [00:18<00:00,  4.73s/it]\n"
     ]
    }
   ],
   "source": [
    "phis = np.random.uniform(0, 360, size=(4, 5))  # Random confomers\n",
    "energies = np.array([ evaluate_energy(phi) for phi in tqdm(phis) ])"
   ]
  },
  {
   "cell_type": "code",
   "execution_count": 17,
   "id": "silver-disney",
   "metadata": {
    "ExecuteTime": {
     "end_time": "2021-02-28T00:40:47.284679Z",
     "start_time": "2021-02-28T00:40:47.098970Z"
    }
   },
   "outputs": [],
   "source": [
    "optimizer = BayesianOptimizer(\n",
    "    estimator=gpr,\n",
    "    X_training=phis,  # .values removes Panda's indices\n",
    "    # negative because modAL is designed to maximize a function\n",
    "    y_training=-energies,  \n",
    "    query_strategy=max_EI\n",
    ")"
   ]
  },
  {
   "cell_type": "code",
   "execution_count": 18,
   "id": "sorted-meaning",
   "metadata": {
    "ExecuteTime": {
     "end_time": "2021-02-28T00:50:04.455374Z",
     "start_time": "2021-02-28T00:40:47.286254Z"
    }
   },
   "outputs": [
    {
     "name": "stderr",
     "output_type": "stream",
     "text": [
      "100%|██████████| 32/32 [09:17<00:00, 17.41s/it]\n"
     ]
    }
   ],
   "source": [
    "for i in tqdm(range(32)):\n",
    "    points = get_search_space(optimizer=optimizer)\n",
    "    chosen_inds, chosen_coords = optimizer.query(points)\n",
    "    optimizer.teach(\n",
    "        points[chosen_inds], \n",
    "        -1 * np.array([evaluate_energy(points[chosen_inds].flatten())])\n",
    "    ) "
   ]
  },
  {
   "cell_type": "code",
   "execution_count": 19,
   "id": "different-minnesota",
   "metadata": {
    "ExecuteTime": {
     "end_time": "2021-02-28T00:50:04.623880Z",
     "start_time": "2021-02-28T00:50:04.457162Z"
    }
   },
   "outputs": [
    {
     "data": {
      "text/plain": [
       "<matplotlib.legend.Legend at 0x7f192e453150>"
      ]
     },
     "execution_count": 19,
     "metadata": {},
     "output_type": "execute_result"
    },
    {
     "data": {
      "image/png": "[encoded data removed]",
      "text/plain": [
       "<Figure size 432x288 with 1 Axes>"
      ]
     },
     "metadata": {
      "needs_background": "light"
     },
     "output_type": "display_data"
    }
   ],
   "source": [
    "fig, ax = plt.subplots()\n",
    "\n",
    "ax.plot(-1 * np.maximum.accumulate(optimizer.y_training), label='max_EI')\n",
    "\n",
    "ax.set_xlim(ax.get_xlim())\n",
    "ax.plot(ax.get_xlim(), [-19641.7084] * 2, 'k--', label='OpenBabel')\n",
    "\n",
    "ax.set_ylabel('Min Energy / Ha')\n",
    "ax.set_xlabel('Step')\n",
    "        \n",
    "ax.legend()"
   ]
  },
  {
   "cell_type": "code",
   "execution_count": null,
   "id": "twenty-bridges",
   "metadata": {},
   "outputs": [],
   "source": []
  }
 ],
 "metadata": {
  "kernelspec": {
   "display_name": "Python 3",
   "language": "python",
   "name": "python3"
  },
  "language_info": {
   "codemirror_mode": {
    "name": "ipython",
    "version": 3
   },
   "file_extension": ".py",
   "mimetype": "text/x-python",
   "name": "python",
   "nbconvert_exporter": "python",
   "pygments_lexer": "ipython3",
   "version": "3.7.10"
  },
  "toc": {
   "base_numbering": 1,
   "nav_menu": {},
   "number_sections": true,
   "sideBar": true,
   "skip_h1_title": false,
   "title_cell": "Table of Contents",
   "title_sidebar": "Contents",
   "toc_cell": false,
   "toc_position": {},
   "toc_section_display": true,
   "toc_window_display": false
  },
  "varInspector": {
   "cols": {
    "lenName": 16,
    "lenType": 16,
    "lenVar": 40
   },
   "kernels_config": {
    "python": {
     "delete_cmd_postfix": "",
     "delete_cmd_prefix": "del ",
     "library": "var_list.py",
     "varRefreshCmd": "print(var_dic_list())"
    },
    "r": {
     "delete_cmd_postfix": ") ",
     "delete_cmd_prefix": "rm(",
     "library": "var_list.r",
     "varRefreshCmd": "cat(var_dic_list()) "
    }
   },
   "types_to_exclude": [
    "module",
    "function",
    "builtin_function_or_method",
    "instance",
    "_Feature"
   ],
   "window_display": false
  }
 },
 "nbformat": 4,
 "nbformat_minor": 5
}
