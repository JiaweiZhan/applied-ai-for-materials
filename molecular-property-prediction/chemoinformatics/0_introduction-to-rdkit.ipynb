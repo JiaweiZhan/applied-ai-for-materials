{
 "cells": [
  {
   "cell_type": "markdown",
   "metadata": {},
   "source": [
    "# Working with Chemical Data\n",
    "As we discussed in our lecture, using computers to manipulate data about molecules goes [back to the infancy of modern computing.](https://pubs.acs.org/doi/abs/10.1021/cen-v030n034.p3523)\n",
    "This notebook is designed to show you that tools to use computers have, indeed, evolved rapidly alongside computing.\n",
    "\n",
    "In particular, we focus on RDKit - a library for chemoinformatics that works well with Python."
   ]
  },
  {
   "cell_type": "code",
   "execution_count": 1,
   "metadata": {},
   "outputs": [],
   "source": [
    "%matplotlib inline\n",
    "from matplotlib import pyplot as plt\n",
    "from rdkit import Chem  # Common functionality from RDKit is available in the Chem module\n",
    "from rdkit.Chem import AllChem  # Most of the other functions are in AllChem and other modules\n",
    "import pandas as pd\n",
    "import numpy as np\n",
    "import gzip\n",
    "import json"
   ]
  },
  {
   "cell_type": "markdown",
   "metadata": {},
   "source": [
    "## Parsing Chemical Data\n",
    "The data for our lesson is stored as line-delimited JSON, where each individual record is a dictionary that contains some information about a molecule and a name that captures the molecular structure"
   ]
  },
  {
   "cell_type": "markdown",
   "metadata": {},
   "source": [
    "### Part 1: Getting the Data off Disk\n",
    "We first solve a problem that has nothing to do with chemistry: reading a table into Python."
   ]
  },
  {
   "cell_type": "code",
   "execution_count": 2,
   "metadata": {},
   "outputs": [
    {
     "name": "stdout",
     "output_type": "stream",
     "text": [
      "{\"A\":157.7118,\"B\":157.70997,\"C\":157.70699,\"R2\":35.3641,\"alpha\":13.21,\"atomic_charges\":[-0.535689,0.133921,0.133922,0.133923,0.133923],\"bandgap\":0.5048,\"cv\":6.469,\"filename\":\"dsgdb9nsd_000001.xyz\",\"g\":-40.498597,\"g4mp2_0k\":-40.427662,\"g4mp2_atom\":-0.625083,\"g4mp2_energy\":-40.424791,\"g4mp2_enthalpy\":-40.423846,\"g4mp2_free\":-40.447329,\"g4mp2_hf298\":-17.640634,\"g4mp2_zpe\":0.044097,\"h\":-40.475117,\"homo\":-0.3877,\"inchi_0\":\"InChI=1S\\/CH4\\/h1H4\",\"inchi_1\":\"InChI=1S\\/CH4\\/h1H4\",\"index\":1,\"lumo\":0.1171,\"mu\":0.0,\"n_atom\":5,\"n_electrons\":10,\"n_heavy_atoms\":1,\"smiles_0\":\"C\",\"smiles_1\":\"C\",\"u\":-40.476062,\"u0\":-40.47893,\"u0_atom\":-0.631066,\"xyz\":\"5\\nProperties=species:S:1:pos:R:3 unique_id=40ace0c47819e1c39d44d17bc0e00b4c pbc=\\\"F F F\\\"\\nC      -0.01269814       1.08580416       0.00800100 \\nH       0.00215042      -0.00603132       0.00197612 \\nH       1.01173084       1.46375116       0.00027657 \\nH      -0.54081507       1.44752661      -0.87664372 \\nH      -0.52381363       1.43793264       0.90639729 \\n\",\"zpe\":0.044749,\"in_holdout\":false}\n"
     ]
    }
   ],
   "source": [
    "data_path = '../datasets/qm9.json.gz'\n",
    "with gzip.open(data_path, 'rt') as fp:\n",
    "    record = fp.readline().strip()\n",
    "print(record)"
   ]
  },
  {
   "cell_type": "markdown",
   "metadata": {},
   "source": [
    "We need to do two things to make this data usable. First, take that record and parse it into a Python dictionary."
   ]
  },
  {
   "cell_type": "code",
   "execution_count": 3,
   "metadata": {},
   "outputs": [
    {
     "data": {
      "text/plain": [
       "{'A': 157.7118,\n",
       " 'B': 157.70997,\n",
       " 'C': 157.70699,\n",
       " 'R2': 35.3641,\n",
       " 'alpha': 13.21,\n",
       " 'atomic_charges': [-0.535689, 0.133921, 0.133922, 0.133923, 0.133923],\n",
       " 'bandgap': 0.5048,\n",
       " 'cv': 6.469,\n",
       " 'filename': 'dsgdb9nsd_000001.xyz',\n",
       " 'g': -40.498597,\n",
       " 'g4mp2_0k': -40.427662,\n",
       " 'g4mp2_atom': -0.625083,\n",
       " 'g4mp2_energy': -40.424791,\n",
       " 'g4mp2_enthalpy': -40.423846,\n",
       " 'g4mp2_free': -40.447329,\n",
       " 'g4mp2_hf298': -17.640634,\n",
       " 'g4mp2_zpe': 0.044097,\n",
       " 'h': -40.475117,\n",
       " 'homo': -0.3877,\n",
       " 'inchi_0': 'InChI=1S/CH4/h1H4',\n",
       " 'inchi_1': 'InChI=1S/CH4/h1H4',\n",
       " 'index': 1,\n",
       " 'lumo': 0.1171,\n",
       " 'mu': 0.0,\n",
       " 'n_atom': 5,\n",
       " 'n_electrons': 10,\n",
       " 'n_heavy_atoms': 1,\n",
       " 'smiles_0': 'C',\n",
       " 'smiles_1': 'C',\n",
       " 'u': -40.476062,\n",
       " 'u0': -40.47893,\n",
       " 'u0_atom': -0.631066,\n",
       " 'xyz': '5\\nProperties=species:S:1:pos:R:3 unique_id=40ace0c47819e1c39d44d17bc0e00b4c pbc=\"F F F\"\\nC      -0.01269814       1.08580416       0.00800100 \\nH       0.00215042      -0.00603132       0.00197612 \\nH       1.01173084       1.46375116       0.00027657 \\nH      -0.54081507       1.44752661      -0.87664372 \\nH      -0.52381363       1.43793264       0.90639729 \\n',\n",
       " 'zpe': 0.044749,\n",
       " 'in_holdout': False}"
      ]
     },
     "execution_count": 3,
     "metadata": {},
     "output_type": "execute_result"
    }
   ],
   "source": [
    "json.loads(record)"
   ]
  },
  {
   "cell_type": "markdown",
   "metadata": {},
   "source": [
    "And, second, making it easy to work with a lot of these dictionaries at once.\n",
    "\n",
    "For this purpose, we use [Pandas](https://pandas.pydata.org/docs/user_guide/index.html)."
   ]
  },
  {
   "cell_type": "code",
   "execution_count": 4,
   "metadata": {},
   "outputs": [],
   "source": [
    "data = pd.read_json(data_path, lines=True).head(1000)  # Only get the first 1000 for simplicity"
   ]
  },
  {
   "cell_type": "code",
   "execution_count": 5,
   "metadata": {},
   "outputs": [
    {
     "data": {
      "text/html": [
       "<div>\n",
       "<style scoped>\n",
       "    .dataframe tbody tr th:only-of-type {\n",
       "        vertical-align: middle;\n",
       "    }\n",
       "\n",
       "    .dataframe tbody tr th {\n",
       "        vertical-align: top;\n",
       "    }\n",
       "\n",
       "    .dataframe thead th {\n",
       "        text-align: right;\n",
       "    }\n",
       "</style>\n",
       "<table border=\"1\" class=\"dataframe\">\n",
       "  <thead>\n",
       "    <tr style=\"text-align: right;\">\n",
       "      <th></th>\n",
       "      <th>smiles_0</th>\n",
       "      <th>inchi_0</th>\n",
       "      <th>u</th>\n",
       "    </tr>\n",
       "  </thead>\n",
       "  <tbody>\n",
       "    <tr>\n",
       "      <th>0</th>\n",
       "      <td>C</td>\n",
       "      <td>InChI=1S/CH4/h1H4</td>\n",
       "      <td>-40.476062</td>\n",
       "    </tr>\n",
       "    <tr>\n",
       "      <th>1</th>\n",
       "      <td>N</td>\n",
       "      <td>InChI=1S/H3N/h1H3</td>\n",
       "      <td>-56.523026</td>\n",
       "    </tr>\n",
       "    <tr>\n",
       "      <th>2</th>\n",
       "      <td>O</td>\n",
       "      <td>InChI=1S/H2O/h1H2</td>\n",
       "      <td>-76.401867</td>\n",
       "    </tr>\n",
       "    <tr>\n",
       "      <th>3</th>\n",
       "      <td>C#C</td>\n",
       "      <td>InChI=1S/C2H2/c1-2/h1-2H</td>\n",
       "      <td>-77.305527</td>\n",
       "    </tr>\n",
       "    <tr>\n",
       "      <th>4</th>\n",
       "      <td>C#N</td>\n",
       "      <td>InChI=1S/CHN/c1-2/h1H</td>\n",
       "      <td>-93.409370</td>\n",
       "    </tr>\n",
       "  </tbody>\n",
       "</table>\n",
       "</div>"
      ],
      "text/plain": [
       "  smiles_0                   inchi_0          u\n",
       "0        C         InChI=1S/CH4/h1H4 -40.476062\n",
       "1        N         InChI=1S/H3N/h1H3 -56.523026\n",
       "2        O         InChI=1S/H2O/h1H2 -76.401867\n",
       "3      C#C  InChI=1S/C2H2/c1-2/h1-2H -77.305527\n",
       "4      C#N     InChI=1S/CHN/c1-2/h1H -93.409370"
      ]
     },
     "execution_count": 5,
     "metadata": {},
     "output_type": "execute_result"
    }
   ],
   "source": [
    "data[['smiles_0', 'inchi_0', 'u']].head(5)"
   ]
  },
  {
   "cell_type": "markdown",
   "metadata": {},
   "source": [
    "The above commands read the file from disk ([`read_json`](https://pandas.pydata.org/docs/user_guide/io.html#json)) and then displays a fraction of the table. I display the table to show that this object represents, in a sense, a big table or digital spreadsheet.\n",
    "\n",
    "We'll touch on a few concepts of Pandas throughout these notebooks but I would highly recommend [10 minutes to Pandas](https://pandas.pydata.org/docs/user_guide/10min.html) if you have not used Pandas before."
   ]
  },
  {
   "cell_type": "markdown",
   "metadata": {},
   "source": [
    "### Part 2: Parsing Chemical Structures\n",
    "The molecular structure of each record are recorded as [\"SMILES\"](https://en.wikipedia.org/wiki/Simplified_molecular-input_line-entry_system) and [\"InChI\"](https://en.wikipedia.org/wiki/International_Chemical_Identifier) strings. \n",
    "\n",
    "*Aside*: Both of SMILES and InChI are from a long tradition of methods in chemistry for writing out molecules as a string of printable characters that can be read by computers. \n",
    "The short of it is that SMILES strings are easily human-readable and InChI guarantee a unique string. \n",
    "For example, methanol can be both `CO` or `OC` in SMILES but only `InChI=1S/CH4O/c1-2/h2H,1H3` in InChI. "
   ]
  },
  {
   "cell_type": "markdown",
   "metadata": {},
   "source": [
    "RDKit provides functionality for parsing both. Here, we are going to use the SMILES string to create a molecule object."
   ]
  },
  {
   "cell_type": "code",
   "execution_count": 6,
   "metadata": {},
   "outputs": [
    {
     "data": {
      "image/png": "[encoded data removed]",
      "text/plain": [
       "<rdkit.Chem.rdchem.Mol at 0x7f45b9a9f670>"
      ]
     },
     "execution_count": 6,
     "metadata": {},
     "output_type": "execute_result"
    }
   ],
   "source": [
    "mol = Chem.MolFromSmiles('CCCO')\n",
    "mol"
   ]
  },
  {
   "cell_type": "markdown",
   "metadata": {},
   "source": [
    "If JupyterLab is a recent version, you should see a visual of [1-propanol](https://en.wikipedia.org/wiki/1-Propanol).\n",
    "We will see more about what you can do with `mol` later, but the fact that your computer knew what `CCCO` means is because RDKit can read SMILES.\n",
    "\n",
    "Now, let's parse all of the molecules using Panda's map function. "
   ]
  },
  {
   "cell_type": "code",
   "execution_count": 7,
   "metadata": {},
   "outputs": [],
   "source": [
    "data['mol'] = data['smiles_0'].map(Chem.MolFromSmiles)"
   ]
  },
  {
   "cell_type": "markdown",
   "metadata": {},
   "source": [
    "## Manipulating Molecules\n",
    "Once molecules are parsed, you can make many kinds of queries about them. \n",
    "\n",
    "For now, we use the 1-Propanol molecule from earlier as an example"
   ]
  },
  {
   "cell_type": "markdown",
   "metadata": {},
   "source": [
    "### Basic Functionality\n",
    "RDKit treats the molecule as a Python object and, accordingly, you can interact with it using some functions"
   ]
  },
  {
   "cell_type": "code",
   "execution_count": 8,
   "metadata": {},
   "outputs": [
    {
     "name": "stdout",
     "output_type": "stream",
     "text": [
      "Atom 0 is an C\n",
      "Atom 1 is an C\n",
      "Atom 2 is an C\n",
      "Atom 3 is an O\n"
     ]
    }
   ],
   "source": [
    "for i, a in enumerate(mol.GetAtoms()):\n",
    "    print(f'Atom {i} is an {a.GetSymbol()}')"
   ]
  },
  {
   "cell_type": "markdown",
   "metadata": {},
   "source": [
    "Note that it initially treats the molecule with _implicit_ hydrogrens, which you can add by calling a method from the `Chem` module"
   ]
  },
  {
   "cell_type": "code",
   "execution_count": 9,
   "metadata": {},
   "outputs": [
    {
     "data": {
      "image/png": "[encoded data removed]",
      "text/plain": [
       "<rdkit.Chem.rdchem.Mol at 0x7f453c24ff80>"
      ]
     },
     "execution_count": 9,
     "metadata": {},
     "output_type": "execute_result"
    }
   ],
   "source": [
    "mol = Chem.AddHs(mol)\n",
    "mol"
   ]
  },
  {
   "cell_type": "code",
   "execution_count": 10,
   "metadata": {},
   "outputs": [
    {
     "name": "stdout",
     "output_type": "stream",
     "text": [
      "Atom 0 is an C\n",
      "Atom 1 is an C\n",
      "Atom 2 is an C\n",
      "Atom 3 is an O\n",
      "Atom 4 is an H\n",
      "Atom 5 is an H\n",
      "Atom 6 is an H\n",
      "Atom 7 is an H\n",
      "Atom 8 is an H\n",
      "Atom 9 is an H\n",
      "Atom 10 is an H\n",
      "Atom 11 is an H\n"
     ]
    }
   ],
   "source": [
    "for i, a in enumerate(mol.GetAtoms()):\n",
    "    print(f'Atom {i} is an {a.GetSymbol()}')"
   ]
  },
  {
   "cell_type": "markdown",
   "metadata": {},
   "source": [
    "You can also do more sophisticated things like, find all rings"
   ]
  },
  {
   "cell_type": "code",
   "execution_count": 11,
   "metadata": {},
   "outputs": [
    {
     "data": {
      "image/png": "[encoded data removed]",
      "text/plain": [
       "<rdkit.Chem.rdchem.Mol at 0x7f455b682e40>"
      ]
     },
     "execution_count": 11,
     "metadata": {},
     "output_type": "execute_result"
    }
   ],
   "source": [
    "toluene = Chem.MolFromSmiles('Cc1ccccc1')\n",
    "toluene"
   ]
  },
  {
   "cell_type": "code",
   "execution_count": 12,
   "metadata": {},
   "outputs": [
    {
     "name": "stdout",
     "output_type": "stream",
     "text": [
      "Toluene has 1 ring\n"
     ]
    }
   ],
   "source": [
    "r = toluene.GetRingInfo()\n",
    "print(f'Toluene has {r.NumRings()} ring')"
   ]
  },
  {
   "cell_type": "markdown",
   "metadata": {},
   "source": [
    "You can imagine that RDKit has many capabilities for describing molecules"
   ]
  },
  {
   "cell_type": "markdown",
   "metadata": {},
   "source": [
    "### Descriptors\n",
    "Hence, RDKit is a source of [many different \"descriptors\" for molecules](https://www.rdkit.org/docs/GettingStartedInPython.html#list-of-available-descriptors). We'll demonstrate a few for concepts."
   ]
  },
  {
   "cell_type": "markdown",
   "metadata": {},
   "source": [
    "Some generate `float` or `int` values, which can be directly used by Python"
   ]
  },
  {
   "cell_type": "code",
   "execution_count": 13,
   "metadata": {},
   "outputs": [
    {
     "name": "stdout",
     "output_type": "stream",
     "text": [
      "Toluene has 0 rotatable bonds\n"
     ]
    }
   ],
   "source": [
    "print(f'Toluene has {AllChem.CalcNumRotatableBonds(toluene)} rotatable bonds')"
   ]
  },
  {
   "cell_type": "markdown",
   "metadata": {},
   "source": [
    "Others are in C++ objects which, while similar to Python objects, should be converted to a Python standard type.\n",
    "\n",
    "*Aside*: This has to do with parts of RDKit being written in C++. "
   ]
  },
  {
   "cell_type": "code",
   "execution_count": 14,
   "metadata": {},
   "outputs": [
    {
     "data": {
      "text/plain": [
       "<rdkit.rdBase._vectd at 0x7f4550cf3bd0>"
      ]
     },
     "execution_count": 14,
     "metadata": {},
     "output_type": "execute_result"
    }
   ],
   "source": [
    "r = AllChem.BCUT2D(mol)\n",
    "r"
   ]
  },
  {
   "cell_type": "markdown",
   "metadata": {},
   "source": [
    "### Fingerprints\n",
    "Another class of descriptor are \"fingerprints,\" which seek to encode the entire molecule as a fixed length vector of bits. RDKit [implements a few of these](https://www.rdkit.org/docs/GettingStartedInPython.html#list-of-available-fingerprints)"
   ]
  },
  {
   "cell_type": "code",
   "execution_count": 15,
   "metadata": {},
   "outputs": [
    {
     "data": {
      "text/plain": [
       "<rdkit.DataStructs.cDataStructs.ExplicitBitVect at 0x7f455b668c60>"
      ]
     },
     "execution_count": 15,
     "metadata": {},
     "output_type": "execute_result"
    }
   ],
   "source": [
    "bv = AllChem.GetMorganFingerprintAsBitVect(mol, 4, 16)\n",
    "bv"
   ]
  },
  {
   "cell_type": "code",
   "execution_count": 16,
   "metadata": {},
   "outputs": [
    {
     "data": {
      "text/plain": [
       "array([0, 1, 1, 1, 1, 1, 0, 1, 0, 0, 1, 0, 0, 1, 0, 1])"
      ]
     },
     "execution_count": 16,
     "metadata": {},
     "output_type": "execute_result"
    }
   ],
   "source": [
    "np.asarray(bv)"
   ]
  },
  {
   "cell_type": "markdown",
   "metadata": {},
   "source": [
    "As we will see later, both fingerprints and descriptors provide complementary routes for training machine learning models."
   ]
  },
  {
   "cell_type": "code",
   "execution_count": null,
   "metadata": {},
   "outputs": [],
   "source": []
  }
 ],
 "metadata": {
  "kernelspec": {
   "display_name": "Python 3",
   "language": "python",
   "name": "python3"
  },
  "language_info": {
   "codemirror_mode": {
    "name": "ipython",
    "version": 3
   },
   "file_extension": ".py",
   "mimetype": "text/x-python",
   "name": "python",
   "nbconvert_exporter": "python",
   "pygments_lexer": "ipython3",
   "version": "3.7.9"
  }
 },
 "nbformat": 4,
 "nbformat_minor": 4
}
