{
 "cells": [
  {
   "cell_type": "markdown",
   "id": "based-promotion",
   "metadata": {},
   "source": [
    "Load necessary libraries"
   ]
  },
  {
   "cell_type": "code",
   "execution_count": 54,
   "id": "corrected-roads",
   "metadata": {},
   "outputs": [],
   "source": [
    "%matplotlib inline\n",
    "from matplotlib import pyplot as plt\n",
    "from sklearn.pipeline import Pipeline\n",
    "from sklearn.preprocessing import StandardScaler\n",
    "from sklearn.decomposition import PCA\n",
    "from sklearn.model_selection import train_test_split\n",
    "from sklearn.linear_model import LassoCV\n",
    "from sklearn.ensemble import RandomForestRegressor\n",
    "from sklearn.metrics import r2_score, mean_absolute_error\n",
    "from mordred import Calculator, descriptors\n",
    "from rdkit import Chem\n",
    "from sklearn.utils import shuffle\n",
    "import pandas as pd\n",
    "import numpy as np"
   ]
  },
  {
   "cell_type": "markdown",
   "id": "compound-transportation",
   "metadata": {},
   "source": [
    "First, load the full subset of QM9 available through our GitHub and compute features using Mordred. You will need to convert all data to a float (see DataFrame.astype) and drop missing values, but do not use any other dimensionality reduction. Once complete, make a test set of 2000 molecules"
   ]
  },
  {
   "cell_type": "code",
   "execution_count": 2,
   "id": "framed-european",
   "metadata": {},
   "outputs": [
    {
     "name": "stdout",
     "output_type": "stream",
     "text": [
      "Loaded 25000 molecules\n"
     ]
    }
   ],
   "source": [
    "data = pd.read_json('../datasets/qm9.json.gz', lines=True)  # Do not need the full set to make a point.\n",
    "print(f'Loaded {len(data)} molecules')"
   ]
  },
  {
   "cell_type": "code",
   "execution_count": 3,
   "id": "mathematical-poetry",
   "metadata": {},
   "outputs": [
    {
     "name": "stderr",
     "output_type": "stream",
     "text": [
      "100%|██████████| 25000/25000 [05:20<00:00, 77.92it/s] \n"
     ]
    }
   ],
   "source": [
    "data['mol'] = data['smiles_0'].apply(Chem.MolFromSmiles)\n",
    "calc = Calculator(descriptors, ignore_3D=True)\n",
    "desc = calc.pandas(data['mol'])"
   ]
  },
  {
   "cell_type": "code",
   "execution_count": 4,
   "id": "critical-details",
   "metadata": {},
   "outputs": [
    {
     "name": "stdout",
     "output_type": "stream",
     "text": [
      "Computed 1613 descriptors for 25000 molecules\n"
     ]
    }
   ],
   "source": [
    "print(f'Computed {len(desc.columns)} descriptors for {len(desc)} molecules')"
   ]
  },
  {
   "cell_type": "markdown",
   "id": "gorgeous-vietnam",
   "metadata": {},
   "source": [
    "Convert all the data to float"
   ]
  },
  {
   "cell_type": "code",
   "execution_count": 6,
   "id": "assisted-uniform",
   "metadata": {},
   "outputs": [],
   "source": [
    "for column in desc.columns:\n",
    "    desc[column] = pd.to_numeric(desc[column], errors='coerce')"
   ]
  },
  {
   "cell_type": "code",
   "execution_count": 7,
   "id": "compact-upset",
   "metadata": {},
   "outputs": [
    {
     "name": "stdout",
     "output_type": "stream",
     "text": [
      "Found 546 columns with missing values\n"
     ]
    }
   ],
   "source": [
    "missing_values = desc.isnull().any()\n",
    "print(f'Found {missing_values.sum()} columns with missing values')"
   ]
  },
  {
   "cell_type": "code",
   "execution_count": 8,
   "id": "broad-lending",
   "metadata": {},
   "outputs": [
    {
     "name": "stdout",
     "output_type": "stream",
     "text": [
      "New shape: (25000, 1067)\n"
     ]
    }
   ],
   "source": [
    "desc = desc.loc[:, ~missing_values]  # Gets only rows that do not (~ means not) have missing values\n",
    "print(f'New shape: {desc.shape}')"
   ]
  },
  {
   "cell_type": "markdown",
   "id": "aggregate-rubber",
   "metadata": {},
   "source": [
    "make a test set of 2000 molecules"
   ]
  },
  {
   "cell_type": "code",
   "execution_count": 13,
   "id": "acoustic-webmaster",
   "metadata": {},
   "outputs": [],
   "source": [
    "train_data, test_data, train_desc, test_desc = train_test_split(data, desc, test_size=0.08)"
   ]
  },
  {
   "cell_type": "code",
   "execution_count": 20,
   "id": "remarkable-linux",
   "metadata": {},
   "outputs": [],
   "source": [
    "train_data_sets = []\n",
    "train_desc_sets = []\n",
    "train_set_sizes = [10, 100, 1000, 10000]\n",
    "for t in train_set_sizes:\n",
    "    train_data_, train_desc_ = shuffle(train_data, train_desc, n_samples=t)\n",
    "    train_data_sets.append(train_data_)\n",
    "    train_desc_sets.append(train_desc_)"
   ]
  },
  {
   "cell_type": "markdown",
   "id": "approved-ceremony",
   "metadata": {},
   "source": [
    "Train a LassoCV model using the features ***with*** reducing the dimensionality to 8 features using PCA"
   ]
  },
  {
   "cell_type": "code",
   "execution_count": 34,
   "id": "frank-finnish",
   "metadata": {},
   "outputs": [],
   "source": [
    "model_with_pca = Pipeline([\n",
    "    ('scale', StandardScaler()),\n",
    "    ('pca', PCA(n_components=8)),\n",
    "    ('lasso', LassoCV())\n",
    "])"
   ]
  },
  {
   "cell_type": "code",
   "execution_count": 46,
   "id": "soviet-trust",
   "metadata": {},
   "outputs": [],
   "source": [
    "results = []\n",
    "test_data = test_data.copy()  # Avoids some pandas issues\n",
    "for index, t in enumerate(train_set_sizes):\n",
    "    test_data['8-ncomp-model-'+str(t)] = model_with_pca.fit(train_desc_sets[index], train_data_sets[index]['bandgap']).predict(test_desc)\n",
    "    results.append({\n",
    "                'train_size': t,\n",
    "                'mae': mean_absolute_error(test_data['bandgap'], test_data['8-ncomp-model-'+str(t)])\n",
    "            })\n",
    "results = pd.DataFrame(results)"
   ]
  },
  {
   "cell_type": "markdown",
   "id": "ceramic-program",
   "metadata": {},
   "source": [
    "Train a LassoCV model using the features ***without*** reducing the dimensionality to 8 features using PCA"
   ]
  },
  {
   "cell_type": "code",
   "execution_count": 47,
   "id": "covered-myrtle",
   "metadata": {},
   "outputs": [],
   "source": [
    "model_without_pca = Pipeline([\n",
    "    ('scale', StandardScaler()),\n",
    "    ('lasso', LassoCV(max_iter=10000)) # When max_iter is set to default (1000), the model would not converge\n",
    "])"
   ]
  },
  {
   "cell_type": "code",
   "execution_count": 49,
   "id": "distant-financing",
   "metadata": {},
   "outputs": [],
   "source": [
    "results_without = []\n",
    "test_data = test_data.copy()  # Avoids some pandas issues\n",
    "for index, t in enumerate(train_set_sizes):\n",
    "    test_data['without-ncomp-model-'+str(t)] = model_without_pca.fit(train_desc_sets[index], train_data_sets[index]['bandgap']).predict(test_desc)\n",
    "    results_without.append({\n",
    "                'train_size': t,\n",
    "                'mae': mean_absolute_error(test_data['bandgap'], test_data['without-ncomp-model-'+str(t)])\n",
    "            })\n",
    "results_without = pd.DataFrame(results_without)"
   ]
  },
  {
   "cell_type": "code",
   "execution_count": 55,
   "id": "brief-invalid",
   "metadata": {},
   "outputs": [],
   "source": [
    "model_RFR = Pipeline([\n",
    "    ('scale', StandardScaler()),\n",
    "    ('randomforest', RandomForestRegressor())\n",
    "])"
   ]
  },
  {
   "cell_type": "code",
   "execution_count": 56,
   "id": "aquatic-shield",
   "metadata": {},
   "outputs": [],
   "source": [
    "results_RFR = []\n",
    "test_data = test_data.copy()  # Avoids some pandas issues\n",
    "for index, t in enumerate(train_set_sizes):\n",
    "    test_data['RFR-default-model-'+str(t)] = model_RFR.fit(train_desc_sets[index], train_data_sets[index]['bandgap']).predict(test_desc)\n",
    "    results_RFR.append({\n",
    "                'train_size': t,\n",
    "                'mae': mean_absolute_error(test_data['bandgap'], test_data['RFR-default-model-'+str(t)])\n",
    "            })\n",
    "results_RFR = pd.DataFrame(results_RFR)"
   ]
  },
  {
   "cell_type": "markdown",
   "id": "circular-wrestling",
   "metadata": {},
   "source": [
    "Plot the change in mean absolute error (MAE) with respect to training set sizes: 10, 100, 1000, 10000. "
   ]
  },
  {
   "cell_type": "code",
   "execution_count": 57,
   "id": "mexican-order",
   "metadata": {},
   "outputs": [
    {
     "data": {
      "image/png": "[encoded data removed]",
      "text/plain": [
       "<Figure size 432x288 with 1 Axes>"
      ]
     },
     "metadata": {
      "needs_background": "light"
     },
     "output_type": "display_data"
    }
   ],
   "source": [
    "fig, ax = plt.subplots()\n",
    "ax.loglog(train_set_sizes, results['mae'], '--o', label=\"LASSO-Reduce dimension to 8 via PCA\")\n",
    "ax.loglog(train_set_sizes, results_without['mae'], '--o', label=\"LASSO-Without PCA\")\n",
    "ax.loglog(train_set_sizes, results_RFR['mae'], '--o', label=\"RandomForestRegressor\")\n",
    "ax.legend()\n",
    "\n",
    "ax.set_xlabel('Train Size')\n",
    "ax.set_ylabel('MAE')\n",
    "fig.tight_layout()"
   ]
  },
  {
   "cell_type": "markdown",
   "id": "registered-transfer",
   "metadata": {},
   "source": [
    "The graph above showed that for LASSO model, when the features' dimention is reduced to 8, MAE would not decrease at large training size, while two other model (LASSO without PCA and RandomForestRegression) would continue to increase accuracy. There are two reasons that lead to the result. \n",
    "\n",
    "- Let's focus on the behaviors of two LASSO methods first. When training features are set to limited number (e.g. 8), model can be easily trained and even become overfitting with small amount of training data, while models with large sets of features don't. In that case, ***LASSO-Without PCA*** would continue converging, while ***LASSO-Reduce dimension to 8 via PCA*** stop converging at large training size.\n",
    "- What's more, the nature of algorithm really matters. ***RandomForestRegression*** is based on RandomTree Algorithm, which is actually a decision tree for one feature. ***RandomForestRegression*** generates tens of thousands of RandomTrees to deal with lots of features independently and parellely. In that case, ***RandomForestRegression*** is considered as one of the best ML algorithms that can deal with high-demensional data or many-feature data. However, ***LASSO*** is just a Linear Regression algorithm, which means that dealing with high-dimentional data is not ***LASSO***'s strength. That's the reason why ***RandomForestRegression*** performs better that ***LASSO*** at large training size."
   ]
  },
  {
   "cell_type": "code",
   "execution_count": null,
   "id": "handled-second",
   "metadata": {},
   "outputs": [],
   "source": []
  }
 ],
 "metadata": {
  "kernelspec": {
   "display_name": "Python 3",
   "language": "python",
   "name": "python3"
  },
  "language_info": {
   "codemirror_mode": {
    "name": "ipython",
    "version": 3
   },
   "file_extension": ".py",
   "mimetype": "text/x-python",
   "name": "python",
   "nbconvert_exporter": "python",
   "pygments_lexer": "ipython3",
   "version": "3.7.9"
  }
 },
 "nbformat": 4,
 "nbformat_minor": 5
}
