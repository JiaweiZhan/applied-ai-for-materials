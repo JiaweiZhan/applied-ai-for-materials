{
 "cells": [
  {
   "cell_type": "markdown",
   "id": "photographic-harbor",
   "metadata": {},
   "source": [
    "Load necessary libraries"
   ]
  },
  {
   "cell_type": "code",
   "execution_count": 1,
   "id": "extended-aging",
   "metadata": {},
   "outputs": [],
   "source": [
    "%matplotlib inline\n",
    "from matplotlib import pyplot as plt\n",
    "from sklearn.pipeline import Pipeline\n",
    "from sklearn.preprocessing import StandardScaler\n",
    "from sklearn.decomposition import PCA\n",
    "from sklearn.model_selection import train_test_split\n",
    "from sklearn.linear_model import LassoCV\n",
    "from sklearn.neighbors import KNeighborsRegressor\n",
    "from sklearn.ensemble import RandomForestRegressor\n",
    "from sklearn.metrics import r2_score, mean_absolute_error\n",
    "from sklearn.base import BaseEstimator, TransformerMixin\n",
    "from mordred import Calculator, descriptors\n",
    "from rdkit import Chem\n",
    "from sklearn.feature_selection import RFE\n",
    "from rdkit.Chem import AllChem\n",
    "from rdkit import DataStructs\n",
    "from sklearn.utils import shuffle\n",
    "import pandas as pd\n",
    "import numpy as np"
   ]
  },
  {
   "cell_type": "markdown",
   "id": "useful-director",
   "metadata": {},
   "source": [
    "First, load the full subset of QM9 available through our GitHub and compute features using Mordred. You will need to convert all data to a float (see DataFrame.astype) and drop missing values, but do not use any other dimensionality reduction. Once complete, make a test set of 2000 molecules"
   ]
  },
  {
   "cell_type": "code",
   "execution_count": 2,
   "id": "guided-organic",
   "metadata": {},
   "outputs": [
    {
     "name": "stdout",
     "output_type": "stream",
     "text": [
      "Loaded 25000 molecules\n"
     ]
    }
   ],
   "source": [
    "data = pd.read_json('../datasets/qm9.json.gz', lines=True)  # Do not need the full set to make a point.\n",
    "print(f'Loaded {len(data)} molecules')"
   ]
  },
  {
   "cell_type": "code",
   "execution_count": 3,
   "id": "nasty-austria",
   "metadata": {},
   "outputs": [
    {
     "name": "stderr",
     "output_type": "stream",
     "text": [
      "100%|██████████| 25000/25000 [08:29<00:00, 49.03it/s] \n"
     ]
    }
   ],
   "source": [
    "data['mol'] = data['smiles_0'].apply(Chem.MolFromSmiles)\n",
    "calc = Calculator(descriptors, ignore_3D=True)\n",
    "desc = calc.pandas(data['mol'])"
   ]
  },
  {
   "cell_type": "code",
   "execution_count": 42,
   "id": "creative-pound",
   "metadata": {},
   "outputs": [
    {
     "name": "stdout",
     "output_type": "stream",
     "text": [
      "Computed 1067 descriptors for 25000 molecules\n"
     ]
    }
   ],
   "source": [
    "print(f'Computed {len(desc.columns)} descriptors for {len(desc)} molecules')"
   ]
  },
  {
   "cell_type": "markdown",
   "id": "completed-rogers",
   "metadata": {},
   "source": [
    "Convert all the data to float"
   ]
  },
  {
   "cell_type": "code",
   "execution_count": 43,
   "id": "brazilian-chuck",
   "metadata": {},
   "outputs": [],
   "source": [
    "for column in desc.columns:\n",
    "    desc[column] = pd.to_numeric(desc[column], errors='coerce')"
   ]
  },
  {
   "cell_type": "code",
   "execution_count": 44,
   "id": "structured-jordan",
   "metadata": {},
   "outputs": [
    {
     "name": "stdout",
     "output_type": "stream",
     "text": [
      "Found 0 columns with missing values\n"
     ]
    }
   ],
   "source": [
    "missing_values = desc.isnull().any()\n",
    "print(f'Found {missing_values.sum()} columns with missing values')"
   ]
  },
  {
   "cell_type": "code",
   "execution_count": 45,
   "id": "accompanied-landscape",
   "metadata": {},
   "outputs": [
    {
     "name": "stdout",
     "output_type": "stream",
     "text": [
      "New shape: (25000, 1067)\n"
     ]
    }
   ],
   "source": [
    "desc = desc.loc[:, ~missing_values]  # Gets only rows that do not (~ means not) have missing values\n",
    "print(f'New shape: {desc.shape}')"
   ]
  },
  {
   "cell_type": "markdown",
   "id": "ancient-lender",
   "metadata": {},
   "source": [
    "make a test set of 2000 molecules"
   ]
  },
  {
   "cell_type": "code",
   "execution_count": 46,
   "id": "express-designer",
   "metadata": {},
   "outputs": [],
   "source": [
    "train_data, test_data, train_desc, test_desc = train_test_split(data, desc, test_size=0.08)"
   ]
  },
  {
   "cell_type": "code",
   "execution_count": 47,
   "id": "ahead-bachelor",
   "metadata": {},
   "outputs": [],
   "source": [
    "train_data_sets = []\n",
    "train_desc_sets = []\n",
    "train_set_sizes = [10, 100, 1000, 10000]\n",
    "for t in train_set_sizes:\n",
    "    train_data_, train_desc_ = shuffle(train_data, train_desc, n_samples=t)\n",
    "    train_data_sets.append(train_data_)\n",
    "    train_desc_sets.append(train_desc_)"
   ]
  },
  {
   "cell_type": "markdown",
   "id": "prescription-lightweight",
   "metadata": {},
   "source": [
    "# Chemical Descriptors\n",
    "## #1 Question\n",
    "\n",
    "### Train a LassoCVLinks model using the features with and without reducing the dimensionality to 8 features using PCA. Then, train a RandomForest modelLinks to an external site. using the default settings."
   ]
  },
  {
   "cell_type": "markdown",
   "id": "medium-devices",
   "metadata": {},
   "source": [
    "Train a LassoCV model using the features ***with*** reducing the dimensionality to 8 features using PCA"
   ]
  },
  {
   "cell_type": "code",
   "execution_count": 10,
   "id": "greek-cyprus",
   "metadata": {},
   "outputs": [],
   "source": [
    "model_with_pca = Pipeline([\n",
    "    ('scale', StandardScaler()),\n",
    "    ('pca', PCA(n_components=8)),\n",
    "    ('lasso', LassoCV())\n",
    "])"
   ]
  },
  {
   "cell_type": "code",
   "execution_count": 11,
   "id": "attractive-mandate",
   "metadata": {},
   "outputs": [],
   "source": [
    "results = []\n",
    "test_data = test_data.copy()  # Avoids some pandas issues\n",
    "for index, t in enumerate(train_set_sizes):\n",
    "    test_data['8-ncomp-model-'+str(t)] = model_with_pca.fit(train_desc_sets[index], train_data_sets[index]['bandgap']).predict(test_desc)\n",
    "    results.append({\n",
    "                'train_size': t,\n",
    "                'mae': mean_absolute_error(test_data['bandgap'], test_data['8-ncomp-model-'+str(t)])\n",
    "            })\n",
    "results = pd.DataFrame(results)"
   ]
  },
  {
   "cell_type": "markdown",
   "id": "proper-stupid",
   "metadata": {},
   "source": [
    "Train a LassoCV model using the features ***without*** reducing the dimensionality to 8 features using PCA"
   ]
  },
  {
   "cell_type": "code",
   "execution_count": 12,
   "id": "turkish-revolution",
   "metadata": {},
   "outputs": [],
   "source": [
    "model_without_pca = Pipeline([\n",
    "    ('scale', StandardScaler()),\n",
    "    # ('rfe', RF)\n",
    "    ('lasso', LassoCV(max_iter=10000)) # When max_iter is set to default (1000), the model would not converge\n",
    "])"
   ]
  },
  {
   "cell_type": "code",
   "execution_count": 13,
   "id": "modified-visibility",
   "metadata": {},
   "outputs": [],
   "source": [
    "results_without = []\n",
    "test_data = test_data.copy()  # Avoids some pandas issues\n",
    "for index, t in enumerate(train_set_sizes):\n",
    "    test_data['without-ncomp-model-'+str(t)] = model_without_pca.fit(train_desc_sets[index], train_data_sets[index]['bandgap']).predict(test_desc)\n",
    "    results_without.append({\n",
    "                'train_size': t,\n",
    "                'mae': mean_absolute_error(test_data['bandgap'], test_data['without-ncomp-model-'+str(t)])\n",
    "            })\n",
    "results_without = pd.DataFrame(results_without)"
   ]
  },
  {
   "cell_type": "markdown",
   "id": "industrial-basics",
   "metadata": {},
   "source": [
    "Train a RandomForestRegression using default setting"
   ]
  },
  {
   "cell_type": "code",
   "execution_count": 14,
   "id": "missing-silver",
   "metadata": {},
   "outputs": [],
   "source": [
    "model_RFR = Pipeline([\n",
    "    ('scale', StandardScaler()),\n",
    "    ('randomforest', RandomForestRegressor())\n",
    "])"
   ]
  },
  {
   "cell_type": "code",
   "execution_count": 15,
   "id": "color-clause",
   "metadata": {},
   "outputs": [],
   "source": [
    "results_RFR = []\n",
    "test_data = test_data.copy()  # Avoids some pandas issues\n",
    "for index, t in enumerate(train_set_sizes):\n",
    "    test_data['RFR-default-model-'+str(t)] = model_RFR.fit(train_desc_sets[index], train_data_sets[index]['bandgap']).predict(test_desc)\n",
    "    results_RFR.append({\n",
    "                'train_size': t,\n",
    "                'mae': mean_absolute_error(test_data['bandgap'], test_data['RFR-default-model-'+str(t)])\n",
    "            })\n",
    "results_RFR = pd.DataFrame(results_RFR)"
   ]
  },
  {
   "cell_type": "markdown",
   "id": "indirect-findings",
   "metadata": {},
   "source": [
    "Plot the change in mean absolute error (MAE) with respect to training set sizes: 10, 100, 1000, 10000. "
   ]
  },
  {
   "cell_type": "code",
   "execution_count": 16,
   "id": "lightweight-federation",
   "metadata": {},
   "outputs": [
    {
     "data": {
      "image/png": "[encoded data removed]",
      "text/plain": [
       "<Figure size 432x288 with 1 Axes>"
      ]
     },
     "metadata": {
      "needs_background": "light"
     },
     "output_type": "display_data"
    }
   ],
   "source": [
    "fig, ax = plt.subplots()\n",
    "ax.loglog(train_set_sizes, results['mae'], '--o', label=\"LASSO-Reduce dimension to 8 via PCA\")\n",
    "ax.loglog(train_set_sizes, results_without['mae'], '--o', label=\"LASSO-Without PCA\")\n",
    "ax.loglog(train_set_sizes, results_RFR['mae'], '--o', label=\"RandomForestRegressor\")\n",
    "ax.legend()\n",
    "\n",
    "ax.set_xlabel('Train Size')\n",
    "ax.set_ylabel('MAE')\n",
    "fig.tight_layout()"
   ]
  },
  {
   "cell_type": "markdown",
   "id": "palestinian-surgery",
   "metadata": {},
   "source": [
    "The graph above showed that for LASSO model, when the features' dimention is reduced to 8, MAE would not decrease at large training size, while two other model (LASSO without PCA and RandomForestRegression) would continue to increase accuracy. There are two reasons that lead to the result. \n",
    "\n",
    "- Let's focus on the behaviors of two LASSO methods first. When training features are set to limited number (e.g. 8), model can be easily trained and even become overfitting with small amount of training data, while models with large sets of features don't. In that case, ***LASSO-Without PCA*** would continue converging, while ***LASSO-Reduce dimension to 8 via PCA*** stop converging at large training size.\n",
    "- What's more, the nature of algorithm really matters. ***RandomForestRegression*** is based on RandomTree Algorithm, which is actually a decision tree for one feature. ***RandomForestRegression*** generates tens of thousands of RandomTrees to deal with lots of features independently and parellely. In that case, ***RandomForestRegression*** is considered as one of the best ML algorithms that can deal with high-demensional data or many-feature data. However, ***LASSO*** is just a Linear Regression algorithm, which means that dealing with high-dimentional data is not ***LASSO***'s strength. That's the reason why ***RandomForestRegression*** performs better that ***LASSO*** at large training size."
   ]
  },
  {
   "cell_type": "markdown",
   "id": "voluntary-photography",
   "metadata": {},
   "source": [
    "## #2 Question\n",
    "### Train the LASSO without PCA (using coefficients) and RandomForest models (using the assigned feature scores) on 10^4 data points. Rank the top features for random forest and LASSO"
   ]
  },
  {
   "cell_type": "code",
   "execution_count": 50,
   "id": "smaller-anthony",
   "metadata": {},
   "outputs": [],
   "source": [
    "model_LassoCV = Pipeline([\n",
    "    ('scale', StandardScaler()),\n",
    "    ('lasso', LassoCV(max_iter=10000)) # When max_iter is set to default (1000), the model would not converge\n",
    "])"
   ]
  },
  {
   "cell_type": "code",
   "execution_count": 51,
   "id": "short-consistency",
   "metadata": {},
   "outputs": [],
   "source": [
    "lasso = model_LassoCV.fit(train_desc_sets[-1], train_data_sets[-1]['bandgap'])"
   ]
  },
  {
   "cell_type": "code",
   "execution_count": 52,
   "id": "photographic-lincoln",
   "metadata": {},
   "outputs": [
    {
     "name": "stdout",
     "output_type": "stream",
     "text": [
      "top features for LASSO:  Index(['ATSC2se', 'NssO', 'GATS1dv', 'SlogP_VSA6', 'SsOH', 'NdsCH', 'ATS3dv',\n",
      "       'StN', 'GATS2dv', 'Xch-7dv'],\n",
      "      dtype='object')\n"
     ]
    }
   ],
   "source": [
    "largest_corr_set = np.argsort(lasso['lasso'].coef_)[-10:]\n",
    "print(\"top features for LASSO: \", desc.keys()[largest_corr_set[::-1]])"
   ]
  },
  {
   "cell_type": "code",
   "execution_count": 53,
   "id": "hollywood-ultimate",
   "metadata": {},
   "outputs": [],
   "source": [
    "model_RFR = Pipeline([\n",
    "    ('scale', StandardScaler()),\n",
    "    ('RFR', RandomForestRegressor())\n",
    "])"
   ]
  },
  {
   "cell_type": "code",
   "execution_count": 54,
   "id": "comic-sculpture",
   "metadata": {},
   "outputs": [],
   "source": [
    "rfr = model_RFR.fit(train_desc_sets[-1], train_data_sets[-1]['bandgap'])"
   ]
  },
  {
   "cell_type": "code",
   "execution_count": 55,
   "id": "extensive-drain",
   "metadata": {},
   "outputs": [
    {
     "name": "stdout",
     "output_type": "stream",
     "text": [
      "top features for RandomForestRegression:  Index(['nBondsKD', 'GATS1c', 'FCSP3', 'AETA_beta', 'C2SP2', 'ETA_beta',\n",
      "       'VSA_EState2', 'nBondsD', 'nBase', 'piPC4'],\n",
      "      dtype='object')\n"
     ]
    }
   ],
   "source": [
    "largest_corr_set_rfr = np.argsort(rfr['RFR'].feature_importances_)[-10:]\n",
    "print(\"top features for RandomForestRegression: \", desc.keys()[largest_corr_set_rfr[::-1]])"
   ]
  },
  {
   "cell_type": "markdown",
   "id": "recorded-cycling",
   "metadata": {},
   "source": [
    "### 2.1. Compare the top 10 features with random forest and Lasso (Hint: Python set logicLinks to an external site.). Are any the same? Why is this expected?"
   ]
  },
  {
   "cell_type": "code",
   "execution_count": 56,
   "id": "double-catalog",
   "metadata": {},
   "outputs": [
    {
     "name": "stdout",
     "output_type": "stream",
     "text": [
      "Two methods have 0 overlap most important features\n"
     ]
    }
   ],
   "source": [
    "set_lasso, set_rfr = set(desc.keys()[largest_corr_set[::-1]]), set(desc.keys()[largest_corr_set_rfr[::-1]])\n",
    "both = set_lasso.intersection(set_rfr)\n",
    "print(f'Two methods have {len(both)} overlap most important features')"
   ]
  },
  {
   "cell_type": "markdown",
   "id": "driven-seminar",
   "metadata": {},
   "source": [
    "None of them is the same. This is not what I expected. But this is reasonable becuase LASSO and RandomForestRegression have different logic or strategies to define important features. LASSO determins a linear combination of features and computes the coefficients of features, while RandomForestRegression computes how much the features contribute to the decrease of loss function."
   ]
  },
  {
   "cell_type": "markdown",
   "id": "electric-rotation",
   "metadata": {},
   "source": [
    "### 2.2. Assess the correlation between. What does this imply about how to interpret the most important features?"
   ]
  },
  {
   "cell_type": "code",
   "execution_count": 57,
   "id": "accurate-compilation",
   "metadata": {},
   "outputs": [],
   "source": [
    "feat_score_lasso = [np.corrcoef(data['bandgap'], desc[f])[0][1] for f in set_lasso]"
   ]
  },
  {
   "cell_type": "code",
   "execution_count": 58,
   "id": "considerable-friend",
   "metadata": {},
   "outputs": [
    {
     "data": {
      "text/plain": [
       "Text(0.5, 0, 'Feature ID')"
      ]
     },
     "execution_count": 58,
     "metadata": {},
     "output_type": "execute_result"
    },
    {
     "data": {
      "image/png": "[encoded data removed]",
      "text/plain": [
       "<Figure size 432x288 with 1 Axes>"
      ]
     },
     "metadata": {
      "needs_background": "light"
     },
     "output_type": "display_data"
    }
   ],
   "source": [
    "fig, ax = plt.subplots()\n",
    "\n",
    "ax.bar(range(len(feat_score_lasso)), feat_score_lasso)\n",
    "\n",
    "ax.set_ylim(-1, 1)\n",
    "ax.set_title('LASSO Correlation for 10th most import features')\n",
    "ax.set_ylabel(f'Correlation with Band Gap')\n",
    "ax.set_xlabel('Feature ID')"
   ]
  },
  {
   "cell_type": "code",
   "execution_count": 59,
   "id": "instrumental-chosen",
   "metadata": {},
   "outputs": [],
   "source": [
    "feat_score_rfr = [np.corrcoef(data['bandgap'], desc[f])[0][1] for f in set_rfr]"
   ]
  },
  {
   "cell_type": "code",
   "execution_count": 60,
   "id": "employed-abraham",
   "metadata": {},
   "outputs": [
    {
     "data": {
      "text/plain": [
       "Text(0.5, 0, 'Feature ID')"
      ]
     },
     "execution_count": 60,
     "metadata": {},
     "output_type": "execute_result"
    },
    {
     "data": {
      "image/png": "[encoded data removed]",
      "text/plain": [
       "<Figure size 432x288 with 1 Axes>"
      ]
     },
     "metadata": {
      "needs_background": "light"
     },
     "output_type": "display_data"
    }
   ],
   "source": [
    "fig, ax = plt.subplots()\n",
    "\n",
    "ax.bar(range(len(feat_score_rfr)), feat_score_rfr)\n",
    "\n",
    "ax.set_ylim(-1, 1)\n",
    "ax.set_title('RandomForestRegression Correlation for 10th most import features')\n",
    "ax.set_ylabel(f'Correlation with Band Gap')\n",
    "ax.set_xlabel('Feature ID')"
   ]
  },
  {
   "cell_type": "markdown",
   "id": "average-dimension",
   "metadata": {},
   "source": [
    "The results imply that correlations between features and target attributes are important but not directly determine features' importances. The interpretation of important features needs to obey the logic of the algorithm as well as nature."
   ]
  },
  {
   "cell_type": "markdown",
   "id": "decreased-glass",
   "metadata": {},
   "source": [
    "### 2.3. Run the test twice for once of the models. Do the results change between runs?"
   ]
  },
  {
   "cell_type": "markdown",
   "id": "catholic-think",
   "metadata": {},
   "source": [
    "Run LASSO again, compare importent features:"
   ]
  },
  {
   "cell_type": "code",
   "execution_count": 61,
   "id": "narrow-adobe",
   "metadata": {},
   "outputs": [],
   "source": [
    "model_LassoCV_2 = Pipeline([\n",
    "    ('scale', StandardScaler()),\n",
    "    ('lasso', LassoCV(max_iter=10000)) # When max_iter is set to default (1000), the model would not converge\n",
    "])"
   ]
  },
  {
   "cell_type": "code",
   "execution_count": 62,
   "id": "attempted-rover",
   "metadata": {},
   "outputs": [],
   "source": [
    "train_data_shuffle, train_desc_shuffle = shuffle(train_data, train_desc, n_samples=10000)\n",
    "lasso2 = model_LassoCV_2.fit(train_desc_shuffle, train_data_shuffle['bandgap'])"
   ]
  },
  {
   "cell_type": "code",
   "execution_count": 63,
   "id": "static-bargain",
   "metadata": {},
   "outputs": [
    {
     "name": "stdout",
     "output_type": "stream",
     "text": [
      "top features for LASSO:  Index(['NssO', 'ATSC2se', 'SsOH', 'GATS1dv', 'SlogP_VSA6', 'AETA_eta_L',\n",
      "       'ATSC1Z', 'NdsCH', 'GATS2dv', 'GATS1c'],\n",
      "      dtype='object')\n"
     ]
    }
   ],
   "source": [
    "largest_corr_set_2 = np.argsort(lasso2['lasso'].coef_)[-10:]\n",
    "print(\"top features for LASSO: \", desc.keys()[largest_corr_set_2[::-1]])"
   ]
  },
  {
   "cell_type": "code",
   "execution_count": 64,
   "id": "hispanic-digit",
   "metadata": {},
   "outputs": [
    {
     "name": "stdout",
     "output_type": "stream",
     "text": [
      "Repeat test on LASSO have 7 overlap most important features\n"
     ]
    }
   ],
   "source": [
    "set_lasso2 = set(desc.keys()[largest_corr_set_2[::-1]])\n",
    "both = set_lasso.intersection(set_lasso2)\n",
    "print(f'Repeat test on LASSO have {len(both)} overlap most important features')"
   ]
  },
  {
   "cell_type": "markdown",
   "id": "bright-deposit",
   "metadata": {},
   "source": [
    "The result slightly change!"
   ]
  },
  {
   "cell_type": "markdown",
   "id": "specified-strap",
   "metadata": {},
   "source": [
    "### Describe what these results mean for interpreting the features of machine learning models."
   ]
  },
  {
   "cell_type": "markdown",
   "id": "educated-behalf",
   "metadata": {},
   "source": [
    "Choosing correct features means a lot to the success of model training. However, there are different strategies of choosing the most important features based on the logic of algorithm and nature. What's more, correlations between features and target attributes help us to better screen features, but it's not decisive."
   ]
  },
  {
   "cell_type": "markdown",
   "id": "legal-visit",
   "metadata": {},
   "source": [
    "## #3 Question\n",
    "### Discuss the relative advantages of RandomForest versus Linear Regression versus Linear Regression with PCA."
   ]
  },
  {
   "cell_type": "markdown",
   "id": "analyzed-possession",
   "metadata": {},
   "source": [
    "- RandomForestRegression, which based on RandomTree, is considered as one of the best ML algorithm to deal with high-dimension data. Each RandomTree can run parellely and independently on each feature.\n",
    "- LinearRegression is faster than RandomForestRegression if both are run serially. It is also able to capture information from high-dimension data.\n",
    "- LinearRegression with PCA is the fastest among all three algorithm. It can easily reach convergence since the number of features are dramatiacally reduced. However, if can easily overfit on large amount of high-dimension data."
   ]
  },
  {
   "cell_type": "markdown",
   "id": "early-decrease",
   "metadata": {},
   "source": [
    "# Molecular Fingerprints\n",
    "## #1 Question\n",
    "### Create a training set of 1000 entries. Train a k-Nearest Neighbors (kNN) regressor model using a Jaccard distance metric based on 128-length Morgan fingerprint with a radius of 3. Plot how the performance on the model on a test set of 2000 entries changes as you increase the number of neighbors used in kNN from 1 to 2<sup>7</sup>. Explain why the MAE improves when increasing from 1 and then worsens as you increase past 2<sup>8</sup>."
   ]
  },
  {
   "cell_type": "code",
   "execution_count": 32,
   "id": "reported-productivity",
   "metadata": {},
   "outputs": [],
   "source": [
    "def compute_morgan_fingerprints(smiles: str, fingerprint_length: int, fingerprint_radius: int):\n",
    "    \"\"\"Get Morgan Fingerprint of a specific SMILES string.\n",
    "    Adapted from: <https://github.com/google-research/google-research/blob/\n",
    "    dfac4178ccf521e8d6eae45f7b0a33a6a5b691ee/mol_dqn/chemgraph/dqn/deep_q_networks.py#L750>\n",
    "    Args:\n",
    "      graph (str): The molecule as a SMILES string\n",
    "      fingerprint_length (int): Bit-length of fingerprint\n",
    "      fingerprint_radius (int): Radius used to compute fingerprint\n",
    "    Returns:\n",
    "      np.array. shape = [hparams, fingerprint_length]. The Morgan fingerprint.\n",
    "    \"\"\"\n",
    "    # Parse the molecule\n",
    "    molecule = Chem.MolFromSmiles(smiles)\n",
    "\n",
    "    # Compute the fingerprint\n",
    "    fingerprint = AllChem.GetMorganFingerprintAsBitVect(\n",
    "        molecule, fingerprint_radius, fingerprint_length)\n",
    "    arr = np.zeros((1,), dtype=np.bool)\n",
    "\n",
    "    # ConvertToNumpyArray takes ~ 0.19 ms, while\n",
    "    # np.asarray takes ~ 4.69 ms\n",
    "    DataStructs.ConvertToNumpyArray(fingerprint, arr)\n",
    "    return arr\n",
    "\n",
    "\n",
    "class MorganFingerprintTransformer(BaseEstimator, TransformerMixin):\n",
    "    \"\"\"Class that converts SMILES strings to fingerprint vectors\"\"\"\n",
    "    \n",
    "    def __init__(self, length: int = 256, radius: int = 4):\n",
    "        self.length = length\n",
    "        self.radius = radius\n",
    "    \n",
    "    def fit(self, X, y=None):\n",
    "        return self  # Do need to do anything\n",
    "    \n",
    "    def transform(self, X, y=None):\n",
    "        \"\"\"Compute the fingerprints\n",
    "        \n",
    "        Args:\n",
    "            X: List of SMILES strings\n",
    "        Returns:\n",
    "            Array of fingerprints\n",
    "        \"\"\"\n",
    "        \n",
    "        fing = [compute_morgan_fingerprints(m, self.length, self.radius) for m in X]\n",
    "        return np.vstack(fing)\n"
   ]
  },
  {
   "cell_type": "code",
   "execution_count": 33,
   "id": "rental-austin",
   "metadata": {},
   "outputs": [],
   "source": [
    "model = Pipeline([\n",
    "    ('fingerprint', MorganFingerprintTransformer(128, 3)),\n",
    "    ('knn', KNeighborsRegressor(n_neighbors=2, metric='jaccard', n_jobs=-1))  # n_jobs = -1 lets the model run all available processors\n",
    "])"
   ]
  },
  {
   "cell_type": "code",
   "execution_count": 34,
   "id": "informal-jamaica",
   "metadata": {},
   "outputs": [],
   "source": [
    "train_data, test_data = train_test_split(data, test_size=0.08)\n",
    "train_subset = shuffle(train_data, n_samples=1000)"
   ]
  },
  {
   "cell_type": "code",
   "execution_count": 35,
   "id": "surrounded-tribute",
   "metadata": {},
   "outputs": [],
   "source": [
    "results = []\n",
    "number_neighbor_sets = [2 ** n for n in range(8)]\n",
    "for number_neighbor in number_neighbor_sets:\n",
    "    model.set_params(knn__n_neighbors=number_neighbor)\n",
    "    model.fit(train_subset['smiles_0'], train_subset['bandgap'])\n",
    "    y_pred = model.predict(test_data['smiles_0'])\n",
    "    results.append({\n",
    "                'number_neighbor': number_neighbor,\n",
    "                'mae': mean_absolute_error(test_data['bandgap'], y_pred)\n",
    "            })\n",
    "results = pd.DataFrame(results)  # Converts to a dataframe"
   ]
  },
  {
   "cell_type": "code",
   "execution_count": 36,
   "id": "unique-thesis",
   "metadata": {},
   "outputs": [
    {
     "data": {
      "image/png": "[encoded data removed]",
      "text/plain": [
       "<Figure size 432x288 with 1 Axes>"
      ]
     },
     "metadata": {
      "needs_background": "light"
     },
     "output_type": "display_data"
    }
   ],
   "source": [
    "fig, ax = plt.subplots()\n",
    "\n",
    "ax.loglog(results['number_neighbor'], results['mae'], '--o')\n",
    "ax.set_xlabel('number of neighbors')\n",
    "ax.set_xscale('log', base=2)\n",
    "ax.set_ylabel('MAE')\n",
    "fig.tight_layout()"
   ]
  },
  {
   "cell_type": "markdown",
   "id": "reserved-electric",
   "metadata": {},
   "source": [
    "The reason why MAE improves when increasing from 1 and then worsens as you increase past 2^4^ is because of the logic of KNN algorith. When # of neighbors increases, the references used to predict properties increase, which helps model to better give out a general prediction. However, when # of neighbors continue to increase, it is almost inevitable that large amount of reference data bring nonlocal terms to the model, which would, however, lead to poor performance in predictions if the nonlocal term contributes a lot to the model. All in all, ***KNN is a semilocal ML model***, which means that the choice of # of neighors means a lot to the model."
   ]
  },
  {
   "cell_type": "markdown",
   "id": "corresponding-potato",
   "metadata": {},
   "source": [
    "## #2 Quesion\n",
    "### Add a step in the model Pipeline from Step 1 that uses Recursive Feature with a Random Forest model to reduce the number of features to 32 in 4 steps. Compare the MAE versus number of neighbors to kNN without feature selection."
   ]
  },
  {
   "cell_type": "code",
   "execution_count": 37,
   "id": "special-camera",
   "metadata": {},
   "outputs": [],
   "source": [
    "model_rfe = Pipeline([\n",
    "    ('fingerprint', MorganFingerprintTransformer(128, 3)),\n",
    "    ('rfe', RFE(RandomForestRegressor(), n_features_to_select=32, step=4)),\n",
    "    ('knn', KNeighborsRegressor(n_neighbors=2, metric='jaccard', n_jobs=-1))  # n_jobs = -1 lets the model run all available processors\n",
    "])"
   ]
  },
  {
   "cell_type": "code",
   "execution_count": 38,
   "id": "juvenile-accreditation",
   "metadata": {},
   "outputs": [],
   "source": [
    "results_rfe = []\n",
    "for number_neighbor in number_neighbor_sets:\n",
    "    model_rfe.set_params(knn__n_neighbors=number_neighbor)\n",
    "    model_rfe.fit(train_subset['smiles_0'], train_subset['bandgap'])\n",
    "    y_pred_rfe = model_rfe.predict(test_data['smiles_0'])\n",
    "    results_rfe.append({\n",
    "                'number_neighbor': number_neighbor,\n",
    "                'mae': mean_absolute_error(test_data['bandgap'], y_pred_rfe)\n",
    "            })\n",
    "results_rfe = pd.DataFrame(results_rfe)  # Converts to a dataframe"
   ]
  },
  {
   "cell_type": "code",
   "execution_count": 39,
   "id": "rising-segment",
   "metadata": {},
   "outputs": [
    {
     "data": {
      "image/png": "[encoded data removed]",
      "text/plain": [
       "<Figure size 432x288 with 1 Axes>"
      ]
     },
     "metadata": {
      "needs_background": "light"
     },
     "output_type": "display_data"
    }
   ],
   "source": [
    "fig, ax = plt.subplots()\n",
    "\n",
    "ax.loglog(results['number_neighbor'], results['mae'], '--o', label='without feature selection')\n",
    "ax.loglog(results_rfe['number_neighbor'], results_rfe['mae'], '--o', label='RFE feature selection')\n",
    "ax.legend()\n",
    "ax.set_xlabel('number of neighbors')\n",
    "ax.set_xscale('log', base=2)\n",
    "ax.set_ylabel('MAE')\n",
    "fig.tight_layout()"
   ]
  },
  {
   "cell_type": "markdown",
   "id": "animal-budapest",
   "metadata": {},
   "source": [
    "The result above showed that: feature selection does increase the model's accuracy as well as decrease the impact of 'nonlocal' term, so that the model's performance doesn't dramatically reduce when the # of neighbors is bigger than 2<sup>4</sup>."
   ]
  },
  {
   "cell_type": "markdown",
   "id": "boolean-bullet",
   "metadata": {},
   "source": [
    "## #3 Question\n",
    "### Why would the model with the feature selection perform better? In general terms, explain the disadvantage of using a general-purpose distnace metrics such as fingerprints and how must one must account for that."
   ]
  },
  {
   "cell_type": "markdown",
   "id": "comprehensive-publication",
   "metadata": {},
   "source": [
    "Feature Selection process helps to dramatically reduce the dimension of data, which further benefits those models that dependents on the distance between predicted data and reference data (e.g. KNN).\n",
    "\n",
    "The biggest disadvantage of using distance metrics is that the choice of radius have a big impact on the classification or regression. In that case, one needs to firstly do a test and run over all possible as well as reasonable configurations (e.g. # of neighbor or radius), and finally determines the parameter (hyper-parameter) based on the initial test."
   ]
  },
  {
   "cell_type": "code",
   "execution_count": null,
   "id": "middle-roman",
   "metadata": {},
   "outputs": [],
   "source": []
  }
 ],
 "metadata": {
  "kernelspec": {
   "display_name": "Python 3",
   "language": "python",
   "name": "python3"
  },
  "language_info": {
   "codemirror_mode": {
    "name": "ipython",
    "version": 3
   },
   "file_extension": ".py",
   "mimetype": "text/x-python",
   "name": "python",
   "nbconvert_exporter": "python",
   "pygments_lexer": "ipython3",
   "version": "3.7.9"
  }
 },
 "nbformat": 4,
 "nbformat_minor": 5
}
