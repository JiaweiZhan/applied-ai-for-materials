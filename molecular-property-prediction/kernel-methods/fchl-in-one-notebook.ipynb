{
 "cells": [
  {
   "cell_type": "markdown",
   "metadata": {},
   "source": [
    "# FCHL in One Notebook\n",
    "This notebook is designed to explain the [\"FCHL\" machine learning technique](https://aip.scitation.org/doi/full/10.1063/1.5020710) from 2018.\n",
    "FCHL is a\n",
    "- [ ] kernel method\n",
    "- [ ] created with atomistic, scalable kernels\n",
    "- [ ] that use \"alchemical\" many-body similarity functions\n",
    "- [ ] to regress atomic properties with ridge regression.\n",
    "\n",
    "Our goal in this notebook is to explain what each of those bullets means.\n",
    "We will presume that you are familiar, in general, with regression methods and how to use the PyData stack (e.g., numpy, pandas, sklearn)."
   ]
  },
  {
   "cell_type": "code",
   "execution_count": 1,
   "metadata": {},
   "outputs": [],
   "source": [
    "%matplotlib inline\n",
    "from matplotlib import pyplot as plt\n",
    "from qml.fchl import get_local_kernels, get_local_symmetric_kernels\n",
    "from qml import Compound\n",
    "from sklearn.model_selection import GridSearchCV, ShuffleSplit, train_test_split\n",
    "from sklearn.metrics.pairwise import rbf_kernel\n",
    "from sklearn.metrics import mean_absolute_error\n",
    "from sklearn.kernel_ridge import KernelRidge\n",
    "from sklearn.base import BaseEstimator\n",
    "from sklearn.pipeline import Pipeline\n",
    "from scipy.stats import linregress\n",
    "from time import perf_counter\n",
    "from io import StringIO\n",
    "from tqdm import tqdm\n",
    "import pandas as pd\n",
    "import numpy as np\n",
    "import os"
   ]
  },
  {
   "cell_type": "markdown",
   "metadata": {},
   "source": [
    "## Kernel Methods\n",
    "The [\"kernel\" trick](https://en.wikipedia.org/wiki/Kernel_method) is make a supervised learning problem easier by creating new input features based on pairwise similarities between a new input point and each point from the training set. The kernel creates a new set of $N$ features where each feature is the similarity between a certain entry and each of $N$ points from the training set. The similiarity function used to compute the new features is called _the kernel_.\n",
    "\n",
    "Here, we will demonstrate how the kernel can drastically simplify the learning problem."
   ]
  },
  {
   "cell_type": "code",
   "execution_count": 2,
   "metadata": {},
   "outputs": [],
   "source": [
    "x = np.arange(-2, 2.1, 1)\n",
    "y = (-1 <= x) & (x <= 1)"
   ]
  },
  {
   "cell_type": "code",
   "execution_count": 3,
   "metadata": {},
   "outputs": [
    {
     "data": {
      "text/plain": [
       "Text(0.5, 0, '$x$')"
      ]
     },
     "execution_count": 3,
     "metadata": {},
     "output_type": "execute_result"
    },
    {
     "data": {
      "image/png": "[encoded data removed]",
      "text/plain": [
       "<Figure size 252x180 with 1 Axes>"
      ]
     },
     "metadata": {
      "needs_background": "light"
     },
     "output_type": "display_data"
    }
   ],
   "source": [
    "fig, ax = plt.subplots(figsize=(3.5, 2.5))\n",
    "\n",
    "ax.scatter(x, [0]*5, c=y, s=100, ec='k')\n",
    "ax.set_ylim(ax.get_ylim())\n",
    "for i in [-1.5, 1.5]:\n",
    "    ax.plot([i]*2, ax.get_ylim(), 'k--')\n",
    "\n",
    "ax.set_yticklabels([])\n",
    "ax.set_xlabel('$x$')"
   ]
  },
  {
   "cell_type": "markdown",
   "metadata": {},
   "source": [
    "Note how this problem is not linearly separable. You need 2 rules to separate the two classes.\n",
    "\n",
    "Now, we apply a kernel trick to create a new set of features. We use the [\"RBF Kernel\"](https://scikit-learn.org/stable/modules/generated/sklearn.metrics.pairwise.rbf_kernel.html)\n",
    "to generate new features. The RBF kernel uses a Gaussian function to create new features\n",
    "\n",
    "$f_i = k(x, x_i) = \\exp(-(x - x_i)^2/\\sigma))$\n",
    "\n",
    "Applying the kernel function to all of the data yields the so-called, \"kernel matrix\" where\n",
    "\n",
    "$K_{ij} = k(x_i, y_j)$\n",
    "\n",
    "We will use this term in the remainder of the notebook"
   ]
  },
  {
   "cell_type": "code",
   "execution_count": 4,
   "metadata": {},
   "outputs": [],
   "source": [
    "f = rbf_kernel(x[:, None])"
   ]
  },
  {
   "cell_type": "code",
   "execution_count": 5,
   "metadata": {},
   "outputs": [
    {
     "data": {
      "text/plain": [
       "Text(0.5, 0, '$x$')"
      ]
     },
     "execution_count": 5,
     "metadata": {},
     "output_type": "execute_result"
    },
    {
     "data": {
      "image/png": "[encoded data removed]",
      "text/plain": [
       "<Figure size 252x180 with 1 Axes>"
      ]
     },
     "metadata": {
      "needs_background": "light"
     },
     "output_type": "display_data"
    }
   ],
   "source": [
    "fig, ax = plt.subplots(figsize=(3.5, 2.5))\n",
    "\n",
    "ax.scatter(x, f[:, 2], c=y, s=100, ec='k')\n",
    "ax.set_xlim(ax.get_xlim())\n",
    "ax.plot(ax.get_xlim(), [0.2]*2, 'k--')\n",
    "\n",
    "ax.set_ylabel('$f_2$')\n",
    "ax.set_xlabel('$x$')"
   ]
  },
  {
   "cell_type": "markdown",
   "metadata": {},
   "source": [
    "Now my features are linear separable based on $f_2$. We've made the learning problem easier by transforming the data to a new space.\n",
    "\n",
    "FCHL operates based on this idea of \"apply a similiarty function to make learning easier.\" The secret is finding a function that maps \"materials\" into a similiarly easy space for ML to learn a simple function"
   ]
  },
  {
   "cell_type": "markdown",
   "metadata": {},
   "source": [
    "## Atomistic Kernel\n",
    "The first concept used by FCHL is the notion of a atomistics kernel, which leverages the fact that many molecular properties can be represented as sums over atomic properties.\n",
    "Energy is a good example due to most quantum effects being local: two atoms with similar _local_ environemnts should have similiar energies.\n",
    "An atomistic kernel definies the kernel (read: similarity) function between two molecules as a sum over kernels describe each atom:\n",
    "\n",
    "$K(x, y) = \\sum_i \\sum_j k(x_i, y_j)$\n",
    "\n",
    "Here, we show how that simplifies molecular machine learning."
   ]
  },
  {
   "cell_type": "markdown",
   "metadata": {},
   "source": [
    "Consider an (artificial) case where we have a single molecule where the atom's local environment can be described by a feature vector: `[1]`\n",
    "\n",
    "We assign it an energy of -1"
   ]
  },
  {
   "cell_type": "code",
   "execution_count": 6,
   "metadata": {},
   "outputs": [
    {
     "data": {
      "text/plain": [
       "array([[1.]])"
      ]
     },
     "execution_count": 6,
     "metadata": {},
     "output_type": "execute_result"
    }
   ],
   "source": [
    "molA = np.ones((1, 1))\n",
    "molA"
   ]
  },
  {
   "cell_type": "markdown",
   "metadata": {},
   "source": [
    "We assume an energy model based on a kernel regression: $E(x) = \\sum_i K(x, x_i)$ where $x_i$ is a molecule from the training set and $\\alpha_i$ is a learned parameter"
   ]
  },
  {
   "cell_type": "code",
   "execution_count": 7,
   "metadata": {},
   "outputs": [],
   "source": [
    "def scalable_kernel(x: np.ndarray, y: np.ndarray) -> float:\n",
    "    \"\"\"Compute a scalable kernel\n",
    "    \n",
    "    Args:\n",
    "        x: 2D representation for a molecule\n",
    "        y: 2D representation for a second molecule\n",
    "    \"\"\"\n",
    "    \n",
    "    k = rbf_kernel(x, y)\n",
    "    return k.sum()"
   ]
  },
  {
   "cell_type": "markdown",
   "metadata": {},
   "source": [
    "Solving for the only learned parameter, $\\alpha_0$: $E(molA) = \\alpha_0 \\times K(molA, molA)$"
   ]
  },
  {
   "cell_type": "code",
   "execution_count": 8,
   "metadata": {},
   "outputs": [
    {
     "name": "stdout",
     "output_type": "stream",
     "text": [
      "alpha_0 = -1.00\n"
     ]
    }
   ],
   "source": [
    "alpha_0 = -1 / scalable_kernel(molA, molA)\n",
    "print(f'alpha_0 = {alpha_0:.2f}')"
   ]
  },
  {
   "cell_type": "markdown",
   "metadata": {},
   "source": [
    "We now predict the properties of several molecules which have atoms with similar environemnts but with different numbers of atoms"
   ]
  },
  {
   "cell_type": "code",
   "execution_count": 9,
   "metadata": {},
   "outputs": [
    {
     "data": {
      "text/plain": [
       "Text(0, 0.5, 'Energy')"
      ]
     },
     "execution_count": 9,
     "metadata": {},
     "output_type": "execute_result"
    },
    {
     "data": {
      "image/png": "[encoded data removed]",
      "text/plain": [
       "<Figure size 252x180 with 1 Axes>"
      ]
     },
     "metadata": {
      "needs_background": "light"
     },
     "output_type": "display_data"
    }
   ],
   "source": [
    "fig, ax = plt.subplots(figsize=(3.5, 2.5))\n",
    "\n",
    "n = np.arange(1, 10, 1)\n",
    "e = [alpha_0 * scalable_kernel(np.ones((i, 1)), molA) for i in n]\n",
    "\n",
    "ax.scatter(n, e)\n",
    "\n",
    "ax.set_xlabel('Size')\n",
    "ax.set_ylabel('Energy')"
   ]
  },
  {
   "cell_type": "markdown",
   "metadata": {},
   "source": [
    "The scalable kernel captures the scaling between molecule size and energy by construction."
   ]
  },
  {
   "cell_type": "markdown",
   "metadata": {},
   "source": [
    "## Alchemical Kernels\n",
    "The other ingredient of FCHL is how local environments are compared using a \"many-body atomistic kernel.\"\n",
    "The atomistic kernels are based on a simple concept: similar atoms have similar elements\n",
    "and neighboring atoms at similar positions with similar elements.\n",
    "This principle of \"similar environments\" is captured by representing the local environment as a series of \n",
    "functions that capture 1-body, 2-body and 3-body interactions in the environment.\n",
    "The functions are based on Gaussians in a coordinate space where some directions spatial (e.g., distances\n",
    "and angles between atoms) and others are chemical (e.g., position on periodic table). \n",
    "The similarity between atomic environments are then expressed as integrals over the difference between \n",
    "the two functions.\n",
    "\n",
    "\n",
    "For example, the 1-body representation can be written as\n",
    "\n",
    "$A_1(I, x_0, x_1) = \\exp(-\\frac{(P_I - x_0)^2}{2\\sigma_P^2}-\\frac{(G_I - x_1)^2}{2\\sigma_G^2})$\n",
    "\n",
    "where $P_I$ and $G_I$ are the period and group of atom $I$, and $x_0$ and $x_1$ are the inputs to the function.\n",
    "We then compute the difference between two atomic environments by integrating out $x_0$ and $x_1$\n",
    "\n",
    "$k_1(I, J) = \\iint (A_1(I, x_0, x_1) - A_2(J, x_0, x_1))^2 \\,dx_0 \\,dx_1\n",
    "= \\frac{1}{2} \\exp(-\\frac{(P_I - P_J)^2}{4\\sigma_P^2}-\\frac{(G_I - G_J)^2}{4\\sigma_G^2})$\n",
    "\n",
    "Choosing Gaussians as the basis of the representation function leads to these integrals having analytical solutions.\n",
    "The technique for the 2- and 3-body terms is similar, with integrals over not just the elemental similarity variables\n",
    "but also over spatial terms.\n",
    "\n",
    "<center>\n",
    "<img width=300px src=\"https://aip.scitation.org/na101/home/literatum/publisher/aip/journals/content/jcp/2018/jcp.2018.148.issue-24/1.5020710/20180320/images/medium/1.5020710.figures.online.f1.jpg\"/>\n",
    "</center>\n",
    "\n",
    "Here, we demonstrate how to compute such kernels using [QML](https://github.com/qmlcode/qml/tree/develop)"
   ]
  },
  {
   "cell_type": "code",
   "execution_count": 10,
   "metadata": {},
   "outputs": [],
   "source": [
    "# Downsample to only a few thousand points. As we will demonstrate\n",
    "#  FCHL can be costly to run on large datasets\n",
    "data = pd.read_json('../datasets/qm9.json.gz', lines=True).sample(2000, random_state=1)"
   ]
  },
  {
   "cell_type": "markdown",
   "metadata": {},
   "source": [
    "QML is primary designed for providing the low-level operations needed to build ML tools, \n",
    "but does offer [a scikit-learn-compatible interface](https://github.com/qmlcode/qml/blob/develop/qml/qmlearn/__init__.py). \n",
    "We will eschew using it for teaching purposes and, instead, build these tools ourselves.\n",
    "\n",
    "The first step of using FCHL from QML is to pre-compute the representation used to compute the FCHL kernel.\n",
    "For this, we must first parse the molecular structure from an XYZ into QML's internal [Compound object](http://www.qmlcode.org/qml.html#qml-compound-class).\n",
    "We then use the [`generate_fchl_representation`](http://www.qmlcode.org/qml.html#qml.Compound.generate_fchl_representation) method to compute a\n",
    "description of the molecule that is ready for using to compute the kernel."
   ]
  },
  {
   "cell_type": "code",
   "execution_count": 11,
   "metadata": {},
   "outputs": [
    {
     "name": "stdout",
     "output_type": "stream",
     "text": [
      "CPU times: user 2.73 s, sys: 3.83 ms, total: 2.73 s\n",
      "Wall time: 2.73 s\n"
     ]
    }
   ],
   "source": [
    "%%time\n",
    "# I use StringIO to turn the XYZ strings into the file object needed by Compound,\n",
    "#  `map` for parsimony, and set the `max_size` to 30 to capture all molecuels in QM9\n",
    "def make_representation(x):\n",
    "    # Step 1: Compute the representation\n",
    "    c = Compound(StringIO(x))\n",
    "    c.generate_fchl_representation(max_size=30)\n",
    "    \n",
    "    # Step 2: Return it\n",
    "    return c.representation\n",
    "data['fchl_rep'] = data['xyz'].apply(make_representation)"
   ]
  },
  {
   "cell_type": "markdown",
   "metadata": {},
   "source": [
    "The FCHL method uses Kernel Ridge Regression (KRR) to learn atomic properties.\n",
    "\n",
    "### Theory: Kernel Ridge Regression\n",
    "Kernel ridge regression creates a model of the functional form:\n",
    "\n",
    "$f(x) = \\sum_i \\alpha_i K(x, x_i)$\n",
    "\n",
    "where the sum is over all points in the training set and $x_i$ is training point $i$.\n",
    "\n",
    "The coefficients of this equation, $\\alpha_i$, are learned by minimizing\n",
    "\n",
    "$\\sum_i (y_i - f(x_i))^2 + \\lambda \\left\\Vert{\\bf \\alpha}\\right\\Vert^2$\n",
    "\n",
    "where the squared error to the training data is $\\sum_i (y_i - f(x_i))^2$,\n",
    "the sum of squares of the weights is $\\left\\Vert{\\bf \\alpha}\\right\\Vert^2$ (i.e., $L_2$-norm), \n",
    "and $\\lambda$ controls the tradeoff between minimizing model error and\n",
    "model complexity (larger weights lead to a more complex model).\n",
    "\n",
    "This equation has a convenient [analytic solution](https://en.wikipedia.org/wiki/Tikhonov_regularization)\n",
    "based on the fact it involves solving a system of linear equations.\n",
    "The costly step in that equation is a matrix inversion, which can be solved efficiently \n",
    "using [Cholesky decomposition](https://en.wikipedia.org/wiki/Cholesky_decomposition) - a \n",
    "convenience due to symmetry properties of the kernel function."
   ]
  },
  {
   "cell_type": "markdown",
   "metadata": {},
   "source": [
    "### Building a KRR Model using `scikit-learn`\n",
    "\n",
    "We implement the KRR model using a two-step process. First, we use the [FCHL kernel functions from QML](http://www.qmlcode.org/examples.html#generating-the-fchl-kernel) to compute the kernel matrix."
   ]
  },
  {
   "cell_type": "code",
   "execution_count": 12,
   "metadata": {},
   "outputs": [],
   "source": [
    "class FCHLKernel(BaseEstimator):\n",
    "    \"\"\"Class for computing the kernel matrix using the qml utility functions\n",
    "    \n",
    "    The input `X` to all of the function is a list of FCHL representation vectors\n",
    "    \n",
    "    Follows the \"BaseEstimator\" API so that we can \n",
    "    \"\"\"\n",
    "    \n",
    "    def __init__(self):\n",
    "        super(FCHLKernel, self).__init__()\n",
    "        self.train_points = None\n",
    "    \n",
    "    def fit(self, X, y=None):\n",
    "        # Store the training set\n",
    "        self.train_points = np.array(X)\n",
    "        return self\n",
    "        \n",
    "    def fit_transform(self, X, y=None):\n",
    "        self.fit(X)\n",
    "        # Uses the get_localget_local_symmetric_kernels to halve the\n",
    "        #  computational cost (as the matrix is symmetric)\n",
    "        return np.squeeze(get_local_symmetric_kernels(self.train_points))\n",
    "    \n",
    "    def transform(self, X, y=None):\n",
    "        return get_local_kernels(np.array(X), self.train_points)[0]"
   ]
  },
  {
   "cell_type": "code",
   "execution_count": 13,
   "metadata": {},
   "outputs": [],
   "source": [
    "fchl_kernel = FCHLKernel()"
   ]
  },
  {
   "cell_type": "markdown",
   "metadata": {},
   "source": [
    "This class provides a method for fitting the FCHL kernel, which captures the points used as training entries"
   ]
  },
  {
   "cell_type": "code",
   "execution_count": 14,
   "metadata": {},
   "outputs": [
    {
     "data": {
      "text/plain": [
       "array([[450.11611478, 428.92073531, 285.89946006],\n",
       "       [428.92073531, 409.11850359, 272.7352642 ],\n",
       "       [285.89946006, 272.7352642 , 181.97353387]])"
      ]
     },
     "execution_count": 14,
     "metadata": {},
     "output_type": "execute_result"
    }
   ],
   "source": [
    "fchl_kernel.fit_transform(data.head(3)['fchl_rep'].tolist())"
   ]
  },
  {
   "cell_type": "code",
   "execution_count": 15,
   "metadata": {},
   "outputs": [
    {
     "name": "stdout",
     "output_type": "stream",
     "text": [
      "Training set contains 3 entries\n"
     ]
    }
   ],
   "source": [
    "print(f'Training set contains {len(fchl_kernel.train_points)} entries')"
   ]
  },
  {
   "cell_type": "markdown",
   "metadata": {},
   "source": [
    "It can then compute the kernel matrix for new molecules on demand"
   ]
  },
  {
   "cell_type": "code",
   "execution_count": 16,
   "metadata": {},
   "outputs": [
    {
     "name": "stdout",
     "output_type": "stream",
     "text": [
      "Computed feature matrix of shape: (2000, 3)\n",
      "CPU times: user 25.5 s, sys: 63.4 ms, total: 25.5 s\n",
      "Wall time: 10.3 s\n"
     ]
    }
   ],
   "source": [
    "%%time\n",
    "k = fchl_kernel.transform(data['fchl_rep'].tolist())\n",
    "print(f'Computed feature matrix of shape: {k.shape}')"
   ]
  },
  {
   "cell_type": "markdown",
   "metadata": {},
   "source": [
    "Now, we build a [`Pipeline`](https://scikit-learn.org/stable/modules/generated/sklearn.pipeline.Pipeline.html) object to streamline fitting the KRR model.\n",
    "The Pipeline will automatically pipe the kernel matrix computed from the FCHL kernel as inputs into the KRR model"
   ]
  },
  {
   "cell_type": "code",
   "execution_count": 17,
   "metadata": {},
   "outputs": [],
   "source": [
    "model = Pipeline([\n",
    "    ('kernel', FCHLKernel()),\n",
    "    ('krr', KernelRidge(kernel='precomputed'))\n",
    "])"
   ]
  },
  {
   "cell_type": "markdown",
   "metadata": {},
   "source": [
    "Here, we demonstrate fitting it to a small subset of the training data"
   ]
  },
  {
   "cell_type": "code",
   "execution_count": 18,
   "metadata": {},
   "outputs": [],
   "source": [
    "train_data = data.sample(100, random_seed=1)"
   ]
  },
  {
   "cell_type": "code",
   "execution_count": 19,
   "metadata": {},
   "outputs": [
    {
     "name": "stdout",
     "output_type": "stream",
     "text": [
      "CPU times: user 17.8 s, sys: 3.89 ms, total: 17.8 s\n",
      "Wall time: 4.6 s\n"
     ]
    },
    {
     "data": {
      "text/plain": [
       "Pipeline(steps=[('kernel', FCHLKernel()),\n",
       "                ('krr', KernelRidge(kernel='precomputed'))])"
      ]
     },
     "execution_count": 19,
     "metadata": {},
     "output_type": "execute_result"
    }
   ],
   "source": [
    "%%time\n",
    "model.fit(train_data['fchl_rep'].tolist(), train_data['u0_atom'])"
   ]
  },
  {
   "cell_type": "markdown",
   "metadata": {},
   "source": [
    "Note that we can compute the kernel matrix and fit the KRR model in one step.\n",
    "\n",
    "Evaluating the model across the entire training set is also simple"
   ]
  },
  {
   "cell_type": "code",
   "execution_count": 20,
   "metadata": {},
   "outputs": [
    {
     "name": "stdout",
     "output_type": "stream",
     "text": [
      "CPU times: user 11min 34s, sys: 470 ms, total: 11min 34s\n",
      "Wall time: 3min\n"
     ]
    }
   ],
   "source": [
    "%%time\n",
    "data['u0_atom_pred'] = model.predict(data['fchl_rep'].tolist())"
   ]
  },
  {
   "cell_type": "code",
   "execution_count": 21,
   "metadata": {},
   "outputs": [
    {
     "name": "stdout",
     "output_type": "stream",
     "text": [
      "MAE = 0.0314 Ha = 19.71 kcal/mol\n"
     ]
    }
   ],
   "source": [
    "mae = mean_absolute_error(data['u0_atom'], data['u0_atom_pred'])\n",
    "print(f'MAE = {mae:.4f} Ha = {mae*627.50947406:.2f} kcal/mol')"
   ]
  },
  {
   "cell_type": "markdown",
   "metadata": {},
   "source": [
    "We acheive an error of ~20 kcal/mol with only 100 training points. Not bad!"
   ]
  },
  {
   "cell_type": "code",
   "execution_count": 22,
   "metadata": {},
   "outputs": [
    {
     "data": {
      "image/png": "[encoded data removed]",
      "text/plain": [
       "<Figure size 252x252 with 1 Axes>"
      ]
     },
     "metadata": {
      "needs_background": "light"
     },
     "output_type": "display_data"
    }
   ],
   "source": [
    "fig, ax = plt.subplots(figsize=(3.5, 3.5))\n",
    "\n",
    "# Plot the actual vs predicted\n",
    "ax.scatter(data['u0_atom'], data['u0_atom_pred'], s=10)\n",
    "\n",
    "# Place a y=x line on the graph. We fix\n",
    "#  the x and y limits first so that they do not\n",
    "#  re-adjust to create more whitespace after \n",
    "#  adding the new line\n",
    "ax.set_xlim(ax.get_xlim())\n",
    "ax.set_ylim(ax.get_xlim())\n",
    "ax.plot(ax.get_xlim(), ax.get_xlim(), 'k--')\n",
    "\n",
    "ax.set_xlabel('$E_{atom}$, DFT (Ha)')\n",
    "ax.set_ylabel('$E_{atom}$, ML (Ha)')\n",
    "fig.tight_layout()"
   ]
  },
  {
   "cell_type": "markdown",
   "metadata": {},
   "source": [
    "### Fitting Hyperparameters\n",
    "The key hyperparamter for a KRR model is $\\lambda$, which controls the tradeoff between fitness to the training set and model complexity.\n",
    "\n",
    "Scikit-learn provides a convenient tool, [GridSearchCV](https://scikit-learn.org/stable/modules/generated/sklearn.model_selection.GridSearchCV.html), for optimizing hyperparameters that we will use for this exercise."
   ]
  },
  {
   "cell_type": "code",
   "execution_count": 23,
   "metadata": {},
   "outputs": [],
   "source": [
    "# GridSearchCV wraps over a model performs hyperparameter optimization when you call fit\n",
    "#  by re-running the model with a series of different parameters. For efficiency,\n",
    "#  I wrap the KRR part of the model rather than the whole pipeline so that we do \n",
    "#  not need to re-run the kernel code\n",
    "model = Pipeline([\n",
    "    ('kernel', FCHLKernel()),\n",
    "    ('krr', GridSearchCV(\n",
    "        estimator=KernelRidge(kernel='precomputed'), # Set the estimator to be KRR\n",
    "        param_grid={'alpha': np.logspace(-8, 0, 32)},  # Lambda is known as alpha in sklearn\n",
    "        cv=ShuffleSplit(test_size=0.1, random_state=1),  # Use 10, 90/10% splits\n",
    "        scoring='neg_mean_absolute_error',  # Score based on MAE\n",
    "    ))\n",
    "])"
   ]
  },
  {
   "cell_type": "code",
   "execution_count": 24,
   "metadata": {},
   "outputs": [
    {
     "name": "stdout",
     "output_type": "stream",
     "text": [
      "CPU times: user 18.8 s, sys: 715 ms, total: 19.5 s\n",
      "Wall time: 5 s\n"
     ]
    },
    {
     "data": {
      "text/plain": [
       "Pipeline(steps=[('kernel', FCHLKernel()),\n",
       "                ('krr',\n",
       "                 GridSearchCV(cv=ShuffleSplit(n_splits=10, random_state=1, test_size=0.1, train_size=None),\n",
       "                              estimator=KernelRidge(kernel='precomputed'),\n",
       "                              param_grid={'alpha': array([1.00000000e-08, 1.81160919e-08, 3.28192787e-08, 5.94557071e-08,\n",
       "       1.07710506e-07, 1.95129342e-07, 3.53498111e-07, 6.40400427e-07,\n",
       "       1.16015530e-06, 2.10174801...78538e-06,\n",
       "       1.24960914e-05, 2.26380341e-05, 4.10112707e-05, 7.42963951e-05,\n",
       "       1.34596032e-04, 2.43835410e-04, 4.41734470e-04, 8.00250228e-04,\n",
       "       1.44974067e-03, 2.62636353e-03, 4.75794431e-03, 8.61953566e-03,\n",
       "       1.56152301e-02, 2.82886943e-02, 5.12480588e-02, 9.28414545e-02,\n",
       "       1.68192432e-01, 3.04698957e-01, 5.51995432e-01, 1.00000000e+00])},\n",
       "                              scoring='neg_mean_absolute_error'))])"
      ]
     },
     "execution_count": 24,
     "metadata": {},
     "output_type": "execute_result"
    }
   ],
   "source": [
    "%%time\n",
    "model.fit(train_data['fchl_rep'].tolist(), train_data['u0_atom']);"
   ]
  },
  {
   "cell_type": "code",
   "execution_count": 25,
   "metadata": {},
   "outputs": [
    {
     "data": {
      "image/png": "[encoded data removed]",
      "text/plain": [
       "<Figure size 252x180 with 1 Axes>"
      ]
     },
     "metadata": {
      "needs_background": "light"
     },
     "output_type": "display_data"
    }
   ],
   "source": [
    "fig, ax = plt.subplots(figsize=(3.5, 2.5))\n",
    "\n",
    "gs = model[1]\n",
    "ax.semilogx(np.array(gs.cv_results_['param_alpha']), -1*gs.cv_results_['mean_test_score'])\n",
    "\n",
    "ax.set_xlabel('$\\lambda$')\n",
    "ax.set_ylabel('MAE (Ha)')\n",
    "fig.tight_layout()"
   ]
  },
  {
   "cell_type": "markdown",
   "metadata": {},
   "source": [
    "Note how the error can change by about a factor of 2 when we adjust $\\lambda$"
   ]
  },
  {
   "cell_type": "code",
   "execution_count": 26,
   "metadata": {},
   "outputs": [
    {
     "name": "stdout",
     "output_type": "stream",
     "text": [
      "CPU times: user 11min 34s, sys: 395 ms, total: 11min 35s\n",
      "Wall time: 3min\n"
     ]
    }
   ],
   "source": [
    "%%time\n",
    "data['u0_atom_pred'] = model.predict(data['fchl_rep'].tolist())"
   ]
  },
  {
   "cell_type": "code",
   "execution_count": 27,
   "metadata": {},
   "outputs": [
    {
     "name": "stdout",
     "output_type": "stream",
     "text": [
      "MAE = 0.0106 Ha = 6.67 kcal/mol\n"
     ]
    }
   ],
   "source": [
    "mae = mean_absolute_error(data['u0_atom'], data['u0_atom_pred'])\n",
    "print(f'MAE = {mae:.4f} Ha = {mae*627.50947406:.2f} kcal/mol')"
   ]
  },
  {
   "cell_type": "markdown",
   "metadata": {},
   "source": [
    "By tuning the hyperparameter, we reduced the error to only 7 kcal/mol!"
   ]
  },
  {
   "cell_type": "markdown",
   "metadata": {},
   "source": [
    "### Computing a Learning Curve\n",
    "Learning curves show the improvement of a model as you add more training data.\n",
    "Here, we demonstrate how to make a learning curve to illustrate a few additional points about FCHL."
   ]
  },
  {
   "cell_type": "code",
   "execution_count": 28,
   "metadata": {},
   "outputs": [],
   "source": [
    "# Set up the test sizes we will evaluate for the learning curve\n",
    "train_sizes = [10, 30, 100, 300, 1000]"
   ]
  },
  {
   "cell_type": "code",
   "execution_count": 29,
   "metadata": {},
   "outputs": [],
   "source": [
    "# Prepare a standard test set\n",
    "train_data, test_data = train_test_split(data, test_size=500, random_state=1) \n",
    "\n",
    "# Avoids warnings about setting values of a copy\n",
    "test_data = test_data.copy()"
   ]
  },
  {
   "cell_type": "code",
   "execution_count": 30,
   "metadata": {},
   "outputs": [
    {
     "name": "stderr",
     "output_type": "stream",
     "text": [
      "100%|██████████| 5/5 [18:42<00:00, 224.49s/it]\n"
     ]
    }
   ],
   "source": [
    "# Loop over the test sizes\n",
    "results = []\n",
    "for ts in tqdm(train_sizes):\n",
    "    # Split off some training data\n",
    "    train_subset = train_data.sample(ts, random_state=1)\n",
    "    \n",
    "    # Fit the model\n",
    "    train_time = perf_counter()\n",
    "    model.fit(train_subset['fchl_rep'].tolist(), train_subset['u0_atom'])\n",
    "    train_time = perf_counter() - train_time\n",
    "    \n",
    "    # Evaluate the model on the test set\n",
    "    test_time = perf_counter()\n",
    "    test_data['u0_atom_pred'] = model.predict(test_data['fchl_rep'].tolist())\n",
    "    test_time = perf_counter() - test_time\n",
    "    \n",
    "    # Store performance information\n",
    "    results.append({\n",
    "        'train_size': ts,\n",
    "        'train_time': train_time,\n",
    "        'test_time': test_time,\n",
    "        'alpha': model[1].best_params_['alpha'],\n",
    "        'mae': mean_absolute_error(test_data['u0_atom'], test_data['u0_atom_pred'])\n",
    "    })"
   ]
  },
  {
   "cell_type": "code",
   "execution_count": 31,
   "metadata": {},
   "outputs": [],
   "source": [
    "results = pd.DataFrame(results)"
   ]
  },
  {
   "cell_type": "markdown",
   "metadata": {},
   "source": [
    "Step 1: Compare to the original JCP paper"
   ]
  },
  {
   "cell_type": "code",
   "execution_count": 32,
   "metadata": {},
   "outputs": [],
   "source": [
    "jcp_results = pd.DataFrame([\n",
    "    [100, 0.2769171852851224], [1005.3012238214807, 0.06426615177922405],\n",
    "    [2502.606983490659, 0.03831336782897019], [5029.126239917856, 0.02719291345844958],\n",
    "    [10026.471083195112, 0.01905330215897317], [20148.744549550407, 0.013094302135827789]\n",
    "], columns=['size', 'mae'])"
   ]
  },
  {
   "cell_type": "code",
   "execution_count": 33,
   "metadata": {},
   "outputs": [
    {
     "data": {
      "text/plain": [
       "Text(0, 0.5, 'MAE (eV)')"
      ]
     },
     "execution_count": 33,
     "metadata": {},
     "output_type": "execute_result"
    },
    {
     "data": {
      "image/png": "[encoded data removed]",
      "text/plain": [
       "<Figure size 252x180 with 1 Axes>"
      ]
     },
     "metadata": {
      "needs_background": "light"
     },
     "output_type": "display_data"
    }
   ],
   "source": [
    "fig, ax = plt.subplots()\n",
    "\n",
    "ax.loglog(jcp_results['size'], jcp_results['mae'], 'o--', label='FCHL')\n",
    "ax.loglog(results['train_size'], results['mae'] * 27.2114, 's-', label='This Work')\n",
    "\n",
    "fig.set_size_inches(3.5, 2.5)\n",
    "ax.legend()\n",
    "ax.set_xlabel('Training Set Size')\n",
    "ax.set_ylabel('MAE (eV)')"
   ]
  },
  {
   "cell_type": "markdown",
   "metadata": {},
   "source": [
    "Our implementation agrees well with the original paper!"
   ]
  },
  {
   "cell_type": "code",
   "execution_count": 35,
   "metadata": {},
   "outputs": [
    {
     "data": {
      "image/png": "[encoded data removed]",
      "text/plain": [
       "<Figure size 612x216 with 3 Axes>"
      ]
     },
     "metadata": {
      "needs_background": "light"
     },
     "output_type": "display_data"
    }
   ],
   "source": [
    "fig, axs = plt.subplots(1, 3, figsize=(8.5, 3.))\n",
    "\n",
    "ax = axs[0]\n",
    "ax.loglog(results['train_size'], results['alpha'], '--o')\n",
    "ax.set_ylabel('$\\lambda$')\n",
    "ax.set_title('Hyperparameters')\n",
    "\n",
    "ax = axs[1]\n",
    "ax.loglog(results['train_size'], results['train_time'], '--o')\n",
    "p = linregress(np.log(results['train_size'].iloc[-3:]), np.log(results['train_time'].iloc[-3:]))\n",
    "ax.text(0.1, 0.8, f'$t \\propto N^{{{p[0]:.1f}}}$', transform=ax.transAxes, fontsize=14)\n",
    "ax.set_ylabel('Train Time (s)')\n",
    "ax.set_title('Training Performance')\n",
    "\n",
    "ax = axs[2]\n",
    "ax.loglog(results['train_size'], results['test_time'], '--o')\n",
    "p = linregress(np.log(results['train_size'].iloc[-3:]), np.log(results['test_time'].iloc[-3:]))\n",
    "ax.text(0.1, 0.8, f'$t \\propto N^{{{p[0]:.1f}}}$', transform=ax.transAxes, fontsize=14)\n",
    "ax.set_ylabel('Test Time (s)')\n",
    "ax.set_title('Training Performance')\n",
    "\n",
    "for ax in axs:\n",
    "    ax.set_xlabel('Train Size')\n",
    "\n",
    "fig.tight_layout()"
   ]
  },
  {
   "cell_type": "markdown",
   "metadata": {},
   "source": [
    "We can note a few things:\n",
    "\n",
    "1. The hyperparameters do change as a function of training set size. Be careful when fitting this model to always re-tune $\\lambda$\n",
    "2. The training time scales with $O(N^2)$ with the number of training entries. The quadratic scaling is a result of the time it takes to compute the kernel matrix\n",
    "3. The evaluation/test time scales linearly with the training set size, which is driven by the cost of comparing a point to each training entry"
   ]
  },
  {
   "cell_type": "markdown",
   "metadata": {},
   "source": [
    "## Summary\n",
    "Going back to our learning objectives, let's review that FHCL is...\n",
    "\n",
    "- [x] kernel method (*uses features based on similiarity to training set*)\n",
    "- [x] created with atomistic, scalable kernels (*similarity functions that express atomic contributions to molecular properties*)\n",
    "- [x] that use \"alchemical\" many-body similarity functions (*functions that capture similarity between atoms' environments*)\n",
    "- [x] to regress atomic properties with ridge regression (*using similiarty scores as inputs to a penalized linear regression*)."
   ]
  },
  {
   "cell_type": "code",
   "execution_count": null,
   "metadata": {},
   "outputs": [],
   "source": []
  }
 ],
 "metadata": {
  "kernelspec": {
   "display_name": "Python 3",
   "language": "python",
   "name": "python3"
  },
  "language_info": {
   "codemirror_mode": {
    "name": "ipython",
    "version": 3
   },
   "file_extension": ".py",
   "mimetype": "text/x-python",
   "name": "python",
   "nbconvert_exporter": "python",
   "pygments_lexer": "ipython3",
   "version": "3.7.8"
  }
 },
 "nbformat": 4,
 "nbformat_minor": 4
}
