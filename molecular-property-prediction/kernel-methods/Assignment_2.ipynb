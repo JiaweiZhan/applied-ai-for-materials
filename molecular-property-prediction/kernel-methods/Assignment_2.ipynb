{
 "cells": [
  {
   "cell_type": "markdown",
   "id": "medieval-anaheim",
   "metadata": {},
   "source": [
    "# Assignment: Fitting with a reduced set of features"
   ]
  },
  {
   "cell_type": "markdown",
   "id": "tight-romania",
   "metadata": {},
   "source": [
    "Browning et al. have illustrated how you can get better Kernel Ridge Regression models by intelligently selecting which points from a large dataset to use for training. We are going to recreate their work in this assignment by making an improved model for the Highest Occupied Molecular Orbital (HOMO) energy using only 100 training points."
   ]
  },
  {
   "cell_type": "code",
   "execution_count": 1,
   "id": "furnished-pregnancy",
   "metadata": {
    "ExecuteTime": {
     "end_time": "2021-02-19T18:02:40.884975Z",
     "start_time": "2021-02-19T18:02:39.432133Z"
    }
   },
   "outputs": [],
   "source": [
    "%matplotlib inline\n",
    "from matplotlib import pyplot as plt\n",
    "from sklearn.kernel_ridge import KernelRidge\n",
    "from sklearn.pipeline import Pipeline\n",
    "from sklearn.preprocessing import StandardScaler\n",
    "from sklearn.model_selection import train_test_split, GridSearchCV\n",
    "from sklearn.metrics import mean_absolute_error\n",
    "from dscribe.descriptors import CoulombMatrix\n",
    "from ase.io.xyz import read_xyz\n",
    "from io import StringIO\n",
    "from time import perf_counter\n",
    "import pandas as pd\n",
    "import numpy as np\n",
    "from tqdm import tqdm\n",
    "from scipy.stats import linregress"
   ]
  },
  {
   "cell_type": "markdown",
   "id": "interesting-arthur",
   "metadata": {},
   "source": [
    "## Problem 1: Fitting a Coulomb Matrix"
   ]
  },
  {
   "cell_type": "markdown",
   "id": "typical-highlight",
   "metadata": {},
   "source": [
    "Load in our QM9 dataset and compute the Coulomb matrix for each entry.\n",
    "\n",
    "Fit a model with 100 parameters to predict the HOMO energy using KernelRidge regression. Make sure to fit the $\\alpha$ and $\\gamma$ parameters using GridSearchCV.\n",
    "\n",
    "HINT: Use parameters varying between $10^{-6}$ and $10^0$ with a logarithmic spacing.\n",
    "\n",
    "Repeat the fitting process 16 times using different samples of 100 entries. Plot a histrogram of the optimized $\\alpha$ and $\\gamma$ parameters and the MAE on a separate test set."
   ]
  },
  {
   "cell_type": "code",
   "execution_count": 2,
   "id": "bored-feedback",
   "metadata": {
    "ExecuteTime": {
     "end_time": "2021-02-19T18:02:47.627545Z",
     "start_time": "2021-02-19T18:02:40.886624Z"
    }
   },
   "outputs": [
    {
     "name": "stdout",
     "output_type": "stream",
     "text": [
      "Atoms(symbols='C8NH13', pbc=False)\n"
     ]
    }
   ],
   "source": [
    "data = pd.read_json('../datasets/qm9.json.gz', lines=True)\n",
    "\n",
    "# change xyz format to ASE Atoms class\n",
    "data['atoms'] = data['xyz'].map(lambda x: next(read_xyz(StringIO(x))))\n",
    "print(data['atoms'].iloc[0])"
   ]
  },
  {
   "cell_type": "code",
   "execution_count": 3,
   "id": "informed-scholarship",
   "metadata": {
    "ExecuteTime": {
     "end_time": "2021-02-19T18:02:47.638555Z",
     "start_time": "2021-02-19T18:02:47.630576Z"
    }
   },
   "outputs": [
    {
     "data": {
      "text/plain": [
       "array([[ 1.68134501e+02,  6.48085518e+01,  3.83920805e+01,\n",
       "         2.79904445e+01,  1.95189692e+01,  1.66540903e+01,\n",
       "         1.17890333e+01,  8.83261885e+00,  3.40122666e+00,\n",
       "        -9.34620750e-01, -8.92017655e-01, -7.82414910e-01,\n",
       "        -6.58229431e-01, -4.90163018e-01, -3.67224705e-01,\n",
       "        -2.75108095e-01, -1.65192791e-01, -1.21944806e-01,\n",
       "        -8.85454287e-02,  7.10197837e-02, -6.07606172e-02,\n",
       "        -3.27645940e-02,  0.00000000e+00,  0.00000000e+00,\n",
       "         0.00000000e+00,  0.00000000e+00,  0.00000000e+00,\n",
       "         0.00000000e+00,  0.00000000e+00,  0.00000000e+00,\n",
       "         0.00000000e+00,  0.00000000e+00,  0.00000000e+00,\n",
       "         0.00000000e+00,  0.00000000e+00,  0.00000000e+00,\n",
       "         0.00000000e+00,  0.00000000e+00,  0.00000000e+00,\n",
       "         0.00000000e+00]])"
      ]
     },
     "execution_count": 3,
     "metadata": {},
     "output_type": "execute_result"
    }
   ],
   "source": [
    "# define dimension and configurations of CoulombMatrix\n",
    "cm = CoulombMatrix(40, permutation='eigenspectrum')\n",
    "cm.create(data['atoms'].iloc[0])"
   ]
  },
  {
   "cell_type": "code",
   "execution_count": 4,
   "id": "suburban-refrigerator",
   "metadata": {
    "ExecuteTime": {
     "end_time": "2021-02-19T18:03:00.240427Z",
     "start_time": "2021-02-19T18:02:47.640504Z"
    }
   },
   "outputs": [
    {
     "name": "stdout",
     "output_type": "stream",
     "text": [
      "CPU times: user 6.08 s, sys: 187 ms, total: 6.27 s\n",
      "Wall time: 12.6 s\n"
     ]
    }
   ],
   "source": [
    "%%time\n",
    "cms = cm.create(data['atoms'], n_jobs=2)"
   ]
  },
  {
   "cell_type": "code",
   "execution_count": 5,
   "id": "olympic-environment",
   "metadata": {
    "ExecuteTime": {
     "end_time": "2021-02-19T18:03:00.317223Z",
     "start_time": "2021-02-19T18:03:00.242746Z"
    }
   },
   "outputs": [],
   "source": [
    "# Change to list so that pandas can utilize them\n",
    "data['cm'] = cms.tolist()  "
   ]
  },
  {
   "cell_type": "code",
   "execution_count": 6,
   "id": "italic-serum",
   "metadata": {
    "ExecuteTime": {
     "end_time": "2021-02-19T18:03:00.374259Z",
     "start_time": "2021-02-19T18:03:00.319195Z"
    }
   },
   "outputs": [],
   "source": [
    "train_data, test_data = train_test_split(data, test_size=1000)"
   ]
  },
  {
   "cell_type": "code",
   "execution_count": 7,
   "id": "ancient-blanket",
   "metadata": {
    "ExecuteTime": {
     "end_time": "2021-02-19T18:03:00.380281Z",
     "start_time": "2021-02-19T18:03:00.376225Z"
    }
   },
   "outputs": [],
   "source": [
    "n_samples = 100\n",
    "train_data_epoch = train_data.sample(n_samples)"
   ]
  },
  {
   "cell_type": "code",
   "execution_count": 8,
   "id": "gross-recovery",
   "metadata": {
    "ExecuteTime": {
     "end_time": "2021-02-19T18:03:00.387354Z",
     "start_time": "2021-02-19T18:03:00.384698Z"
    }
   },
   "outputs": [],
   "source": [
    "# Basis of KRR model: normalizing data + basic KRR framework\n",
    "model = Pipeline([\n",
    "    ('scale', StandardScaler()),\n",
    "    ('krr', KernelRidge(kernel='rbf'))\n",
    "])"
   ]
  },
  {
   "cell_type": "code",
   "execution_count": 9,
   "id": "suspended-viking",
   "metadata": {
    "ExecuteTime": {
     "end_time": "2021-02-19T18:03:00.393503Z",
     "start_time": "2021-02-19T18:03:00.390343Z"
    }
   },
   "outputs": [],
   "source": [
    "# Grid Search based on previous model. The parameters needed to be fitted \\\n",
    "# are krr__alpha and krr__gamma. Moreover, cross validation is set to 10 so that\n",
    "# the model can avoid over-confident.\n",
    "gs = GridSearchCV(model,\n",
    "    {'krr__gamma': np.logspace(start=-6, stop=0, num=16), 'krr__alpha': np.logspace(-6, 0, 16)},\n",
    "    cv=10,\n",
    "    scoring='neg_mean_squared_error'  # Negative mean squared error, so that better models have greater values\n",
    ")"
   ]
  },
  {
   "cell_type": "code",
   "execution_count": 10,
   "id": "catholic-george",
   "metadata": {
    "ExecuteTime": {
     "end_time": "2021-02-19T18:04:08.133808Z",
     "start_time": "2021-02-19T18:03:00.395370Z"
    }
   },
   "outputs": [
    {
     "name": "stderr",
     "output_type": "stream",
     "text": [
      "100%|██████████| 16/16 [01:07<00:00,  4.23s/it]\n"
     ]
    }
   ],
   "source": [
    "results = []\n",
    "for iter_ in tqdm(range(16)):\n",
    "    train_data_epoch = train_data.sample(100)\n",
    "    gs.set_params(n_jobs=2)\n",
    "    gs.fit(np.vstack(train_data_epoch['cm']), train_data_epoch['homo'])\n",
    "    results.append({\n",
    "        \"alphas\": gs.best_params_['krr__alpha'], \n",
    "        \"gammas\": gs.best_params_['krr__gamma'],\n",
    "        \"mae\": mean_absolute_error(gs.predict(np.vstack(test_data['cm'])), test_data['homo'])\n",
    "    })\n",
    "results = pd.DataFrame(results)"
   ]
  },
  {
   "cell_type": "markdown",
   "id": "unable-convert",
   "metadata": {},
   "source": [
    "Plot a histrogram of the optimized $\\alpha$ and $\\gamma$ parameters and the MAE on a separate test set."
   ]
  },
  {
   "cell_type": "code",
   "execution_count": 11,
   "id": "ambient-logging",
   "metadata": {
    "ExecuteTime": {
     "end_time": "2021-02-19T18:04:10.602333Z",
     "start_time": "2021-02-19T18:04:08.136565Z"
    }
   },
   "outputs": [
    {
     "data": {
      "image/png": "[encoded data removed]",
      "text/plain": [
       "<Figure size 432x288 with 1 Axes>"
      ]
     },
     "metadata": {
      "needs_background": "light"
     },
     "output_type": "display_data"
    },
    {
     "data": {
      "image/png": "[encoded data removed]",
      "text/plain": [
       "<Figure size 432x288 with 1 Axes>"
      ]
     },
     "metadata": {
      "needs_background": "light"
     },
     "output_type": "display_data"
    },
    {
     "data": {
      "image/png": "[encoded data removed]",
      "text/plain": [
       "<Figure size 432x288 with 1 Axes>"
      ]
     },
     "metadata": {
      "needs_background": "light"
     },
     "output_type": "display_data"
    }
   ],
   "source": [
    "fig, ax = plt.subplots()\n",
    "ax.hist(results['alphas'],bins=np.logspace(start=-6, stop=0, num=16), label=r'$\\alpha$')\n",
    "ax.set_xscale('log')\n",
    "ax.set_xlabel(r'$\\alpha$')\n",
    "ax.set_ylabel('# of epochs')\n",
    "ax.legend()\n",
    "fig.tight_layout()\n",
    "fig, ax = plt.subplots()\n",
    "ax.hist(results['gammas'],bins=np.logspace(start=-6, stop=0, num=16), label=r'$\\gamma$')\n",
    "ax.set_xscale('log')\n",
    "ax.set_xlabel(r'$\\gamma$')\n",
    "ax.set_ylabel('# of epochs')\n",
    "ax.legend()\n",
    "fig.tight_layout()\n",
    "fig, ax = plt.subplots()\n",
    "ax.hist(results['mae'],bins=np.linspace(start=np.amin(results['mae']), stop=np.amax(results['mae']), num=16), label=r'$MAE$')\n",
    "ax.set_xscale('log')\n",
    "ax.set_xlabel(r'MAE')\n",
    "ax.set_ylabel('# of epochs')\n",
    "ax.legend()\n",
    "fig.tight_layout()"
   ]
  },
  {
   "cell_type": "code",
   "execution_count": 12,
   "id": "intelligent-saturday",
   "metadata": {
    "ExecuteTime": {
     "end_time": "2021-02-19T18:04:10.608186Z",
     "start_time": "2021-02-19T18:04:10.604297Z"
    }
   },
   "outputs": [
    {
     "name": "stdout",
     "output_type": "stream",
     "text": [
      "Variation of alpha: 2.51e-02.\t Variation of gamma: 2.50e-04.\n"
     ]
    }
   ],
   "source": [
    "print(\"Variation of alpha: {:.2e}.\\t Variation of gamma: {:.2e}.\".format(np.amax(results['alphas']) - np.amin(results['alphas']), np.amax(results['gammas']) - np.amin(results['gammas'])))"
   ]
  },
  {
   "cell_type": "markdown",
   "id": "photographic-norman",
   "metadata": {},
   "source": [
    "### Question:\n",
    "- Do the optimized model parameters change with different subsets?\n",
    "- How large of a variation do you observe in the training data?\n",
    "- Can we use the same set of parameters for all subsets of 100 entries?"
   ]
  },
  {
   "cell_type": "markdown",
   "id": "occupied-cursor",
   "metadata": {},
   "source": [
    "### Answers:\n",
    "- Results show that optimized model parameters change with different subsets.\n",
    "- The variations of $\\alpha$ and $\\gamma$ are 1.58e-01 and 6.30e-04 respectively.\n",
    "- The optimized parameters for one subset are not representative. In that case, one may not use the same set of parameters for all subsets. Additionally, ensemble modeling shows that it is always useful to train several models indepdently from different initializations or with different hyper-parameters, and then average the outputs. However, some technics might be helpful for accelerating the training process for all subsets, that is transfer learning. Even thought transfer learning is widely used to deal with data-limitation problem, it should also be transferable on dealing with different subsets."
   ]
  },
  {
   "cell_type": "markdown",
   "id": "confidential-advertising",
   "metadata": {},
   "source": [
    "## Problem 2: Plot a learning curve\n",
    "\n",
    "Fit the Coulomb Matrix model using 4 randomly-selected training sets of 10, 100, and 1000 entries.\n",
    "\n",
    "- Plot how the model accuracy on a test set, training time and inference times change as a function of training set size."
   ]
  },
  {
   "cell_type": "code",
   "execution_count": 13,
   "id": "fifteen-mediterranean",
   "metadata": {
    "ExecuteTime": {
     "end_time": "2021-02-19T18:05:05.266559Z",
     "start_time": "2021-02-19T18:04:10.610550Z"
    }
   },
   "outputs": [
    {
     "name": "stderr",
     "output_type": "stream",
     "text": [
      " 67%|██████▋   | 2/3 [00:07<00:04,  4.03s/it]/Users/jiaweizhan/anaconda3/envs/applied-ai/lib/python3.7/site-packages/joblib/externals/loky/process_executor.py:691: UserWarning: A worker stopped while some jobs were given to the executor. This can be caused by a too short worker timeout or by a memory leak.\n",
      "  \"timeout or by a memory leak.\", UserWarning\n",
      "100%|██████████| 3/3 [00:54<00:00, 18.22s/it]\n"
     ]
    }
   ],
   "source": [
    "sizes = [10, 100, 1000]\n",
    "results_LearnCur = []\n",
    "for size in tqdm(sizes):\n",
    "    train_data_epoch = train_data.sample(size)\n",
    "    gs.set_params(n_jobs=2)\n",
    "    \n",
    "    train_time = perf_counter()\n",
    "    gs.fit(np.vstack(train_data_epoch['cm']), train_data_epoch['homo'])\n",
    "    train_time = perf_counter() - train_time\n",
    "    \n",
    "    test_time = perf_counter()\n",
    "    y_pred = gs.predict(np.vstack(test_data['cm']))\n",
    "    test_time = perf_counter() - test_time\n",
    "    \n",
    "    results_LearnCur.append({\n",
    "        \"MAE\": mean_absolute_error(y_pred, test_data['homo']),\n",
    "        \"train_time\": train_time,\n",
    "        \"test_time\": test_time,\n",
    "    })\n",
    "    \n",
    "results_LearnCur = pd.DataFrame(results_LearnCur)"
   ]
  },
  {
   "cell_type": "code",
   "execution_count": 14,
   "id": "frequent-weapon",
   "metadata": {
    "ExecuteTime": {
     "end_time": "2021-02-19T18:05:06.788031Z",
     "start_time": "2021-02-19T18:05:05.271273Z"
    }
   },
   "outputs": [
    {
     "data": {
      "image/png": "[encoded data removed]",
      "text/plain": [
       "<Figure size 612x216 with 3 Axes>"
      ]
     },
     "metadata": {
      "needs_background": "light"
     },
     "output_type": "display_data"
    }
   ],
   "source": [
    "fig, axs = plt.subplots(1, 3, figsize=(8.5, 3.))\n",
    "\n",
    "ax = axs[0]\n",
    "ax.loglog(sizes, results_LearnCur['MAE'], '--o')\n",
    "ax.set_ylabel('MAE')\n",
    "ax.set_title('Accuracy')\n",
    "\n",
    "ax = axs[1]\n",
    "ax.loglog(sizes, results_LearnCur['train_time'], '--o')\n",
    "p = linregress(np.log(sizes[-3:]), np.log(results_LearnCur['train_time'].iloc[-3:]))\n",
    "ax.text(0.1, 0.8, f'$t \\propto N^{{{p[0]:.1f}}}$', transform=ax.transAxes, fontsize=14)\n",
    "ax.set_ylabel('Train Time (s)')\n",
    "ax.set_title('Training Performance')\n",
    "\n",
    "ax = axs[2]\n",
    "ax.loglog(sizes, results_LearnCur['test_time'], '--o')\n",
    "p = linregress(np.log(sizes[-3:]), np.log(results_LearnCur['test_time'].iloc[-3:]))\n",
    "ax.text(0.1, 0.8, f'$t \\propto N^{{{p[0]:.1f}}}$', transform=ax.transAxes, fontsize=14)\n",
    "ax.set_ylabel('Test Time (s)')\n",
    "ax.set_title('Inference Performance')\n",
    "\n",
    "for ax in axs:\n",
    "    ax.set_xlabel('Train Size')\n",
    "\n",
    "fig.tight_layout()"
   ]
  },
  {
   "cell_type": "markdown",
   "id": "cordless-charge",
   "metadata": {},
   "source": [
    "## Problem 3: Optimize the training set.\n",
    "\n",
    "We are going to use a genetic algorithm to determine an optimized training set with $100$ entries.\n",
    "\n",
    "First, separate off a \"validation set\" of 1000 entries from the training set that we will use to assess the performance of our specially-chosen training sets.\n",
    "\n",
    "Now, implement a function that will accept a list of points from the training set by their index and produce the score of that model on the validation set. This function will be used by the genetic algorithm to score each selection of points. It should fulfill the following signature:"
   ]
  },
  {
   "cell_type": "code",
   "execution_count": 15,
   "id": "fitted-mandate",
   "metadata": {
    "ExecuteTime": {
     "end_time": "2021-02-19T18:05:06.795965Z",
     "start_time": "2021-02-19T18:05:06.790508Z"
    }
   },
   "outputs": [],
   "source": [
    "def evaluate_subset(points: list, model, train_data: pd.DataFrame, test_data: pd.DataFrame) -> float:\n",
    "    \"\"\"Test a subset of points\n",
    "    \n",
    "    Args:\n",
    "        points: Which points from the train_data to sample\n",
    "        model: Model to use for testing\n",
    "        train_data: All available training points\n",
    "        test_data: Data used to test the model\n",
    "    Returns:\n",
    "        MAE on the test set\n",
    "    \"\"\"\n",
    "    model.set_params(n_jobs=6)\n",
    "    model.fit(np.vstack(train_data['cm'].iloc[points]), train_data['homo'].iloc[points])\n",
    "    predict = model.predict(np.vstack(test_data['cm']))\n",
    "    return mean_absolute_error(predict, test_data['homo'])"
   ]
  },
  {
   "cell_type": "code",
   "execution_count": 16,
   "id": "expected-management",
   "metadata": {
    "ExecuteTime": {
     "end_time": "2021-02-19T18:05:06.851076Z",
     "start_time": "2021-02-19T18:05:06.798134Z"
    }
   },
   "outputs": [],
   "source": [
    "train_data, valid_data = train_test_split(train_data, test_size=1000)"
   ]
  },
  {
   "cell_type": "markdown",
   "id": "suited-currency",
   "metadata": {},
   "source": [
    "Next, run the genetic algorithm code provided at the end of this document (also includes an explaination of GAs)"
   ]
  },
  {
   "cell_type": "code",
   "execution_count": 17,
   "id": "small-wisconsin",
   "metadata": {
    "ExecuteTime": {
     "end_time": "2021-02-19T18:05:06.859088Z",
     "start_time": "2021-02-19T18:05:06.853574Z"
    }
   },
   "outputs": [],
   "source": [
    "from random import sample\n",
    "\n",
    "def mutate(points: set, total: int, fraction: float = 0.1) -> set:\n",
    "    \"\"\"Mutate a set of points\n",
    "    \n",
    "    Mutates from selecting points randomly from the dataset\n",
    "    \n",
    "    Args:\n",
    "        points: Set of points to be mutated\n",
    "        total: Total number of samples to choose from in dataset\n",
    "        fraction: How many points to re-select\n",
    "    \"\"\"\n",
    "    \n",
    "    # Remove the desired amount of points\n",
    "    n_to_remove = int(len(points) * fraction)\n",
    "    to_remove = sample(points, k=n_to_remove)\n",
    "    new_points = points.difference(to_remove)\n",
    "    \n",
    "    # Add more points to the set\n",
    "    available_choices = set(range(total)).difference(new_points)\n",
    "    new_points.update(sample(available_choices, n_to_remove))\n",
    "    \n",
    "    return new_points\n",
    "\n",
    "def crossover(parent_a: set, parent_b: set):\n",
    "    \"\"\"Perform a crossover operation\n",
    "    \n",
    "    Randomly chooses points from both parents\n",
    "    \n",
    "    Args:\n",
    "        parent_a: One choice of points\n",
    "        parent_b: Another choice of points\n",
    "    Returns:\n",
    "        A new set that combines both parents\n",
    "    \"\"\"\n",
    "    \n",
    "    # Combine all points from each parents\n",
    "    options = parent_a.union(parent_b)\n",
    "    \n",
    "    # Pick randomly from the combined set\n",
    "    return set(sample(options, len(parent_a)))"
   ]
  },
  {
   "cell_type": "code",
   "execution_count": 18,
   "id": "danish-burlington",
   "metadata": {
    "ExecuteTime": {
     "end_time": "2021-02-19T18:22:06.787886Z",
     "start_time": "2021-02-19T18:05:06.861557Z"
    }
   },
   "outputs": [
    {
     "name": "stderr",
     "output_type": "stream",
     "text": [
      "generation: 100%|██████████| 50/50 [16:59<00:00, 20.40s/it]\n"
     ]
    }
   ],
   "source": [
    "# Defining options\n",
    "n_generations = 50\n",
    "pop_size = 8\n",
    "dataset_size = 100\n",
    "\n",
    "# Array in which to store all results\n",
    "all_options = []\n",
    "\n",
    "# Make an initial population\n",
    "#  Creates sets where each have different entries pull from the full dataset\n",
    "population = np.array([set(sample(range(len(train_data)), k=100)) for i in range(pop_size)])\n",
    "\n",
    "# Loop over the generations\n",
    "for gen in tqdm(range(n_generations), desc='generation'):\n",
    "    # Score each member of the population\n",
    "    scores = [\n",
    "        evaluate_subset(list(s), gs, train_data, valid_data) for s \n",
    "        in population\n",
    "    ]\n",
    "    \n",
    "    # Store the results in the history\n",
    "    for i, s in enumerate(population):\n",
    "        all_options.append({\n",
    "            'generation': gen,\n",
    "            'points': s,\n",
    "            'score': scores[i]\n",
    "        })\n",
    "        \n",
    "    # Sort scores and pick the best quarter\n",
    "    ranks = np.argsort(scores)\n",
    "    best_members = population[ranks[:pop_size // 4]]\n",
    "    \n",
    "    # Create new members by crossover and mutation\n",
    "    new_population = []\n",
    "    for i in range(pop_size):\n",
    "        # Pick two parents at random\n",
    "        parent_a, parent_b = sample(best_members.tolist(), 2)\n",
    "        \n",
    "        # Form a new member by crossover\n",
    "        new_member = crossover(parent_a, parent_b)\n",
    "        \n",
    "        # Mutate it for good measure\n",
    "        new_population.append(\n",
    "            mutate(new_member, total=len(train_data))\n",
    "        )\n",
    "    \n",
    "    # Replace population with new population\n",
    "    population = np.array(new_population)\n",
    "\n",
    "all_options = pd.DataFrame(all_options)"
   ]
  },
  {
   "cell_type": "markdown",
   "id": "cosmetic-treat",
   "metadata": {},
   "source": [
    "- Plot the best score in the population change as a function of generation. Hint: Convert the all_options to a DataFrame and use Panda's [aggregation functions]."
   ]
  },
  {
   "cell_type": "code",
   "execution_count": 19,
   "id": "tight-consensus",
   "metadata": {
    "ExecuteTime": {
     "end_time": "2021-02-19T18:22:07.043256Z",
     "start_time": "2021-02-19T18:22:06.791281Z"
    }
   },
   "outputs": [
    {
     "data": {
      "image/png": "[encoded data removed]",
      "text/plain": [
       "<Figure size 432x288 with 1 Axes>"
      ]
     },
     "metadata": {
      "needs_background": "light"
     },
     "output_type": "display_data"
    }
   ],
   "source": [
    "fig, ax = plt.subplots()\n",
    "\n",
    "ax.plot(list(range(n_generations)), all_options.groupby('generation').aggregate(np.min)['score']\n",
    "        , '--o', label='Genetics Algorithm')\n",
    "ax.set_ylabel('MAE')\n",
    "ax.set_title('Accuracy')\n",
    "# ax.set_yscale('log')\n",
    "ax.legend()\n",
    "\n",
    "fig.tight_layout()"
   ]
  },
  {
   "cell_type": "markdown",
   "id": "combined-growth",
   "metadata": {},
   "source": [
    "- Plot the performance of your optimized model with the learning curve from problem 2. How does it compare?"
   ]
  },
  {
   "cell_type": "code",
   "execution_count": 20,
   "id": "muslim-earthquake",
   "metadata": {
    "ExecuteTime": {
     "end_time": "2021-02-19T18:22:07.665537Z",
     "start_time": "2021-02-19T18:22:07.045618Z"
    }
   },
   "outputs": [
    {
     "data": {
      "image/png": "[encoded data removed]",
      "text/plain": [
       "<Figure size 432x288 with 1 Axes>"
      ]
     },
     "metadata": {
      "needs_background": "light"
     },
     "output_type": "display_data"
    }
   ],
   "source": [
    "fig, ax = plt.subplots()\n",
    "\n",
    "ax.loglog(sizes, results_LearnCur['MAE'], '--o', label='learning curve')\n",
    "ax.scatter(100, np.amin(all_options.groupby('generation').aggregate(np.min)['score']), marker='*', color='r', label='optimized Genetics Algorithm')\n",
    "ax.set_ylabel('MAE')\n",
    "ax.set_title('Accuracy')\n",
    "ax.legend()\n",
    "\n",
    "fig.tight_layout()"
   ]
  },
  {
   "cell_type": "markdown",
   "id": "steady-price",
   "metadata": {},
   "source": [
    "The result above shows that Genetics Algorithm increases the model's accuracy by iteratively mutating populations as well as generating offsprings based on desired parents."
   ]
  },
  {
   "cell_type": "code",
   "execution_count": null,
   "id": "saving-graham",
   "metadata": {},
   "outputs": [],
   "source": []
  }
 ],
 "metadata": {
  "kernelspec": {
   "display_name": "Python 3",
   "language": "python",
   "name": "python3"
  },
  "language_info": {
   "codemirror_mode": {
    "name": "ipython",
    "version": 3
   },
   "file_extension": ".py",
   "mimetype": "text/x-python",
   "name": "python",
   "nbconvert_exporter": "python",
   "pygments_lexer": "ipython3",
   "version": "3.7.9"
  },
  "toc": {
   "base_numbering": 1,
   "nav_menu": {},
   "number_sections": true,
   "sideBar": true,
   "skip_h1_title": false,
   "title_cell": "Table of Contents",
   "title_sidebar": "Contents",
   "toc_cell": false,
   "toc_position": {},
   "toc_section_display": true,
   "toc_window_display": false
  },
  "varInspector": {
   "cols": {
    "lenName": 16,
    "lenType": 16,
    "lenVar": 40
   },
   "kernels_config": {
    "python": {
     "delete_cmd_postfix": "",
     "delete_cmd_prefix": "del ",
     "library": "var_list.py",
     "varRefreshCmd": "print(var_dic_list())"
    },
    "r": {
     "delete_cmd_postfix": ") ",
     "delete_cmd_prefix": "rm(",
     "library": "var_list.r",
     "varRefreshCmd": "cat(var_dic_list()) "
    }
   },
   "types_to_exclude": [
    "module",
    "function",
    "builtin_function_or_method",
    "instance",
    "_Feature"
   ],
   "window_display": false
  }
 },
 "nbformat": 4,
 "nbformat_minor": 5
}
