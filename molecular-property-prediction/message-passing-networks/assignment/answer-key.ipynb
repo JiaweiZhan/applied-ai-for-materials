{
 "cells": [
  {
   "cell_type": "markdown",
   "id": "russian-weekend",
   "metadata": {},
   "source": [
    "# MPNN Assignment\n",
    "Learn a few things about alterning the outputs of neural networks"
   ]
  },
  {
   "cell_type": "code",
   "execution_count": 1,
   "id": "rapid-trail",
   "metadata": {},
   "outputs": [],
   "source": [
    "%matplotlib inline\n",
    "from matplotlib import pyplot as plt\n",
    "from tensorflow.keras.models import Model\n",
    "from tensorflow.keras import layers, callbacks\n",
    "import tensorflow as tf\n",
    "from mpnn.layers import MessagePassingLayer, Readout, Squeeze, Scaling\n",
    "from mpnn.data import make_data_loader\n",
    "from tqdm import tqdm\n",
    "import pandas as pd\n",
    "import numpy as np"
   ]
  },
  {
   "cell_type": "markdown",
   "id": "liable-halloween",
   "metadata": {},
   "source": [
    "## Question 1: Making the data loaders\n",
    "We need one for the training, validation and test sets. These will use the atomization energy for now"
   ]
  },
  {
   "cell_type": "code",
   "execution_count": 2,
   "id": "cheap-affiliate",
   "metadata": {},
   "outputs": [],
   "source": [
    "train_loader = make_data_loader('../datasets/train_data.proto', batch_size=32, shuffle_buffer=8192)"
   ]
  },
  {
   "cell_type": "code",
   "execution_count": 3,
   "id": "diagnostic-burton",
   "metadata": {},
   "outputs": [],
   "source": [
    "valid_loader = make_data_loader('../datasets/valid_data.proto', batch_size=32)"
   ]
  },
  {
   "cell_type": "code",
   "execution_count": 4,
   "id": "aggregate-ballet",
   "metadata": {},
   "outputs": [],
   "source": [
    "test_loader = make_data_loader('../datasets/test_data.proto', batch_size=32)"
   ]
  },
  {
   "cell_type": "markdown",
   "id": "supreme-greece",
   "metadata": {},
   "source": [
    "*Answer*: I need to use a shuffling with the train loader so I don't get the same training data for each batch of each epoch."
   ]
  },
  {
   "cell_type": "markdown",
   "id": "cardiac-prince",
   "metadata": {},
   "source": [
    "## Question 2: Make a function to build models\n",
    "This will make experimentation easier later"
   ]
  },
  {
   "cell_type": "code",
   "execution_count": 5,
   "id": "special-vertical",
   "metadata": {},
   "outputs": [],
   "source": [
    "def make_model(num_features: int, num_messages: int, readout_type: str = 'sum'):\n",
    "    \"\"\"Build an MPNN\n",
    "    \n",
    "    Args:\n",
    "        num_features: Number of features to use to describe each atom and bond\n",
    "        num_messages: Number of message passing steps\n",
    "        readout_type: Function sued for the readout\n",
    "    Returns:\n",
    "        Keras models that generate molecule property\n",
    "    \"\"\"\n",
    "    \n",
    "    # The first step is to define which inputs to expand and their shapes/types\n",
    "    node_graph_indices = layers.Input(shape=(1,), name='node_graph_indices', dtype='int32')\n",
    "    atom_types = layers.Input(shape=(1,), name='atom', dtype='int32')\n",
    "    bond_types = layers.Input(shape=(1,), name='bond', dtype='int32')\n",
    "    connectivity = layers.Input(shape=(2,), name='connectivity', dtype='int32')\n",
    "\n",
    "    # Squeeze the node graph and connectivity matrices\n",
    "    #  Keras makes all input arrays 2D, I find it easier to deal with them as 1D vectors\n",
    "    #  The squeeze operation removes the second dimension, and I use Kera's Lambda layer\n",
    "    #  to quickly wrap a simple Tensorflow function\n",
    "    squeeze = layers.Lambda(tf.squeeze, arguments={'axis': 1}, name='squeeze')\n",
    "    snode_graph_indices = squeeze(node_graph_indices)\n",
    "    satom_types = squeeze(atom_types)\n",
    "    sbond_types = squeeze(bond_types)\n",
    "    \n",
    "    # Generate initial features for each atom and bond using embeddings\n",
    "    atom_features = layers.Embedding(6, num_features, name='atom_embedding')(satom_types)\n",
    "    bond_features = layers.Embedding(4, num_features, name='bond_embedding')(sbond_types)\n",
    "    \n",
    "    # Perform a few message passing steps\n",
    "    message_layer = MessagePassingLayer(name='message_passing')\n",
    "    for _ in range(num_messages):\n",
    "        atom_features = message_layer(atom_features, bond_features, connectivity)\n",
    "        \n",
    "    # Reduce to a single set of features per molecule\n",
    "    mol_features = Readout(readout_type, name='readout')(atom_features, snode_graph_indices)\n",
    "    \n",
    "    # Create the output layer\n",
    "    output = layers.Dense(1, activation='linear', name='output')(mol_features)\n",
    "    \n",
    "    # Create the models by defining which layers are the inputs and which are the outputs\n",
    "    model = Model(inputs=[node_graph_indices, atom_types, bond_types, connectivity], outputs=output)\n",
    "    return model"
   ]
  },
  {
   "cell_type": "markdown",
   "id": "federal-helmet",
   "metadata": {},
   "source": [
    "## Aside: Plotting atomic features\n",
    "Showing what the learned features look like"
   ]
  },
  {
   "cell_type": "code",
   "execution_count": 6,
   "id": "opening-respondent",
   "metadata": {},
   "outputs": [],
   "source": [
    "model = make_model(2, 0)"
   ]
  },
  {
   "cell_type": "markdown",
   "id": "checked-house",
   "metadata": {},
   "source": [
    "Compile and fit the model"
   ]
  },
  {
   "cell_type": "code",
   "execution_count": 7,
   "id": "humanitarian-devon",
   "metadata": {},
   "outputs": [],
   "source": [
    "model.compile(optimizer='adam', loss='mean_squared_error')"
   ]
  },
  {
   "cell_type": "code",
   "execution_count": 8,
   "id": "miniature-slide",
   "metadata": {},
   "outputs": [
    {
     "name": "stdout",
     "output_type": "stream",
     "text": [
      "Epoch 1/8\n"
     ]
    },
    {
     "name": "stderr",
     "output_type": "stream",
     "text": [
      "/home/lward/miniconda3/envs/molml/lib/python3.7/site-packages/tensorflow/python/keras/engine/functional.py:543: UserWarning: Input dict contained keys ['n_atom', 'n_bond', 'bond_graph_indices'] which did not match any model input. They will be ignored by the model.\n",
      "  [n for n in tensors.keys() if n not in ref_input_names])\n"
     ]
    },
    {
     "name": "stdout",
     "output_type": "stream",
     "text": [
      "633/633 [==============================] - 1s 2ms/step - loss: 0.6388\n",
      "Epoch 2/8\n",
      "633/633 [==============================] - 1s 2ms/step - loss: 0.0037\n",
      "Epoch 3/8\n",
      "633/633 [==============================] - 1s 2ms/step - loss: 0.0026\n",
      "Epoch 4/8\n",
      "633/633 [==============================] - 1s 1ms/step - loss: 0.0020\n",
      "Epoch 5/8\n",
      "633/633 [==============================] - 1s 1ms/step - loss: 0.0017\n",
      "Epoch 6/8\n",
      "633/633 [==============================] - 1s 1ms/step - loss: 0.0017\n",
      "Epoch 7/8\n",
      "633/633 [==============================] - 1s 1ms/step - loss: 0.0017\n",
      "Epoch 8/8\n",
      "633/633 [==============================] - 1s 1ms/step - loss: 0.0017\n"
     ]
    },
    {
     "data": {
      "text/plain": [
       "<tensorflow.python.keras.callbacks.History at 0x7efd204dafd0>"
      ]
     },
     "execution_count": 8,
     "metadata": {},
     "output_type": "execute_result"
    }
   ],
   "source": [
    "model.fit(train_loader, epochs=8)"
   ]
  },
  {
   "cell_type": "markdown",
   "id": "interracial-requirement",
   "metadata": {},
   "source": [
    "Get the representation layer"
   ]
  },
  {
   "cell_type": "code",
   "execution_count": 9,
   "id": "alternative-madrid",
   "metadata": {},
   "outputs": [],
   "source": [
    "# Get the readout layer\n",
    "readout = model.get_layer('readout')\n",
    "\n",
    "# Make a model that takes the molecule as inputs (same as the current model)\n",
    "#  but outputs the inputs to the readout layer (which are the atomic features)\n",
    "rep_model = Model(inputs=model.inputs, outputs=readout.input)"
   ]
  },
  {
   "cell_type": "code",
   "execution_count": 10,
   "id": "soviet-block",
   "metadata": {},
   "outputs": [],
   "source": [
    "atom_reps = rep_model.predict(valid_loader)"
   ]
  },
  {
   "cell_type": "code",
   "execution_count": 11,
   "id": "focal-catering",
   "metadata": {},
   "outputs": [
    {
     "data": {
      "text/plain": [
       "<matplotlib.collections.PathCollection at 0x7efcec67bc10>"
      ]
     },
     "execution_count": 11,
     "metadata": {},
     "output_type": "execute_result"
    },
    {
     "data": {
      "image/png": "[encoded data removed]",
      "text/plain": [
       "<Figure size 252x252 with 1 Axes>"
      ]
     },
     "metadata": {
      "needs_background": "light"
     },
     "output_type": "display_data"
    }
   ],
   "source": [
    "fig, ax = plt.subplots(figsize=(3.5, 3.5))\n",
    "\n",
    "ax.scatter(atom_reps[:, 0], atom_reps[:, 1])"
   ]
  },
  {
   "cell_type": "markdown",
   "id": "upper-setting",
   "metadata": {},
   "source": [
    "Repeat the process with layers with 0, 1 and 2 layers"
   ]
  },
  {
   "cell_type": "code",
   "execution_count": 12,
   "id": "marine-millennium",
   "metadata": {},
   "outputs": [],
   "source": [
    "atom_reps = {0: atom_reps}"
   ]
  },
  {
   "cell_type": "code",
   "execution_count": 13,
   "id": "hired-armor",
   "metadata": {},
   "outputs": [
    {
     "name": "stderr",
     "output_type": "stream",
     "text": [
      "/home/lward/miniconda3/envs/molml/lib/python3.7/site-packages/tensorflow/python/framework/indexed_slices.py:432: UserWarning: Converting sparse IndexedSlices to a dense Tensor of unknown shape. This may consume a large amount of memory.\n",
      "  \"Converting sparse IndexedSlices to a dense Tensor of unknown shape. \"\n"
     ]
    }
   ],
   "source": [
    "for i in [1, 2]:\n",
    "    # Make and fit the model\n",
    "    model = make_model(2, i)\n",
    "    model.compile(optimizer='adam', loss='mean_squared_error')\n",
    "    model.fit(train_loader, epochs=8, verbose=False)\n",
    "    \n",
    "    # Get the representations\n",
    "    readout = model.get_layer('readout')\n",
    "    rep_model = Model(inputs=model.inputs, outputs=readout.input)\n",
    "    atom_reps[i] = rep_model.predict(valid_loader)"
   ]
  },
  {
   "cell_type": "markdown",
   "id": "introductory-cigarette",
   "metadata": {},
   "source": [
    "Plot the data"
   ]
  },
  {
   "cell_type": "code",
   "execution_count": 14,
   "id": "broke-museum",
   "metadata": {},
   "outputs": [
    {
     "data": {
      "image/png": "[encoded data removed]",
      "text/plain": [
       "<Figure size 468x180 with 3 Axes>"
      ]
     },
     "metadata": {
      "needs_background": "light"
     },
     "output_type": "display_data"
    }
   ],
   "source": [
    "fig, axs = plt.subplots(1, 3, figsize=(6.5, 2.5))\n",
    "\n",
    "for (key, reps), ax in zip(atom_reps.items(), axs):\n",
    "    ax.scatter(reps[:, 0], reps[:, 1])\n",
    "    ax.set_title(f'Steps = {key}')\n",
    "    \n",
    "fig.tight_layout()"
   ]
  },
  {
   "cell_type": "markdown",
   "id": "typical-occasion",
   "metadata": {},
   "source": [
    "*Answer*: The clusters of atoms with different elements. Without message passing, we do not differentiate atoms based on their local neighborhood. Once we start message passing, the atom features are \"blurred\" by their neighboring atoms. That leads to clusters which get bigger as we continue to add message passing layers"
   ]
  },
  {
   "cell_type": "markdown",
   "id": "acceptable-bicycle",
   "metadata": {},
   "source": [
    "## Question 2: Train for real\n",
    "First step is to add a dense layer and a scaling layer"
   ]
  },
  {
   "cell_type": "code",
   "execution_count": 15,
   "id": "instant-mortality",
   "metadata": {},
   "outputs": [],
   "source": [
    "def make_model(num_features: int, num_messages: int, readout_type: str = 'sum'):\n",
    "    \"\"\"Build an MPNN\n",
    "    \n",
    "    Args:\n",
    "        num_features: Number of features to use to describe each atom and bond\n",
    "        num_messages: Number of message passing steps\n",
    "        readout_type: Function sued for the readout\n",
    "    Returns:\n",
    "        Keras models that generate molecule property\n",
    "    \"\"\"\n",
    "    \n",
    "    # The first step is to define which inputs to expand and their shapes/types\n",
    "    node_graph_indices = layers.Input(shape=(1,), name='node_graph_indices', dtype='int32')\n",
    "    atom_types = layers.Input(shape=(1,), name='atom', dtype='int32')\n",
    "    bond_types = layers.Input(shape=(1,), name='bond', dtype='int32')\n",
    "    connectivity = layers.Input(shape=(2,), name='connectivity', dtype='int32')\n",
    "\n",
    "    # Squeeze the node graph and connectivity matrices\n",
    "    #  Keras makes all input arrays 2D, I find it easier to deal with them as 1D vectors\n",
    "    #  The squeeze operation removes the second dimension, and I use Kera's Lambda layer\n",
    "    #  to quickly wrap a simple Tensorflow function\n",
    "    squeeze = layers.Lambda(tf.squeeze, arguments={'axis': 1}, name='squeeze')\n",
    "    snode_graph_indices = squeeze(node_graph_indices)\n",
    "    satom_types = squeeze(atom_types)\n",
    "    sbond_types = squeeze(bond_types)\n",
    "    \n",
    "    # Generate initial features for each atom and bond using embeddings\n",
    "    atom_features = layers.Embedding(6, num_features, name='atom_embedding')(satom_types)\n",
    "    bond_features = layers.Embedding(4, num_features, name='bond_embedding')(sbond_types)\n",
    "    \n",
    "    # Perform a few message passing steps\n",
    "    message_layer = MessagePassingLayer(name='message_passing')\n",
    "    for _ in range(num_messages):\n",
    "        atom_features = message_layer(atom_features, bond_features, connectivity)\n",
    "        \n",
    "    # Reduce to a single set of features per molecule\n",
    "    mol_features = Readout(readout_type, name='readout')(atom_features, snode_graph_indices)\n",
    "    \n",
    "    # Dense layer\n",
    "    dense = layers.Dense(32, activation='relu', name='dense')(mol_features)\n",
    "    \n",
    "    # Create the output layer\n",
    "    output = layers.Dense(1, activation='linear', name='output')(dense)\n",
    "    \n",
    "    # Scaling layer\n",
    "    scale = Scaling(name='scaling')\n",
    "    output = scale(output)\n",
    "    \n",
    "    # Create the models by defining which layers are the inputs and which are the outputs\n",
    "    model = Model(inputs=[node_graph_indices, atom_types, bond_types, connectivity], outputs=output)\n",
    "    return model"
   ]
  },
  {
   "cell_type": "code",
   "execution_count": 16,
   "id": "fatal-specific",
   "metadata": {},
   "outputs": [],
   "source": [
    "model = make_model(64, 2)"
   ]
  },
  {
   "cell_type": "code",
   "execution_count": 17,
   "id": "confidential-cartridge",
   "metadata": {},
   "outputs": [
    {
     "name": "stdout",
     "output_type": "stream",
     "text": [
      "Model: \"functional_13\"\n",
      "__________________________________________________________________________________________________\n",
      "Layer (type)                    Output Shape         Param #     Connected to                     \n",
      "==================================================================================================\n",
      "atom (InputLayer)               [(None, 1)]          0                                            \n",
      "__________________________________________________________________________________________________\n",
      "bond (InputLayer)               [(None, 1)]          0                                            \n",
      "__________________________________________________________________________________________________\n",
      "squeeze (Lambda)                (None,)              0           node_graph_indices[0][0]         \n",
      "                                                                 atom[0][0]                       \n",
      "                                                                 bond[0][0]                       \n",
      "__________________________________________________________________________________________________\n",
      "atom_embedding (Embedding)      (None, 64)           384         squeeze[1][0]                    \n",
      "__________________________________________________________________________________________________\n",
      "bond_embedding (Embedding)      (None, 64)           256         squeeze[2][0]                    \n",
      "__________________________________________________________________________________________________\n",
      "connectivity (InputLayer)       [(None, 2)]          0                                            \n",
      "__________________________________________________________________________________________________\n",
      "message_passing (MessagePassing (None, 64)           0           atom_embedding[0][0]             \n",
      "                                                                 bond_embedding[0][0]             \n",
      "                                                                 connectivity[0][0]               \n",
      "                                                                 message_passing[0][0]            \n",
      "                                                                 bond_embedding[0][0]             \n",
      "                                                                 connectivity[0][0]               \n",
      "__________________________________________________________________________________________________\n",
      "node_graph_indices (InputLayer) [(None, 1)]          0                                            \n",
      "__________________________________________________________________________________________________\n",
      "readout (Readout)               (None, 64)           0           message_passing[1][0]            \n",
      "                                                                 squeeze[0][0]                    \n",
      "__________________________________________________________________________________________________\n",
      "dense (Dense)                   (None, 32)           2080        readout[0][0]                    \n",
      "__________________________________________________________________________________________________\n",
      "output (Dense)                  (None, 1)            33          dense[0][0]                      \n",
      "__________________________________________________________________________________________________\n",
      "scaling (Scaling)               (None, 1)            2           output[0][0]                     \n",
      "==================================================================================================\n",
      "Total params: 2,755\n",
      "Trainable params: 2,755\n",
      "Non-trainable params: 0\n",
      "__________________________________________________________________________________________________\n"
     ]
    }
   ],
   "source": [
    "model.summary()"
   ]
  },
  {
   "cell_type": "markdown",
   "id": "complete-outside",
   "metadata": {},
   "source": [
    "Set the value of scaling layer"
   ]
  },
  {
   "cell_type": "code",
   "execution_count": 18,
   "id": "transsexual-crash",
   "metadata": {},
   "outputs": [],
   "source": [
    "_, outputs = next(iter(train_loader))"
   ]
  },
  {
   "cell_type": "code",
   "execution_count": 19,
   "id": "determined-remark",
   "metadata": {},
   "outputs": [],
   "source": [
    "scale = model.get_layer('scaling')\n",
    "scale.mean = outputs.numpy().mean()\n",
    "scale.std = outputs.numpy().std()"
   ]
  },
  {
   "cell_type": "markdown",
   "id": "secondary-console",
   "metadata": {},
   "source": [
    "Fit using early stopping"
   ]
  },
  {
   "cell_type": "code",
   "execution_count": 20,
   "id": "aware-secretariat",
   "metadata": {},
   "outputs": [],
   "source": [
    "cbs = [callbacks.EarlyStopping(patience=8, restore_best_weights=True)]"
   ]
  },
  {
   "cell_type": "code",
   "execution_count": 21,
   "id": "negative-scanner",
   "metadata": {},
   "outputs": [
    {
     "name": "stdout",
     "output_type": "stream",
     "text": [
      "Epoch 1/128\n",
      "633/633 [==============================] - 3s 5ms/step - loss: 0.0307 - val_loss: 0.0220\n",
      "Epoch 2/128\n",
      "633/633 [==============================] - 3s 4ms/step - loss: 0.0229 - val_loss: 0.0171\n",
      "Epoch 3/128\n",
      "633/633 [==============================] - 3s 5ms/step - loss: 0.0159 - val_loss: 0.0134\n",
      "Epoch 4/128\n",
      "633/633 [==============================] - 3s 5ms/step - loss: 0.0092 - val_loss: 0.0058\n",
      "Epoch 5/128\n",
      "633/633 [==============================] - 4s 6ms/step - loss: 0.0041 - val_loss: 0.0026\n",
      "Epoch 6/128\n",
      "633/633 [==============================] - 4s 6ms/step - loss: 0.0018 - val_loss: 0.0012\n",
      "Epoch 7/128\n",
      "633/633 [==============================] - 3s 5ms/step - loss: 0.0011 - val_loss: 0.0010\n",
      "Epoch 8/128\n",
      "633/633 [==============================] - 3s 5ms/step - loss: 0.0011 - val_loss: 9.0076e-04\n",
      "Epoch 9/128\n",
      "633/633 [==============================] - 3s 4ms/step - loss: 9.9137e-04 - val_loss: 8.7171e-04\n",
      "Epoch 10/128\n",
      "633/633 [==============================] - 4s 6ms/step - loss: 9.4207e-04 - val_loss: 0.0011\n",
      "Epoch 11/128\n",
      "633/633 [==============================] - 3s 5ms/step - loss: 9.9005e-04 - val_loss: 8.6149e-04\n",
      "Epoch 12/128\n",
      "633/633 [==============================] - 3s 4ms/step - loss: 9.2762e-04 - val_loss: 9.9741e-04\n",
      "Epoch 13/128\n",
      "633/633 [==============================] - 3s 4ms/step - loss: 8.8808e-04 - val_loss: 0.0010\n",
      "Epoch 14/128\n",
      "633/633 [==============================] - 3s 4ms/step - loss: 9.2458e-04 - val_loss: 8.1460e-04\n",
      "Epoch 15/128\n",
      "633/633 [==============================] - 3s 4ms/step - loss: 9.0535e-04 - val_loss: 7.9702e-04\n",
      "Epoch 16/128\n",
      "633/633 [==============================] - 3s 4ms/step - loss: 8.7691e-04 - val_loss: 0.0012\n",
      "Epoch 17/128\n",
      "633/633 [==============================] - 3s 4ms/step - loss: 8.7776e-04 - val_loss: 8.2023e-04\n",
      "Epoch 18/128\n",
      "633/633 [==============================] - 3s 4ms/step - loss: 9.1895e-04 - val_loss: 7.9811e-04\n",
      "Epoch 19/128\n",
      "633/633 [==============================] - 3s 4ms/step - loss: 8.6950e-04 - val_loss: 7.8320e-04\n",
      "Epoch 20/128\n",
      "633/633 [==============================] - 3s 4ms/step - loss: 8.1269e-04 - val_loss: 0.0010\n",
      "Epoch 21/128\n",
      "633/633 [==============================] - 3s 4ms/step - loss: 8.5972e-04 - val_loss: 8.0443e-04\n",
      "Epoch 22/128\n",
      "633/633 [==============================] - 3s 4ms/step - loss: 8.0918e-04 - val_loss: 8.6869e-04\n",
      "Epoch 23/128\n",
      "633/633 [==============================] - 3s 4ms/step - loss: 8.2919e-04 - val_loss: 0.0010\n",
      "Epoch 24/128\n",
      "633/633 [==============================] - 3s 4ms/step - loss: 7.8231e-04 - val_loss: 7.7756e-04\n",
      "Epoch 25/128\n",
      "633/633 [==============================] - 3s 4ms/step - loss: 7.7865e-04 - val_loss: 8.7106e-04\n",
      "Epoch 26/128\n",
      "633/633 [==============================] - 3s 4ms/step - loss: 8.5599e-04 - val_loss: 8.1132e-04\n",
      "Epoch 27/128\n",
      "633/633 [==============================] - 3s 4ms/step - loss: 7.4177e-04 - val_loss: 0.0019\n",
      "Epoch 28/128\n",
      "633/633 [==============================] - 3s 4ms/step - loss: 7.8147e-04 - val_loss: 8.7948e-04\n",
      "Epoch 29/128\n",
      "633/633 [==============================] - 3s 4ms/step - loss: 7.5137e-04 - val_loss: 0.0011\n",
      "Epoch 30/128\n",
      "633/633 [==============================] - 3s 4ms/step - loss: 7.9793e-04 - val_loss: 7.9136e-04\n",
      "Epoch 31/128\n",
      "633/633 [==============================] - 3s 4ms/step - loss: 7.3237e-04 - val_loss: 7.5383e-04\n",
      "Epoch 32/128\n",
      "633/633 [==============================] - 3s 4ms/step - loss: 7.7957e-04 - val_loss: 7.7331e-04\n",
      "Epoch 33/128\n",
      "633/633 [==============================] - 3s 4ms/step - loss: 7.8235e-04 - val_loss: 8.9896e-04\n",
      "Epoch 34/128\n",
      "633/633 [==============================] - 3s 4ms/step - loss: 7.3541e-04 - val_loss: 9.6643e-04\n",
      "Epoch 35/128\n",
      "633/633 [==============================] - 3s 4ms/step - loss: 7.4117e-04 - val_loss: 7.4179e-04\n",
      "Epoch 36/128\n",
      "633/633 [==============================] - 3s 4ms/step - loss: 7.5886e-04 - val_loss: 7.3081e-04\n",
      "Epoch 37/128\n",
      "633/633 [==============================] - 3s 4ms/step - loss: 7.3834e-04 - val_loss: 8.1818e-04\n",
      "Epoch 38/128\n",
      "633/633 [==============================] - 3s 4ms/step - loss: 7.4826e-04 - val_loss: 7.2107e-04\n",
      "Epoch 39/128\n",
      "633/633 [==============================] - 3s 4ms/step - loss: 7.2088e-04 - val_loss: 8.5420e-04\n",
      "Epoch 40/128\n",
      "633/633 [==============================] - 3s 4ms/step - loss: 7.3881e-04 - val_loss: 0.0015\n",
      "Epoch 41/128\n",
      "633/633 [==============================] - 3s 4ms/step - loss: 7.3878e-04 - val_loss: 6.9996e-04\n",
      "Epoch 42/128\n",
      "633/633 [==============================] - 2s 4ms/step - loss: 7.5308e-04 - val_loss: 7.3473e-04\n",
      "Epoch 43/128\n",
      "633/633 [==============================] - 3s 5ms/step - loss: 7.0542e-04 - val_loss: 6.9336e-04\n",
      "Epoch 44/128\n",
      "633/633 [==============================] - 3s 4ms/step - loss: 7.0432e-04 - val_loss: 7.5860e-04\n",
      "Epoch 45/128\n",
      "633/633 [==============================] - 3s 5ms/step - loss: 7.1146e-04 - val_loss: 0.0014\n",
      "Epoch 46/128\n",
      "633/633 [==============================] - 3s 5ms/step - loss: 7.3198e-04 - val_loss: 8.0538e-04\n",
      "Epoch 47/128\n",
      "633/633 [==============================] - 3s 4ms/step - loss: 7.3961e-04 - val_loss: 7.9917e-04\n",
      "Epoch 48/128\n",
      "633/633 [==============================] - 3s 4ms/step - loss: 6.8942e-04 - val_loss: 7.0235e-04\n",
      "Epoch 49/128\n",
      "633/633 [==============================] - 3s 5ms/step - loss: 7.0560e-04 - val_loss: 7.1617e-04\n",
      "Epoch 50/128\n",
      "633/633 [==============================] - 4s 6ms/step - loss: 7.3271e-04 - val_loss: 8.5800e-04\n",
      "Epoch 51/128\n",
      "633/633 [==============================] - 4s 6ms/step - loss: 7.0323e-04 - val_loss: 0.0012\n"
     ]
    },
    {
     "data": {
      "text/plain": [
       "<tensorflow.python.keras.callbacks.History at 0x7efcd40be550>"
      ]
     },
     "execution_count": 21,
     "metadata": {},
     "output_type": "execute_result"
    }
   ],
   "source": [
    "model.compile('adam', loss='mean_squared_error')\n",
    "model.fit(train_loader, epochs=128, verbose=True, validation_data=valid_loader, callbacks=cbs)"
   ]
  },
  {
   "cell_type": "markdown",
   "id": "helpful-nevada",
   "metadata": {},
   "source": [
    "Evaluate on the test set"
   ]
  },
  {
   "cell_type": "code",
   "execution_count": 22,
   "id": "choice-entrepreneur",
   "metadata": {},
   "outputs": [
    {
     "name": "stdout",
     "output_type": "stream",
     "text": [
      "79/79 [==============================] - 0s 3ms/step - loss: 5.8394e-04\n"
     ]
    }
   ],
   "source": [
    "test_loss = model.evaluate(test_loader)"
   ]
  },
  {
   "cell_type": "code",
   "execution_count": 23,
   "id": "looking-flooring",
   "metadata": {},
   "outputs": [],
   "source": [
    "results = [{'messages': 2, 'loss': test_loss}]"
   ]
  },
  {
   "cell_type": "markdown",
   "id": "international-battle",
   "metadata": {},
   "source": [
    "Repeat for other network sizes"
   ]
  },
  {
   "cell_type": "code",
   "execution_count": 24,
   "id": "massive-administrator",
   "metadata": {},
   "outputs": [
    {
     "name": "stderr",
     "output_type": "stream",
     "text": [
      "100%|██████████| 4/4 [04:25<00:00, 66.29s/it]\n"
     ]
    }
   ],
   "source": [
    "for n in tqdm([0, 1, 4, 8]):\n",
    "    # Make the model\n",
    "    model = make_model(64, n)\n",
    "    \n",
    "    # Set the scale later\n",
    "    scale = model.get_layer('scaling')\n",
    "    scale.mean = outputs.numpy().mean()\n",
    "    scale.std = outputs.numpy().std()\n",
    "    \n",
    "    # Train the model\n",
    "    model.compile('adam', loss='mean_squared_error')\n",
    "    model.fit(train_loader, epochs=128, verbose=False, validation_data=valid_loader, callbacks=cbs)\n",
    "    \n",
    "    # Score the model\n",
    "    results.append({\n",
    "        'messages': n,\n",
    "        'loss': model.evaluate(test_loader, verbose=False)\n",
    "    })"
   ]
  },
  {
   "cell_type": "markdown",
   "id": "hungry-brand",
   "metadata": {},
   "source": [
    "Plot the dependence on number of message passing layers"
   ]
  },
  {
   "cell_type": "code",
   "execution_count": 25,
   "id": "available-domestic",
   "metadata": {},
   "outputs": [
    {
     "data": {
      "text/plain": [
       "Text(0, 0.5, 'Test loss')"
      ]
     },
     "execution_count": 25,
     "metadata": {},
     "output_type": "execute_result"
    },
    {
     "data": {
      "image/png": "[encoded data removed]",
      "text/plain": [
       "<Figure size 432x288 with 1 Axes>"
      ]
     },
     "metadata": {
      "needs_background": "light"
     },
     "output_type": "display_data"
    }
   ],
   "source": [
    "fig, ax = plt.subplots()\n",
    "\n",
    "results = pd.DataFrame(results).sort_values('messages')\n",
    "\n",
    "ax.plot(results['messages'], results['loss'], '--o')\n",
    "\n",
    "ax.set_xlabel('Num Layers')\n",
    "ax.set_ylabel('Test loss')"
   ]
  },
  {
   "cell_type": "markdown",
   "id": "available-elizabeth",
   "metadata": {},
   "source": [
    "*Answer*: The accuracy improves until 4 layers. Our model is not able to benefit from complexity above that."
   ]
  },
  {
   "cell_type": "markdown",
   "id": "favorite-sodium",
   "metadata": {},
   "source": [
    "## Question 3: Explore readout layers\n",
    "See how `u0` and `bandgap` require different readouts"
   ]
  },
  {
   "cell_type": "code",
   "execution_count": 26,
   "id": "strategic-folks",
   "metadata": {},
   "outputs": [
    {
     "name": "stderr",
     "output_type": "stream",
     "text": [
      "  0%|          | 0/2 [00:00<?, ?it/s]/home/lward/miniconda3/envs/molml/lib/python3.7/site-packages/tensorflow/python/keras/engine/functional.py:543: UserWarning: Input dict contained keys ['n_atom', 'n_bond', 'bond_graph_indices'] which did not match any model input. They will be ignored by the model.\n",
      "  [n for n in tensors.keys() if n not in ref_input_names])\n",
      "/home/lward/miniconda3/envs/molml/lib/python3.7/site-packages/tensorflow/python/framework/indexed_slices.py:432: UserWarning: Converting sparse IndexedSlices to a dense Tensor of unknown shape. This may consume a large amount of memory.\n",
      "  \"Converting sparse IndexedSlices to a dense Tensor of unknown shape. \"\n",
      "100%|██████████| 2/2 [08:29<00:00, 254.94s/it]\n"
     ]
    }
   ],
   "source": [
    "results = []\n",
    "for prop in tqdm(['u0_atom', 'bandgap']):\n",
    "    # Make the data loaders\n",
    "    train_loader = make_data_loader('../datasets/train_data.proto', batch_size=64, shuffle_buffer=8192, output_property=prop)\n",
    "    valid_loader = make_data_loader('../datasets/valid_data.proto', batch_size=64, output_property=prop)\n",
    "    test_loader = make_data_loader('../datasets/test_data.proto', batch_size=64, output_property=prop)\n",
    "    \n",
    "    # Get the true values\n",
    "    y_true = np.concatenate([x[1] for x in test_loader])\n",
    "    \n",
    "    # Test different network designs\n",
    "    for r in ['sum', 'max']:\n",
    "        # Make the model\n",
    "        model = make_model(64, 4, r)\n",
    "\n",
    "        # Set the scale later\n",
    "        _, outputs = next(iter(train_loader))\n",
    "        scale = model.get_layer('scaling')\n",
    "        scale.mean = outputs.numpy().mean()\n",
    "        scale.std = outputs.numpy().std()\n",
    "\n",
    "        # Train the model\n",
    "        model.compile('adam', loss='mean_squared_error')\n",
    "        model.fit(train_loader, epochs=128, verbose=False, validation_data=valid_loader, callbacks=cbs)\n",
    "\n",
    "        # Score the model\n",
    "        results.append({\n",
    "            'property': prop,\n",
    "            'readout': r,\n",
    "            'y_true': y_true,\n",
    "            'y_pred': model.predict(test_loader)[:, 0]\n",
    "        })"
   ]
  },
  {
   "cell_type": "code",
   "execution_count": 27,
   "id": "fundamental-librarian",
   "metadata": {},
   "outputs": [],
   "source": [
    "results = pd.DataFrame(results)"
   ]
  },
  {
   "cell_type": "markdown",
   "id": "polish-angola",
   "metadata": {},
   "source": [
    "Plot the predicted versus actual"
   ]
  },
  {
   "cell_type": "code",
   "execution_count": 28,
   "id": "amended-folks",
   "metadata": {},
   "outputs": [
    {
     "data": {
      "image/png": "[encoded data removed]",
      "text/plain": [
       "<Figure size 432x288 with 4 Axes>"
      ]
     },
     "metadata": {
      "needs_background": "light"
     },
     "output_type": "display_data"
    }
   ],
   "source": [
    "fig, axxs = plt.subplots(2, 2, sharey='row')\n",
    "\n",
    "for (prop, group), axs in zip(results.groupby('property'), axxs):\n",
    "    for (readout, record), ax in zip(group.groupby('readout'), axs):\n",
    "        record = record.iloc[0]\n",
    "        ax.scatter(record['y_true'], record['y_pred'])\n",
    "        mae=np.abs(record['y_true'] - record['y_pred']).mean()\n",
    "        \n",
    "        # Make it pretty\n",
    "        ax.text(0.05, 0.75, f'{prop}: {readout}\\nMAE: {mae:.3f}', transform=ax.transAxes)\n",
    "        ax.set_xlim([np.concatenate(record[['y_true', 'y_pred']]).min(),\n",
    "                     np.concatenate(record[['y_true', 'y_pred']]).max()])\n",
    "        ax.set_ylim(ax.get_xlim())\n",
    "        \n",
    "        ax.plot(ax.get_xlim(), ax.get_xlim(), 'k--')\n",
    "        \n",
    "\n",
    "# Add some labels\n",
    "axxs[0, 0].set_title('Readout: Softmax')\n",
    "axxs[0, 1].set_title('Readout: Summation')\n",
    "\n",
    "axxs[0, 0].set_ylabel('Bandgap, True (Ha)')\n",
    "axxs[1, 0].set_ylabel('Energy, True (Ha)')\n",
    "\n",
    "for ax in axxs[1, :]:\n",
    "    ax.set_xlabel('ML Prediction (Ha)')\n",
    "   \n",
    "fig.tight_layout()"
   ]
  },
  {
   "cell_type": "code",
   "execution_count": 29,
   "id": "settled-howard",
   "metadata": {},
   "outputs": [],
   "source": [
    "results['mae'] = results.apply(lambda x: np.abs(x['y_pred'] - x['y_true']).mean(), axis=1)"
   ]
  },
  {
   "cell_type": "code",
   "execution_count": 30,
   "id": "animal-reception",
   "metadata": {},
   "outputs": [
    {
     "data": {
      "text/html": [
       "<div>\n",
       "<style scoped>\n",
       "    .dataframe tbody tr th:only-of-type {\n",
       "        vertical-align: middle;\n",
       "    }\n",
       "\n",
       "    .dataframe tbody tr th {\n",
       "        vertical-align: top;\n",
       "    }\n",
       "\n",
       "    .dataframe thead th {\n",
       "        text-align: right;\n",
       "    }\n",
       "</style>\n",
       "<table border=\"1\" class=\"dataframe\">\n",
       "  <thead>\n",
       "    <tr style=\"text-align: right;\">\n",
       "      <th></th>\n",
       "      <th>property</th>\n",
       "      <th>readout</th>\n",
       "      <th>y_true</th>\n",
       "      <th>y_pred</th>\n",
       "      <th>mae</th>\n",
       "    </tr>\n",
       "  </thead>\n",
       "  <tbody>\n",
       "    <tr>\n",
       "      <th>0</th>\n",
       "      <td>u0_atom</td>\n",
       "      <td>sum</td>\n",
       "      <td>[-2.964215, -2.91219, -2.276578, -2.414455, -2...</td>\n",
       "      <td>[-2.9121647, -2.9080532, -2.2949958, -2.413934...</td>\n",
       "      <td>0.021371</td>\n",
       "    </tr>\n",
       "    <tr>\n",
       "      <th>1</th>\n",
       "      <td>u0_atom</td>\n",
       "      <td>max</td>\n",
       "      <td>[-2.964215, -2.91219, -2.276578, -2.414455, -2...</td>\n",
       "      <td>[-2.9225144, -3.3470438, -2.4179542, -2.280081...</td>\n",
       "      <td>0.105063</td>\n",
       "    </tr>\n",
       "    <tr>\n",
       "      <th>2</th>\n",
       "      <td>bandgap</td>\n",
       "      <td>sum</td>\n",
       "      <td>[0.3134, 0.3242, 0.2296, 0.2251, 0.2216, 0.176...</td>\n",
       "      <td>[0.30633554, 0.31457192, 0.20872626, 0.2518227...</td>\n",
       "      <td>0.014267</td>\n",
       "    </tr>\n",
       "    <tr>\n",
       "      <th>3</th>\n",
       "      <td>bandgap</td>\n",
       "      <td>max</td>\n",
       "      <td>[0.3134, 0.3242, 0.2296, 0.2251, 0.2216, 0.176...</td>\n",
       "      <td>[0.30489665, 0.32449967, 0.23743603, 0.2178953...</td>\n",
       "      <td>0.011369</td>\n",
       "    </tr>\n",
       "  </tbody>\n",
       "</table>\n",
       "</div>"
      ],
      "text/plain": [
       "  property readout                                             y_true  \\\n",
       "0  u0_atom     sum  [-2.964215, -2.91219, -2.276578, -2.414455, -2...   \n",
       "1  u0_atom     max  [-2.964215, -2.91219, -2.276578, -2.414455, -2...   \n",
       "2  bandgap     sum  [0.3134, 0.3242, 0.2296, 0.2251, 0.2216, 0.176...   \n",
       "3  bandgap     max  [0.3134, 0.3242, 0.2296, 0.2251, 0.2216, 0.176...   \n",
       "\n",
       "                                              y_pred       mae  \n",
       "0  [-2.9121647, -2.9080532, -2.2949958, -2.413934...  0.021371  \n",
       "1  [-2.9225144, -3.3470438, -2.4179542, -2.280081...  0.105063  \n",
       "2  [0.30633554, 0.31457192, 0.20872626, 0.2518227...  0.014267  \n",
       "3  [0.30489665, 0.32449967, 0.23743603, 0.2178953...  0.011369  "
      ]
     },
     "execution_count": 30,
     "metadata": {},
     "output_type": "execute_result"
    }
   ],
   "source": [
    "results"
   ]
  },
  {
   "cell_type": "markdown",
   "id": "compatible-entity",
   "metadata": {},
   "source": [
    "*Answer*:\n",
    "- Softmax works by finding\n",
    "- Softmax performs better for bandgap prediction, but worse for the atomization energy.. What it does is find the atom that has the largest feature output the "
   ]
  }
 ],
 "metadata": {
  "kernelspec": {
   "display_name": "Python 3",
   "language": "python",
   "name": "python3"
  },
  "language_info": {
   "codemirror_mode": {
    "name": "ipython",
    "version": 3
   },
   "file_extension": ".py",
   "mimetype": "text/x-python",
   "name": "python",
   "nbconvert_exporter": "python",
   "pygments_lexer": "ipython3",
   "version": "3.7.9"
  }
 },
 "nbformat": 4,
 "nbformat_minor": 5
}
